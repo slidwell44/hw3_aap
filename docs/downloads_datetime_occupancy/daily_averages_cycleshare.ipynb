{
 "cells": [
  {
   "cell_type": "markdown",
   "metadata": {},
   "source": [
    "# Computing daily averages from transaction data using pandas can be tricky - Part 1\n",
    "\n",
    "A few years ago I watched an [interesting talk at PyCon 2018 on subtleties involved in computing time related averages](https://www.youtube.com/watch?v=DlgG0QdrqAU) using pandas and SQL. While the talk raised some interesting points, it reminded me of another important \"gotcha\" related to computing such statistics. \n",
    "\n",
    "We'll use the `trip.csv` datafile from the [Pronto Cycleshare Dataset](https://www.kaggle.com/pronto/cycle-share-dataset). \n",
    "\n",
    "Our goal is to compute statistics such as the average number of bikes rented per day, both overall and for individual stations. Seems easy. We'll see."
   ]
  },
  {
   "cell_type": "code",
   "execution_count": 1,
   "metadata": {},
   "outputs": [],
   "source": [
    "import pandas as pd"
   ]
  },
  {
   "cell_type": "code",
   "execution_count": 2,
   "metadata": {},
   "outputs": [],
   "source": [
    "trip = pd.read_csv('data/trip.csv', parse_dates = ['starttime', 'stoptime'])"
   ]
  },
  {
   "cell_type": "code",
   "execution_count": 3,
   "metadata": {},
   "outputs": [
    {
     "name": "stdout",
     "output_type": "stream",
     "text": [
      "<class 'pandas.core.frame.DataFrame'>\n",
      "RangeIndex: 236065 entries, 0 to 236064\n",
      "Data columns (total 12 columns):\n",
      " #   Column             Non-Null Count   Dtype         \n",
      "---  ------             --------------   -----         \n",
      " 0   trip_id            236065 non-null  int64         \n",
      " 1   starttime          236065 non-null  datetime64[ns]\n",
      " 2   stoptime           236065 non-null  datetime64[ns]\n",
      " 3   bikeid             236065 non-null  object        \n",
      " 4   tripduration       236065 non-null  float64       \n",
      " 5   from_station_name  236065 non-null  object        \n",
      " 6   to_station_name    236065 non-null  object        \n",
      " 7   from_station_id    236065 non-null  object        \n",
      " 8   to_station_id      236065 non-null  object        \n",
      " 9   usertype           236065 non-null  object        \n",
      " 10  gender             146171 non-null  object        \n",
      " 11  birthyear          146167 non-null  float64       \n",
      "dtypes: datetime64[ns](2), float64(2), int64(1), object(7)\n",
      "memory usage: 21.6+ MB\n"
     ]
    }
   ],
   "source": [
    "trip.info()"
   ]
  },
  {
   "cell_type": "code",
   "execution_count": 4,
   "metadata": {},
   "outputs": [
    {
     "data": {
      "text/html": [
       "<div>\n",
       "<style scoped>\n",
       "    .dataframe tbody tr th:only-of-type {\n",
       "        vertical-align: middle;\n",
       "    }\n",
       "\n",
       "    .dataframe tbody tr th {\n",
       "        vertical-align: top;\n",
       "    }\n",
       "\n",
       "    .dataframe thead th {\n",
       "        text-align: right;\n",
       "    }\n",
       "</style>\n",
       "<table border=\"1\" class=\"dataframe\">\n",
       "  <thead>\n",
       "    <tr style=\"text-align: right;\">\n",
       "      <th></th>\n",
       "      <th>trip_id</th>\n",
       "      <th>starttime</th>\n",
       "      <th>stoptime</th>\n",
       "      <th>bikeid</th>\n",
       "      <th>tripduration</th>\n",
       "      <th>from_station_name</th>\n",
       "      <th>to_station_name</th>\n",
       "      <th>from_station_id</th>\n",
       "      <th>to_station_id</th>\n",
       "      <th>usertype</th>\n",
       "      <th>gender</th>\n",
       "      <th>birthyear</th>\n",
       "    </tr>\n",
       "  </thead>\n",
       "  <tbody>\n",
       "    <tr>\n",
       "      <th>0</th>\n",
       "      <td>431</td>\n",
       "      <td>2014-10-13 10:31:00</td>\n",
       "      <td>2014-10-13 10:48:00</td>\n",
       "      <td>SEA00298</td>\n",
       "      <td>985.935</td>\n",
       "      <td>2nd Ave &amp; Spring St</td>\n",
       "      <td>Occidental Park / Occidental Ave S &amp; S Washing...</td>\n",
       "      <td>CBD-06</td>\n",
       "      <td>PS-04</td>\n",
       "      <td>Member</td>\n",
       "      <td>Male</td>\n",
       "      <td>1960.0</td>\n",
       "    </tr>\n",
       "    <tr>\n",
       "      <th>1</th>\n",
       "      <td>432</td>\n",
       "      <td>2014-10-13 10:32:00</td>\n",
       "      <td>2014-10-13 10:48:00</td>\n",
       "      <td>SEA00195</td>\n",
       "      <td>926.375</td>\n",
       "      <td>2nd Ave &amp; Spring St</td>\n",
       "      <td>Occidental Park / Occidental Ave S &amp; S Washing...</td>\n",
       "      <td>CBD-06</td>\n",
       "      <td>PS-04</td>\n",
       "      <td>Member</td>\n",
       "      <td>Male</td>\n",
       "      <td>1970.0</td>\n",
       "    </tr>\n",
       "    <tr>\n",
       "      <th>2</th>\n",
       "      <td>433</td>\n",
       "      <td>2014-10-13 10:33:00</td>\n",
       "      <td>2014-10-13 10:48:00</td>\n",
       "      <td>SEA00486</td>\n",
       "      <td>883.831</td>\n",
       "      <td>2nd Ave &amp; Spring St</td>\n",
       "      <td>Occidental Park / Occidental Ave S &amp; S Washing...</td>\n",
       "      <td>CBD-06</td>\n",
       "      <td>PS-04</td>\n",
       "      <td>Member</td>\n",
       "      <td>Female</td>\n",
       "      <td>1988.0</td>\n",
       "    </tr>\n",
       "    <tr>\n",
       "      <th>3</th>\n",
       "      <td>434</td>\n",
       "      <td>2014-10-13 10:34:00</td>\n",
       "      <td>2014-10-13 10:48:00</td>\n",
       "      <td>SEA00333</td>\n",
       "      <td>865.937</td>\n",
       "      <td>2nd Ave &amp; Spring St</td>\n",
       "      <td>Occidental Park / Occidental Ave S &amp; S Washing...</td>\n",
       "      <td>CBD-06</td>\n",
       "      <td>PS-04</td>\n",
       "      <td>Member</td>\n",
       "      <td>Female</td>\n",
       "      <td>1977.0</td>\n",
       "    </tr>\n",
       "    <tr>\n",
       "      <th>4</th>\n",
       "      <td>435</td>\n",
       "      <td>2014-10-13 10:34:00</td>\n",
       "      <td>2014-10-13 10:49:00</td>\n",
       "      <td>SEA00202</td>\n",
       "      <td>923.923</td>\n",
       "      <td>2nd Ave &amp; Spring St</td>\n",
       "      <td>Occidental Park / Occidental Ave S &amp; S Washing...</td>\n",
       "      <td>CBD-06</td>\n",
       "      <td>PS-04</td>\n",
       "      <td>Member</td>\n",
       "      <td>Male</td>\n",
       "      <td>1971.0</td>\n",
       "    </tr>\n",
       "  </tbody>\n",
       "</table>\n",
       "</div>"
      ],
      "text/plain": [
       "   trip_id           starttime            stoptime    bikeid  tripduration  \\\n",
       "0      431 2014-10-13 10:31:00 2014-10-13 10:48:00  SEA00298       985.935   \n",
       "1      432 2014-10-13 10:32:00 2014-10-13 10:48:00  SEA00195       926.375   \n",
       "2      433 2014-10-13 10:33:00 2014-10-13 10:48:00  SEA00486       883.831   \n",
       "3      434 2014-10-13 10:34:00 2014-10-13 10:48:00  SEA00333       865.937   \n",
       "4      435 2014-10-13 10:34:00 2014-10-13 10:49:00  SEA00202       923.923   \n",
       "\n",
       "     from_station_name                                    to_station_name  \\\n",
       "0  2nd Ave & Spring St  Occidental Park / Occidental Ave S & S Washing...   \n",
       "1  2nd Ave & Spring St  Occidental Park / Occidental Ave S & S Washing...   \n",
       "2  2nd Ave & Spring St  Occidental Park / Occidental Ave S & S Washing...   \n",
       "3  2nd Ave & Spring St  Occidental Park / Occidental Ave S & S Washing...   \n",
       "4  2nd Ave & Spring St  Occidental Park / Occidental Ave S & S Washing...   \n",
       "\n",
       "  from_station_id to_station_id usertype  gender  birthyear  \n",
       "0          CBD-06         PS-04   Member    Male     1960.0  \n",
       "1          CBD-06         PS-04   Member    Male     1970.0  \n",
       "2          CBD-06         PS-04   Member  Female     1988.0  \n",
       "3          CBD-06         PS-04   Member  Female     1977.0  \n",
       "4          CBD-06         PS-04   Member    Male     1971.0  "
      ]
     },
     "execution_count": 4,
     "metadata": {},
     "output_type": "execute_result"
    }
   ],
   "source": [
    "trip.head()"
   ]
  },
  {
   "cell_type": "code",
   "execution_count": 5,
   "metadata": {},
   "outputs": [
    {
     "data": {
      "text/html": [
       "<div>\n",
       "<style scoped>\n",
       "    .dataframe tbody tr th:only-of-type {\n",
       "        vertical-align: middle;\n",
       "    }\n",
       "\n",
       "    .dataframe tbody tr th {\n",
       "        vertical-align: top;\n",
       "    }\n",
       "\n",
       "    .dataframe thead th {\n",
       "        text-align: right;\n",
       "    }\n",
       "</style>\n",
       "<table border=\"1\" class=\"dataframe\">\n",
       "  <thead>\n",
       "    <tr style=\"text-align: right;\">\n",
       "      <th></th>\n",
       "      <th>trip_id</th>\n",
       "      <th>starttime</th>\n",
       "      <th>stoptime</th>\n",
       "      <th>bikeid</th>\n",
       "      <th>tripduration</th>\n",
       "      <th>from_station_name</th>\n",
       "      <th>to_station_name</th>\n",
       "      <th>from_station_id</th>\n",
       "      <th>to_station_id</th>\n",
       "      <th>usertype</th>\n",
       "      <th>gender</th>\n",
       "      <th>birthyear</th>\n",
       "    </tr>\n",
       "  </thead>\n",
       "  <tbody>\n",
       "    <tr>\n",
       "      <th>236060</th>\n",
       "      <td>255241</td>\n",
       "      <td>2016-08-31 23:34:00</td>\n",
       "      <td>2016-08-31 23:45:00</td>\n",
       "      <td>SEA00201</td>\n",
       "      <td>679.532</td>\n",
       "      <td>Harvard Ave &amp; E Pine St</td>\n",
       "      <td>2nd Ave &amp; Spring St</td>\n",
       "      <td>CH-09</td>\n",
       "      <td>CBD-06</td>\n",
       "      <td>Short-Term Pass Holder</td>\n",
       "      <td>NaN</td>\n",
       "      <td>NaN</td>\n",
       "    </tr>\n",
       "    <tr>\n",
       "      <th>236061</th>\n",
       "      <td>255242</td>\n",
       "      <td>2016-08-31 23:48:00</td>\n",
       "      <td>2016-09-01 00:20:00</td>\n",
       "      <td>SEA00247</td>\n",
       "      <td>1965.418</td>\n",
       "      <td>Cal Anderson Park / 11th Ave &amp; Pine St</td>\n",
       "      <td>6th Ave S &amp; S King St</td>\n",
       "      <td>CH-08</td>\n",
       "      <td>ID-04</td>\n",
       "      <td>Short-Term Pass Holder</td>\n",
       "      <td>NaN</td>\n",
       "      <td>NaN</td>\n",
       "    </tr>\n",
       "    <tr>\n",
       "      <th>236062</th>\n",
       "      <td>255243</td>\n",
       "      <td>2016-08-31 23:47:00</td>\n",
       "      <td>2016-09-01 00:20:00</td>\n",
       "      <td>SEA00300</td>\n",
       "      <td>1951.173</td>\n",
       "      <td>Cal Anderson Park / 11th Ave &amp; Pine St</td>\n",
       "      <td>6th Ave S &amp; S King St</td>\n",
       "      <td>CH-08</td>\n",
       "      <td>ID-04</td>\n",
       "      <td>Short-Term Pass Holder</td>\n",
       "      <td>NaN</td>\n",
       "      <td>NaN</td>\n",
       "    </tr>\n",
       "    <tr>\n",
       "      <th>236063</th>\n",
       "      <td>255244</td>\n",
       "      <td>2016-08-31 23:49:00</td>\n",
       "      <td>2016-09-01 00:20:00</td>\n",
       "      <td>SEA00047</td>\n",
       "      <td>1883.299</td>\n",
       "      <td>Cal Anderson Park / 11th Ave &amp; Pine St</td>\n",
       "      <td>6th Ave S &amp; S King St</td>\n",
       "      <td>CH-08</td>\n",
       "      <td>ID-04</td>\n",
       "      <td>Short-Term Pass Holder</td>\n",
       "      <td>NaN</td>\n",
       "      <td>NaN</td>\n",
       "    </tr>\n",
       "    <tr>\n",
       "      <th>236064</th>\n",
       "      <td>255245</td>\n",
       "      <td>2016-08-31 23:49:00</td>\n",
       "      <td>2016-09-01 00:20:00</td>\n",
       "      <td>SEA00442</td>\n",
       "      <td>1896.031</td>\n",
       "      <td>Cal Anderson Park / 11th Ave &amp; Pine St</td>\n",
       "      <td>6th Ave S &amp; S King St</td>\n",
       "      <td>CH-08</td>\n",
       "      <td>ID-04</td>\n",
       "      <td>Short-Term Pass Holder</td>\n",
       "      <td>NaN</td>\n",
       "      <td>NaN</td>\n",
       "    </tr>\n",
       "  </tbody>\n",
       "</table>\n",
       "</div>"
      ],
      "text/plain": [
       "        trip_id           starttime            stoptime    bikeid  \\\n",
       "236060   255241 2016-08-31 23:34:00 2016-08-31 23:45:00  SEA00201   \n",
       "236061   255242 2016-08-31 23:48:00 2016-09-01 00:20:00  SEA00247   \n",
       "236062   255243 2016-08-31 23:47:00 2016-09-01 00:20:00  SEA00300   \n",
       "236063   255244 2016-08-31 23:49:00 2016-09-01 00:20:00  SEA00047   \n",
       "236064   255245 2016-08-31 23:49:00 2016-09-01 00:20:00  SEA00442   \n",
       "\n",
       "        tripduration                       from_station_name  \\\n",
       "236060       679.532                 Harvard Ave & E Pine St   \n",
       "236061      1965.418  Cal Anderson Park / 11th Ave & Pine St   \n",
       "236062      1951.173  Cal Anderson Park / 11th Ave & Pine St   \n",
       "236063      1883.299  Cal Anderson Park / 11th Ave & Pine St   \n",
       "236064      1896.031  Cal Anderson Park / 11th Ave & Pine St   \n",
       "\n",
       "              to_station_name from_station_id to_station_id  \\\n",
       "236060    2nd Ave & Spring St           CH-09        CBD-06   \n",
       "236061  6th Ave S & S King St           CH-08         ID-04   \n",
       "236062  6th Ave S & S King St           CH-08         ID-04   \n",
       "236063  6th Ave S & S King St           CH-08         ID-04   \n",
       "236064  6th Ave S & S King St           CH-08         ID-04   \n",
       "\n",
       "                      usertype gender  birthyear  \n",
       "236060  Short-Term Pass Holder    NaN        NaN  \n",
       "236061  Short-Term Pass Holder    NaN        NaN  \n",
       "236062  Short-Term Pass Holder    NaN        NaN  \n",
       "236063  Short-Term Pass Holder    NaN        NaN  \n",
       "236064  Short-Term Pass Holder    NaN        NaN  "
      ]
     },
     "execution_count": 5,
     "metadata": {},
     "output_type": "execute_result"
    }
   ],
   "source": [
    "trip.tail()"
   ]
  },
  {
   "cell_type": "markdown",
   "metadata": {},
   "source": [
    "# What is the average number of bike rentals per day?\n",
    "\n",
    "Seems like a pretty simple and straightforward question. We've got one row for each bike rental - let's call them trips."
   ]
  },
  {
   "cell_type": "markdown",
   "metadata": {},
   "source": [
    "## A first attempt\n",
    "Let's start by counting the number of trips per date and then we can simply do an average. Hmm, we don't actually\n",
    "have a trip date field, we've got the detailed trip datetimes for when bike was checked out and when returned. Let's add a trip date column.\n",
    "\n",
    "Notice we are using the `dt` *accessor* which makes it easy to get at date and time related properties of datetime data."
   ]
  },
  {
   "cell_type": "code",
   "execution_count": 6,
   "metadata": {},
   "outputs": [],
   "source": [
    "trip['tripdate'] = trip['starttime'].dt.date"
   ]
  },
  {
   "cell_type": "markdown",
   "metadata": {},
   "source": [
    "Group by `tripdate` and count the records."
   ]
  },
  {
   "cell_type": "code",
   "execution_count": 7,
   "metadata": {},
   "outputs": [
    {
     "data": {
      "text/html": [
       "<div>\n",
       "<style scoped>\n",
       "    .dataframe tbody tr th:only-of-type {\n",
       "        vertical-align: middle;\n",
       "    }\n",
       "\n",
       "    .dataframe tbody tr th {\n",
       "        vertical-align: top;\n",
       "    }\n",
       "\n",
       "    .dataframe thead th {\n",
       "        text-align: right;\n",
       "    }\n",
       "</style>\n",
       "<table border=\"1\" class=\"dataframe\">\n",
       "  <thead>\n",
       "    <tr style=\"text-align: right;\">\n",
       "      <th></th>\n",
       "      <th>num_trips</th>\n",
       "    </tr>\n",
       "    <tr>\n",
       "      <th>tripdate</th>\n",
       "      <th></th>\n",
       "    </tr>\n",
       "  </thead>\n",
       "  <tbody>\n",
       "    <tr>\n",
       "      <th>2014-10-13</th>\n",
       "      <td>409</td>\n",
       "    </tr>\n",
       "    <tr>\n",
       "      <th>2014-10-14</th>\n",
       "      <td>491</td>\n",
       "    </tr>\n",
       "    <tr>\n",
       "      <th>2014-10-15</th>\n",
       "      <td>313</td>\n",
       "    </tr>\n",
       "    <tr>\n",
       "      <th>2014-10-16</th>\n",
       "      <td>395</td>\n",
       "    </tr>\n",
       "    <tr>\n",
       "      <th>2014-10-17</th>\n",
       "      <td>294</td>\n",
       "    </tr>\n",
       "    <tr>\n",
       "      <th>...</th>\n",
       "      <td>...</td>\n",
       "    </tr>\n",
       "    <tr>\n",
       "      <th>2016-08-27</th>\n",
       "      <td>333</td>\n",
       "    </tr>\n",
       "    <tr>\n",
       "      <th>2016-08-28</th>\n",
       "      <td>392</td>\n",
       "    </tr>\n",
       "    <tr>\n",
       "      <th>2016-08-29</th>\n",
       "      <td>369</td>\n",
       "    </tr>\n",
       "    <tr>\n",
       "      <th>2016-08-30</th>\n",
       "      <td>375</td>\n",
       "    </tr>\n",
       "    <tr>\n",
       "      <th>2016-08-31</th>\n",
       "      <td>319</td>\n",
       "    </tr>\n",
       "  </tbody>\n",
       "</table>\n",
       "<p>689 rows × 1 columns</p>\n",
       "</div>"
      ],
      "text/plain": [
       "            num_trips\n",
       "tripdate             \n",
       "2014-10-13        409\n",
       "2014-10-14        491\n",
       "2014-10-15        313\n",
       "2014-10-16        395\n",
       "2014-10-17        294\n",
       "...               ...\n",
       "2016-08-27        333\n",
       "2016-08-28        392\n",
       "2016-08-29        369\n",
       "2016-08-30        375\n",
       "2016-08-31        319\n",
       "\n",
       "[689 rows x 1 columns]"
      ]
     },
     "execution_count": 7,
     "metadata": {},
     "output_type": "execute_result"
    }
   ],
   "source": [
    "# Create a Group by object using tripdate\n",
    "grp_date = trip.groupby('tripdate')\n",
    "\n",
    "# Compute number of trips by date and check out the result\n",
    "trips_by_date = pd.DataFrame(grp_date.size(), columns=['num_trips'])\n",
    "\n",
    "trips_by_date"
   ]
  },
  {
   "cell_type": "markdown",
   "metadata": {},
   "source": [
    "Now, can't we just compute an average of the `num_trips` column and that will be the average number of bike rentals per day?"
   ]
  },
  {
   "cell_type": "code",
   "execution_count": 8,
   "metadata": {},
   "outputs": [
    {
     "name": "stdout",
     "output_type": "stream",
     "text": [
      "The mean number of trips per day is 342.62. The mean is based on 689 tripdates.\n",
      "The beginning of the date range is 2014-10-13.\n",
      "The end of the date range is 2016-08-31.\n",
      "The are 689 days in the date range.\n"
     ]
    }
   ],
   "source": [
    "mean_trips = trips_by_date['num_trips'].mean()\n",
    "tot_tripdates = trips_by_date['num_trips'].count()\n",
    "num_days = (trips_by_date.index.max() - trips_by_date.index.min()).days + 1\n",
    "\n",
    "print(f\"The mean number of trips per day is {mean_trips:.2f}. The mean is based on {tot_tripdates} tripdates.\")\n",
    "print(f\"The beginning of the date range is {trips_by_date.index.min()}.\")\n",
    "print(f\"The end of the date range is {trips_by_date.index.max()}.\")\n",
    "print(f\"The are {num_days} days in the date range.\")"
   ]
  },
  {
   "cell_type": "markdown",
   "metadata": {},
   "source": [
    "You scan the counts, look at the average, looks reasonable. And, yes, in this case, this is the correct average number of daily bike trips.\n",
    "\n",
    "Now, let's change the question slightly. \n",
    "\n",
    "**What is the average number of daily trips that originate at Station CH-06?**\n",
    "\n",
    "Let's use the same approach, but just consider trips where `from_station_id == 'CH-06'`. "
   ]
  },
  {
   "cell_type": "code",
   "execution_count": 9,
   "metadata": {},
   "outputs": [
    {
     "name": "stdout",
     "output_type": "stream",
     "text": [
      "The mean number of trips per day is 342.62. The mean is based on 653 tripdates.\n",
      "The beginning of the date range is 2014-10-13.\n",
      "The end of the date range is 2016-08-31.\n",
      "The are 689 days in the date range.\n"
     ]
    }
   ],
   "source": [
    "# Group by tripdate in the trip dataframe\n",
    "grp_date_CH06 = trip[(trip.from_station_id == 'CH-06')].groupby(['tripdate'])\n",
    "\n",
    "# Compute number of trips by date and check out the result\n",
    "trips_by_date_CH06 = pd.DataFrame(grp_date_CH06.size(), columns=['num_trips'])\n",
    "\n",
    "# Compute the average\n",
    "mean_trips_CH06 = trips_by_date_CH06['num_trips'].mean()\n",
    "tot_tripdates_CH06 = trips_by_date_CH06['num_trips'].count()\n",
    "num_days_CH06 = (trips_by_date_CH06.index.max() - trips_by_date_CH06.index.min()).days + 1\n",
    "\n",
    "print(\"The mean number of trips per day is {:.2f}. The mean is based on {} tripdates.\"\n",
    "      .format(mean_trips, tot_tripdates_CH06))\n",
    "print(\"The beginning of the date range is {}.\".format(trips_by_date_CH06.index.min()))\n",
    "print(\"The end of the date range is {}.\".format(trips_by_date_CH06.index.max()))\n",
    "print(\"The are {} days in the date range.\".format(num_days_CH06))"
   ]
  },
  {
   "cell_type": "markdown",
   "metadata": {},
   "source": [
    "Notice that the mean uses a denominator of 653 even though there are 689 days in the date range of interest. What's going on? I'm sure by now you've already figured out the issue - on a bunch of days (689 - 653 days to be exact), there were no bike trips out of Station CH-06. The `trips_by_date_CH06` dataframe has missing rows corresponding to these zero dates. By not including them, you will overestimate the average number of daily trips out of CH-06 (and underestimate measures of dispersion such as standard deviation). The denominator should have been 689, not 653. For low volume stations, this error could be quite substantial."
   ]
  },
  {
   "cell_type": "markdown",
   "metadata": {},
   "source": [
    "### **TAKE AWAY 1: You must account for \"zero days\" (i.e. dates with no activity).**"
   ]
  },
  {
   "cell_type": "markdown",
   "metadata": {},
   "source": [
    "There's another way that these zero days can affect the analysis. Let's consider a different station. I'm going to create a small function in which we can pass in the station id and get the stats."
   ]
  },
  {
   "cell_type": "code",
   "execution_count": 10,
   "metadata": {},
   "outputs": [],
   "source": [
    "def get_daily_avg_trips_1(station_id):\n",
    "    # Group by tripdate in the trip dataframe\n",
    "    grp_date = trip[(trip.from_station_id == station_id)].groupby(['tripdate'])\n",
    "\n",
    "    # Compute number of trips by date and check out the result\n",
    "    trips_by_date = pd.DataFrame(grp_date.size(), columns=['num_trips'])\n",
    "    trips_by_date['weekday'] = trips_by_date.index.map(lambda x: x.weekday())\n",
    "\n",
    "    # Compute the average\n",
    "    mean_trips = trips_by_date['num_trips'].mean()\n",
    "    tot_tripdates = trips_by_date['num_trips'].count()\n",
    "    num_days = (trips_by_date.index.max() - trips_by_date.index.min()).days + 1\n",
    "\n",
    "    print(\"The mean number of trips per day is {:.2f}. The mean is based on {} tripdates.\"\n",
    "          .format(mean_trips, tot_tripdates))\n",
    "    print(\"The beginning of the date range is {}.\".format(trips_by_date.index.min()))\n",
    "    print(\"The end of the date range is {}.\".format(trips_by_date.index.max()))\n",
    "    print(\"The are {} days in the date range.\".format(num_days))\n",
    "    \n",
    "    return trips_by_date"
   ]
  },
  {
   "cell_type": "markdown",
   "metadata": {},
   "source": [
    "Let's look at one of the low volume stations."
   ]
  },
  {
   "cell_type": "code",
   "execution_count": 11,
   "metadata": {},
   "outputs": [
    {
     "name": "stdout",
     "output_type": "stream",
     "text": [
      "The mean number of trips per day is 2.06. The mean is based on 233 tripdates.\n",
      "The beginning of the date range is 2014-10-14.\n",
      "The end of the date range is 2015-10-27.\n",
      "The are 379 days in the date range.\n"
     ]
    }
   ],
   "source": [
    "trips_by_date_1 = get_daily_avg_trips_1('UW-01')"
   ]
  },
  {
   "cell_type": "code",
   "execution_count": null,
   "metadata": {},
   "outputs": [],
   "source": [
    "trips_by_date_1['num_trips'].describe()"
   ]
  },
  {
   "cell_type": "markdown",
   "metadata": {},
   "source": [
    "So, there were at least one trip out of UW-01 on 233 days between 2014-10-13 and 2016-08-31. But notice that there were only 379 days in the `trips_by_date` dataframe (compare the min and max dates with the previous examples). So, what should the denominator be for computing the average number of trips per day? Well, if our *analysis timeframe* is still 2014-10-13 to 2016-08-31, the denominator should be 689. Notice, that for UW-01, there were no trips after 2015-10-27. Likely, the station was closed at that time. The appropriate analysis timeframe depends on the context of the analysis. If we want to know the average trip volume during the period the station was open, then the denominator should be 379 (or, 380 if we interpret 2014-10-13 as being a date the station was open but had zero rides). "
   ]
  },
  {
   "cell_type": "markdown",
   "metadata": {},
   "source": [
    "### **TAKE AWAY 2: You must appropriately specify the analysis timeframe and not simply rely on using earliest and latest dates seen in the dataset.**"
   ]
  },
  {
   "cell_type": "markdown",
   "metadata": {},
   "source": [
    "## Accounting for zero days and analysis timeframe\n",
    "\n",
    "### Example 1 - Full dataset, no zero days\n",
    "\n",
    "To begin, let's just compute the overall daily average number of bike trips for the time period 2014-10-13 and 2016-08-31. However, even though we know there was at least one trip on every date in that range, we won't assume that to be true."
   ]
  },
  {
   "cell_type": "markdown",
   "metadata": {},
   "source": [
    "Here's the basic strategy we will use:\n",
    "\n",
    "* Create a range of dates based on the start and end date of the time period of interest.\n",
    "* Create an empty DataFrame using the range of dates as the index. For convenience, add weekday column based on date to facility day of week analysis (remember, Monday-0, ..., Sunday = 6)\n",
    "* Let's call this new DataFrame the \"seeded\" DataFrame\n",
    "* Use groupby on the original trip DataFrame to compute number of trips by date and store result as DataFrame\n",
    "* Merge the two DataFrames on their indexes (tripdate) but do a \"left join\". Pandas `merge` function is perfect for this.\n",
    "* If there are dates with no trips, they'll have missing data in the new merged DataFrame.\n",
    "* Update the missing values to 0 using the `fillna` function in pandas.\n",
    "* Now you can compute overall mean number of trips per day. You could also compute means by day of week."
   ]
  },
  {
   "cell_type": "markdown",
   "metadata": {},
   "source": [
    "### Step 1: Create range of dates based on analysis timeframe"
   ]
  },
  {
   "cell_type": "code",
   "execution_count": 12,
   "metadata": {},
   "outputs": [
    {
     "data": {
      "text/plain": [
       "DatetimeIndex(['2014-10-13', '2014-10-14', '2014-10-15', '2014-10-16',\n",
       "               '2014-10-17', '2014-10-18', '2014-10-19', '2014-10-20',\n",
       "               '2014-10-21', '2014-10-22',\n",
       "               ...\n",
       "               '2016-08-22', '2016-08-23', '2016-08-24', '2016-08-25',\n",
       "               '2016-08-26', '2016-08-27', '2016-08-28', '2016-08-29',\n",
       "               '2016-08-30', '2016-08-31'],\n",
       "              dtype='datetime64[ns]', length=689, freq='D')"
      ]
     },
     "execution_count": 12,
     "metadata": {},
     "output_type": "execute_result"
    }
   ],
   "source": [
    "# Create range of dates to use as an index\n",
    "start = pd.Timestamp(2014, 10, 13)\n",
    "end = pd.Timestamp(2016, 8, 31)\n",
    "rng = pd.date_range(start, end) # pandas has handy date_range() function. It's very flexible and powerful.\n",
    "rng"
   ]
  },
  {
   "cell_type": "markdown",
   "metadata": {},
   "source": [
    "### Step 2: Create an empty DataFrame using the range of dates as the index."
   ]
  },
  {
   "cell_type": "code",
   "execution_count": 13,
   "metadata": {},
   "outputs": [],
   "source": [
    "trips_by_date_seeded = pd.DataFrame(index=rng)"
   ]
  },
  {
   "cell_type": "code",
   "execution_count": 14,
   "metadata": {},
   "outputs": [
    {
     "data": {
      "text/html": [
       "<div>\n",
       "<style scoped>\n",
       "    .dataframe tbody tr th:only-of-type {\n",
       "        vertical-align: middle;\n",
       "    }\n",
       "\n",
       "    .dataframe tbody tr th {\n",
       "        vertical-align: top;\n",
       "    }\n",
       "\n",
       "    .dataframe thead th {\n",
       "        text-align: right;\n",
       "    }\n",
       "</style>\n",
       "<table border=\"1\" class=\"dataframe\">\n",
       "  <thead>\n",
       "    <tr style=\"text-align: right;\">\n",
       "      <th></th>\n",
       "      <th>weekday</th>\n",
       "    </tr>\n",
       "  </thead>\n",
       "  <tbody>\n",
       "    <tr>\n",
       "      <th>2014-10-13</th>\n",
       "      <td>0</td>\n",
       "    </tr>\n",
       "    <tr>\n",
       "      <th>2014-10-14</th>\n",
       "      <td>1</td>\n",
       "    </tr>\n",
       "    <tr>\n",
       "      <th>2014-10-15</th>\n",
       "      <td>2</td>\n",
       "    </tr>\n",
       "    <tr>\n",
       "      <th>2014-10-16</th>\n",
       "      <td>3</td>\n",
       "    </tr>\n",
       "    <tr>\n",
       "      <th>2014-10-17</th>\n",
       "      <td>4</td>\n",
       "    </tr>\n",
       "  </tbody>\n",
       "</table>\n",
       "</div>"
      ],
      "text/plain": [
       "            weekday\n",
       "2014-10-13        0\n",
       "2014-10-14        1\n",
       "2014-10-15        2\n",
       "2014-10-16        3\n",
       "2014-10-17        4"
      ]
     },
     "execution_count": 14,
     "metadata": {},
     "output_type": "execute_result"
    }
   ],
   "source": [
    "# Add weekday column to new dataframe\n",
    "trips_by_date_seeded['weekday'] = trips_by_date_seeded.index.map(lambda x: x.weekday())\n",
    "trips_by_date_seeded.head()"
   ]
  },
  {
   "cell_type": "markdown",
   "metadata": {},
   "source": [
    "### Step 3: Use groupby on the original trip DataFrame to compute number of trips by date "
   ]
  },
  {
   "cell_type": "code",
   "execution_count": 15,
   "metadata": {},
   "outputs": [],
   "source": [
    "# Create a Group by object using tripdate\n",
    "grp_date = trip.groupby(['tripdate'])\n",
    "\n",
    "# Compute number of trips by date and check out the result\n",
    "trips_by_date = pd.DataFrame(grp_date.size(), columns=['num_trips'])"
   ]
  },
  {
   "cell_type": "markdown",
   "metadata": {},
   "source": [
    "### Step 4: Merge the two DataFrames on their indexes (tripdate) but do a \"left join\". \n",
    "\n",
    "Pandas `merge` function is perfect for this.\n",
    "\n",
    "The `left_index=True, right_index=True` are telling pandas to use those respective indexes\n",
    "as the joining columns. Check out the documentation for `merge()`.\n",
    "\n",
    "http://pandas.pydata.org/pandas-docs/stable/merging.html#database-style-dataframe-joining-merging"
   ]
  },
  {
   "cell_type": "code",
   "execution_count": 16,
   "metadata": {},
   "outputs": [],
   "source": [
    "# Merge the two dataframes doing a left join (with seeded table on left)\n",
    "trips_by_date_merged = pd.merge(trips_by_date_seeded, trips_by_date, how='left', \n",
    "      left_index=True, right_index=True, sort=True)"
   ]
  },
  {
   "cell_type": "code",
   "execution_count": 17,
   "metadata": {},
   "outputs": [
    {
     "data": {
      "text/html": [
       "<div>\n",
       "<style scoped>\n",
       "    .dataframe tbody tr th:only-of-type {\n",
       "        vertical-align: middle;\n",
       "    }\n",
       "\n",
       "    .dataframe tbody tr th {\n",
       "        vertical-align: top;\n",
       "    }\n",
       "\n",
       "    .dataframe thead th {\n",
       "        text-align: right;\n",
       "    }\n",
       "</style>\n",
       "<table border=\"1\" class=\"dataframe\">\n",
       "  <thead>\n",
       "    <tr style=\"text-align: right;\">\n",
       "      <th></th>\n",
       "      <th>weekday</th>\n",
       "      <th>num_trips</th>\n",
       "    </tr>\n",
       "  </thead>\n",
       "  <tbody>\n",
       "    <tr>\n",
       "      <th>2014-10-13</th>\n",
       "      <td>0</td>\n",
       "      <td>409</td>\n",
       "    </tr>\n",
       "    <tr>\n",
       "      <th>2014-10-14</th>\n",
       "      <td>1</td>\n",
       "      <td>491</td>\n",
       "    </tr>\n",
       "    <tr>\n",
       "      <th>2014-10-15</th>\n",
       "      <td>2</td>\n",
       "      <td>313</td>\n",
       "    </tr>\n",
       "    <tr>\n",
       "      <th>2014-10-16</th>\n",
       "      <td>3</td>\n",
       "      <td>395</td>\n",
       "    </tr>\n",
       "    <tr>\n",
       "      <th>2014-10-17</th>\n",
       "      <td>4</td>\n",
       "      <td>294</td>\n",
       "    </tr>\n",
       "  </tbody>\n",
       "</table>\n",
       "</div>"
      ],
      "text/plain": [
       "            weekday  num_trips\n",
       "2014-10-13        0        409\n",
       "2014-10-14        1        491\n",
       "2014-10-15        2        313\n",
       "2014-10-16        3        395\n",
       "2014-10-17        4        294"
      ]
     },
     "execution_count": 17,
     "metadata": {},
     "output_type": "execute_result"
    }
   ],
   "source": [
    "trips_by_date_merged.head()"
   ]
  },
  {
   "cell_type": "markdown",
   "metadata": {},
   "source": [
    "### Step 5: Replace missing values with zeroes for those dates with no trips\n",
    "\n",
    "If there are dates with no trips, they'll have missing data in the new merged DataFrame. Update the missing values to 0 using the `fillna` function in pandas."
   ]
  },
  {
   "cell_type": "code",
   "execution_count": 18,
   "metadata": {},
   "outputs": [],
   "source": [
    "# Fill in any missing values with 0.\n",
    "trips_by_date_merged['num_trips'] = trips_by_date_merged['num_trips'].fillna(0)"
   ]
  },
  {
   "cell_type": "markdown",
   "metadata": {},
   "source": [
    "### Step 6: Compute statistics of interest\n",
    "\n",
    "Now we can safely compute means and other statistics of interest for the `num_trips` column. "
   ]
  },
  {
   "cell_type": "code",
   "execution_count": 19,
   "metadata": {},
   "outputs": [
    {
     "data": {
      "text/plain": [
       "count    689.000000\n",
       "mean     342.619739\n",
       "std      154.855214\n",
       "min       30.000000\n",
       "25%      230.000000\n",
       "50%      325.000000\n",
       "75%      440.000000\n",
       "max      941.000000\n",
       "Name: num_trips, dtype: float64"
      ]
     },
     "execution_count": 19,
     "metadata": {},
     "output_type": "execute_result"
    }
   ],
   "source": [
    "trips_by_date_merged['num_trips'].describe()"
   ]
  },
  {
   "cell_type": "markdown",
   "metadata": {},
   "source": [
    "Of course, in this case the stats are the same as we'd have gotten just by doing the naive thing since we have no dates with zero trips."
   ]
  },
  {
   "cell_type": "code",
   "execution_count": 20,
   "metadata": {},
   "outputs": [
    {
     "data": {
      "text/plain": [
       "count    689.000000\n",
       "mean     342.619739\n",
       "std      154.855214\n",
       "min       30.000000\n",
       "25%      230.000000\n",
       "50%      325.000000\n",
       "75%      440.000000\n",
       "max      941.000000\n",
       "Name: num_trips, dtype: float64"
      ]
     },
     "execution_count": 20,
     "metadata": {},
     "output_type": "execute_result"
    }
   ],
   "source": [
    "trips_by_date['num_trips'].describe()"
   ]
  },
  {
   "cell_type": "markdown",
   "metadata": {},
   "source": [
    "Can even do by day of week."
   ]
  },
  {
   "cell_type": "code",
   "execution_count": 21,
   "metadata": {},
   "outputs": [
    {
     "data": {
      "text/html": [
       "<div>\n",
       "<style scoped>\n",
       "    .dataframe tbody tr th:only-of-type {\n",
       "        vertical-align: middle;\n",
       "    }\n",
       "\n",
       "    .dataframe tbody tr th {\n",
       "        vertical-align: top;\n",
       "    }\n",
       "\n",
       "    .dataframe thead th {\n",
       "        text-align: right;\n",
       "    }\n",
       "</style>\n",
       "<table border=\"1\" class=\"dataframe\">\n",
       "  <thead>\n",
       "    <tr style=\"text-align: right;\">\n",
       "      <th></th>\n",
       "      <th>count</th>\n",
       "      <th>mean</th>\n",
       "      <th>std</th>\n",
       "      <th>min</th>\n",
       "      <th>25%</th>\n",
       "      <th>50%</th>\n",
       "      <th>75%</th>\n",
       "      <th>max</th>\n",
       "    </tr>\n",
       "    <tr>\n",
       "      <th>weekday</th>\n",
       "      <th></th>\n",
       "      <th></th>\n",
       "      <th></th>\n",
       "      <th></th>\n",
       "      <th></th>\n",
       "      <th></th>\n",
       "      <th></th>\n",
       "      <th></th>\n",
       "    </tr>\n",
       "  </thead>\n",
       "  <tbody>\n",
       "    <tr>\n",
       "      <th>0</th>\n",
       "      <td>99.0</td>\n",
       "      <td>350.545455</td>\n",
       "      <td>150.141516</td>\n",
       "      <td>88.0</td>\n",
       "      <td>237.50</td>\n",
       "      <td>323.0</td>\n",
       "      <td>426.50</td>\n",
       "      <td>941.0</td>\n",
       "    </tr>\n",
       "    <tr>\n",
       "      <th>1</th>\n",
       "      <td>99.0</td>\n",
       "      <td>353.767677</td>\n",
       "      <td>127.199653</td>\n",
       "      <td>127.0</td>\n",
       "      <td>255.50</td>\n",
       "      <td>340.0</td>\n",
       "      <td>426.00</td>\n",
       "      <td>672.0</td>\n",
       "    </tr>\n",
       "    <tr>\n",
       "      <th>2</th>\n",
       "      <td>99.0</td>\n",
       "      <td>356.191919</td>\n",
       "      <td>136.239636</td>\n",
       "      <td>118.0</td>\n",
       "      <td>258.50</td>\n",
       "      <td>333.0</td>\n",
       "      <td>442.50</td>\n",
       "      <td>663.0</td>\n",
       "    </tr>\n",
       "    <tr>\n",
       "      <th>3</th>\n",
       "      <td>98.0</td>\n",
       "      <td>368.591837</td>\n",
       "      <td>150.174389</td>\n",
       "      <td>96.0</td>\n",
       "      <td>256.00</td>\n",
       "      <td>338.0</td>\n",
       "      <td>483.00</td>\n",
       "      <td>667.0</td>\n",
       "    </tr>\n",
       "    <tr>\n",
       "      <th>4</th>\n",
       "      <td>98.0</td>\n",
       "      <td>365.591837</td>\n",
       "      <td>148.187387</td>\n",
       "      <td>62.0</td>\n",
       "      <td>248.25</td>\n",
       "      <td>346.0</td>\n",
       "      <td>468.00</td>\n",
       "      <td>700.0</td>\n",
       "    </tr>\n",
       "    <tr>\n",
       "      <th>5</th>\n",
       "      <td>98.0</td>\n",
       "      <td>323.714286</td>\n",
       "      <td>186.673816</td>\n",
       "      <td>37.0</td>\n",
       "      <td>153.25</td>\n",
       "      <td>310.0</td>\n",
       "      <td>453.75</td>\n",
       "      <td>793.0</td>\n",
       "    </tr>\n",
       "    <tr>\n",
       "      <th>6</th>\n",
       "      <td>98.0</td>\n",
       "      <td>279.602041</td>\n",
       "      <td>163.969682</td>\n",
       "      <td>30.0</td>\n",
       "      <td>133.00</td>\n",
       "      <td>261.5</td>\n",
       "      <td>402.75</td>\n",
       "      <td>754.0</td>\n",
       "    </tr>\n",
       "  </tbody>\n",
       "</table>\n",
       "</div>"
      ],
      "text/plain": [
       "         count        mean         std    min     25%    50%     75%    max\n",
       "weekday                                                                    \n",
       "0         99.0  350.545455  150.141516   88.0  237.50  323.0  426.50  941.0\n",
       "1         99.0  353.767677  127.199653  127.0  255.50  340.0  426.00  672.0\n",
       "2         99.0  356.191919  136.239636  118.0  258.50  333.0  442.50  663.0\n",
       "3         98.0  368.591837  150.174389   96.0  256.00  338.0  483.00  667.0\n",
       "4         98.0  365.591837  148.187387   62.0  248.25  346.0  468.00  700.0\n",
       "5         98.0  323.714286  186.673816   37.0  153.25  310.0  453.75  793.0\n",
       "6         98.0  279.602041  163.969682   30.0  133.00  261.5  402.75  754.0"
      ]
     },
     "execution_count": 21,
     "metadata": {},
     "output_type": "execute_result"
    }
   ],
   "source": [
    "trips_by_date_merged.groupby(['weekday'])['num_trips'].describe()"
   ]
  },
  {
   "cell_type": "markdown",
   "metadata": {},
   "source": [
    "### Example 2 - Average number of rentals per day at individual station\n",
    "\n",
    "As we saw earlier, station CH-06 had 36 days in which there were no trips originating at this station. Again we'll create a small function to implement our strategy. Notice that the start and end dates for the analysis are input parameters to the function. Determining these dates is something that should be done before attempting to compute statistics. Again, the \"right\" analysis timeframe depends on the analysis being done."
   ]
  },
  {
   "cell_type": "code",
   "execution_count": 22,
   "metadata": {},
   "outputs": [],
   "source": [
    "def get_daily_avg_trips_2(station_id, start_date, end_date):\n",
    "    \n",
    "    # Step 1: Create range of dates based on analysis timeframe\n",
    "    rng = pd.date_range(start_date, end_date)\n",
    "    \n",
    "    # Step 2: Create an empty DataFrame using the range of dates as the index.\n",
    "    trips_by_date_seeded = pd.DataFrame(index=rng)\n",
    "    # Add weekday column to new dataframe\n",
    "    trips_by_date_seeded['weekday'] = trips_by_date_seeded.index.map(lambda x: x.weekday())\n",
    "    \n",
    "    # Step 3: Use groupby on the original trip DataFrame to compute number of trips by date\n",
    "    grp_date = trip[(trip.from_station_id == station_id)].groupby(['tripdate'])\n",
    "    # Compute number of trips by date \n",
    "    trips_by_date = pd.DataFrame(grp_date.size(), columns=['num_trips'])\n",
    "\n",
    "    # Step 4: Merge the two DataFrames on their indexes (tripdate) but do a \"left join\". \n",
    "    trips_by_date_merged = pd.merge(trips_by_date_seeded, trips_by_date, how='left', \n",
    "      left_index=True, right_index=True, sort=True)\n",
    "    \n",
    "    # Step 5: Replace missing values with zeroes for those dates with no trips\n",
    "    trips_by_date_merged['num_trips'] = trips_by_date_merged['num_trips'].fillna(0)\n",
    "    \n",
    "    \n",
    "    # Compute the average\n",
    "    mean_trips = trips_by_date_merged['num_trips'].mean()\n",
    "    tot_tripdates = trips_by_date_merged['num_trips'].count()\n",
    "    num_days = (trips_by_date_merged.index.max() - trips_by_date_merged.index.min()).days + 1\n",
    "\n",
    "    print(\"The mean number of trips per day is {:.2f}. The mean is based on {} tripdates.\"\n",
    "          .format(mean_trips, tot_tripdates))\n",
    "    print(\"The beginning of the date range is {}.\".format(trips_by_date_merged.index.min()))\n",
    "    print(\"The end of the date range is {}.\".format(trips_by_date_merged.index.max()))\n",
    "    print(\"The are {} days in the date range.\".format(num_days))\n",
    "    \n",
    "    return trips_by_date_merged"
   ]
  },
  {
   "cell_type": "markdown",
   "metadata": {},
   "source": [
    "Now let's compute statistics using the naive approach (`get_daily_avg_trips_1`) and the approach which takes zero days and the analysis timeframe into account (`get_daily_avg_trips_2`). We'll do it for Station CH-06."
   ]
  },
  {
   "cell_type": "code",
   "execution_count": 23,
   "metadata": {},
   "outputs": [],
   "source": [
    "station = 'CH-06'"
   ]
  },
  {
   "cell_type": "code",
   "execution_count": 24,
   "metadata": {},
   "outputs": [
    {
     "name": "stdout",
     "output_type": "stream",
     "text": [
      "The mean number of trips per day is 4.91. The mean is based on 653 tripdates.\n",
      "The beginning of the date range is 2014-10-13.\n",
      "The end of the date range is 2016-08-31.\n",
      "The are 689 days in the date range.\n"
     ]
    }
   ],
   "source": [
    "trips_by_date_1 = get_daily_avg_trips_1(station)"
   ]
  },
  {
   "cell_type": "code",
   "execution_count": 25,
   "metadata": {},
   "outputs": [
    {
     "name": "stdout",
     "output_type": "stream",
     "text": [
      "The mean number of trips per day is 4.65. The mean is based on 689 tripdates.\n",
      "The beginning of the date range is 2014-10-13 00:00:00.\n",
      "The end of the date range is 2016-08-31 00:00:00.\n",
      "The are 689 days in the date range.\n"
     ]
    }
   ],
   "source": [
    "start = pd.Timestamp(2014, 10, 13)\n",
    "end = pd.Timestamp(2016, 8, 31)\n",
    "trips_by_date_2 = get_daily_avg_trips_2(station, start, end)"
   ]
  },
  {
   "cell_type": "code",
   "execution_count": 26,
   "metadata": {},
   "outputs": [
    {
     "data": {
      "text/plain": [
       "count    653.000000\n",
       "mean       4.906585\n",
       "std        2.625179\n",
       "min        1.000000\n",
       "25%        3.000000\n",
       "50%        5.000000\n",
       "75%        6.000000\n",
       "max       14.000000\n",
       "Name: num_trips, dtype: float64"
      ]
     },
     "execution_count": 26,
     "metadata": {},
     "output_type": "execute_result"
    }
   ],
   "source": [
    "trips_by_date_1.num_trips.describe()"
   ]
  },
  {
   "cell_type": "code",
   "execution_count": 27,
   "metadata": {},
   "outputs": [
    {
     "data": {
      "text/plain": [
       "count    689.000000\n",
       "mean       4.650218\n",
       "std        2.779363\n",
       "min        0.000000\n",
       "25%        2.000000\n",
       "50%        5.000000\n",
       "75%        6.000000\n",
       "max       14.000000\n",
       "Name: num_trips, dtype: float64"
      ]
     },
     "execution_count": 27,
     "metadata": {},
     "output_type": "execute_result"
    }
   ],
   "source": [
    "trips_by_date_2.num_trips.describe()"
   ]
  },
  {
   "cell_type": "code",
   "execution_count": 28,
   "metadata": {},
   "outputs": [
    {
     "data": {
      "text/html": [
       "<div>\n",
       "<style scoped>\n",
       "    .dataframe tbody tr th:only-of-type {\n",
       "        vertical-align: middle;\n",
       "    }\n",
       "\n",
       "    .dataframe tbody tr th {\n",
       "        vertical-align: top;\n",
       "    }\n",
       "\n",
       "    .dataframe thead th {\n",
       "        text-align: right;\n",
       "    }\n",
       "</style>\n",
       "<table border=\"1\" class=\"dataframe\">\n",
       "  <thead>\n",
       "    <tr style=\"text-align: right;\">\n",
       "      <th></th>\n",
       "      <th>count</th>\n",
       "      <th>mean</th>\n",
       "      <th>std</th>\n",
       "      <th>min</th>\n",
       "      <th>25%</th>\n",
       "      <th>50%</th>\n",
       "      <th>75%</th>\n",
       "      <th>max</th>\n",
       "    </tr>\n",
       "    <tr>\n",
       "      <th>weekday</th>\n",
       "      <th></th>\n",
       "      <th></th>\n",
       "      <th></th>\n",
       "      <th></th>\n",
       "      <th></th>\n",
       "      <th></th>\n",
       "      <th></th>\n",
       "      <th></th>\n",
       "    </tr>\n",
       "  </thead>\n",
       "  <tbody>\n",
       "    <tr>\n",
       "      <th>0</th>\n",
       "      <td>97.0</td>\n",
       "      <td>5.134021</td>\n",
       "      <td>2.543901</td>\n",
       "      <td>1.0</td>\n",
       "      <td>3.0</td>\n",
       "      <td>5.0</td>\n",
       "      <td>7.00</td>\n",
       "      <td>14.0</td>\n",
       "    </tr>\n",
       "    <tr>\n",
       "      <th>1</th>\n",
       "      <td>94.0</td>\n",
       "      <td>5.382979</td>\n",
       "      <td>2.319188</td>\n",
       "      <td>1.0</td>\n",
       "      <td>4.0</td>\n",
       "      <td>5.0</td>\n",
       "      <td>6.00</td>\n",
       "      <td>14.0</td>\n",
       "    </tr>\n",
       "    <tr>\n",
       "      <th>2</th>\n",
       "      <td>95.0</td>\n",
       "      <td>5.357895</td>\n",
       "      <td>2.305940</td>\n",
       "      <td>1.0</td>\n",
       "      <td>4.0</td>\n",
       "      <td>5.0</td>\n",
       "      <td>7.00</td>\n",
       "      <td>11.0</td>\n",
       "    </tr>\n",
       "    <tr>\n",
       "      <th>3</th>\n",
       "      <td>94.0</td>\n",
       "      <td>5.765957</td>\n",
       "      <td>2.533329</td>\n",
       "      <td>1.0</td>\n",
       "      <td>4.0</td>\n",
       "      <td>5.0</td>\n",
       "      <td>7.00</td>\n",
       "      <td>13.0</td>\n",
       "    </tr>\n",
       "    <tr>\n",
       "      <th>4</th>\n",
       "      <td>95.0</td>\n",
       "      <td>5.494737</td>\n",
       "      <td>3.013705</td>\n",
       "      <td>1.0</td>\n",
       "      <td>3.0</td>\n",
       "      <td>6.0</td>\n",
       "      <td>7.00</td>\n",
       "      <td>13.0</td>\n",
       "    </tr>\n",
       "    <tr>\n",
       "      <th>5</th>\n",
       "      <td>88.0</td>\n",
       "      <td>3.750000</td>\n",
       "      <td>2.388911</td>\n",
       "      <td>1.0</td>\n",
       "      <td>2.0</td>\n",
       "      <td>3.0</td>\n",
       "      <td>5.25</td>\n",
       "      <td>11.0</td>\n",
       "    </tr>\n",
       "    <tr>\n",
       "      <th>6</th>\n",
       "      <td>90.0</td>\n",
       "      <td>3.300000</td>\n",
       "      <td>2.190121</td>\n",
       "      <td>1.0</td>\n",
       "      <td>2.0</td>\n",
       "      <td>3.0</td>\n",
       "      <td>5.00</td>\n",
       "      <td>11.0</td>\n",
       "    </tr>\n",
       "  </tbody>\n",
       "</table>\n",
       "</div>"
      ],
      "text/plain": [
       "         count      mean       std  min  25%  50%   75%   max\n",
       "weekday                                                      \n",
       "0         97.0  5.134021  2.543901  1.0  3.0  5.0  7.00  14.0\n",
       "1         94.0  5.382979  2.319188  1.0  4.0  5.0  6.00  14.0\n",
       "2         95.0  5.357895  2.305940  1.0  4.0  5.0  7.00  11.0\n",
       "3         94.0  5.765957  2.533329  1.0  4.0  5.0  7.00  13.0\n",
       "4         95.0  5.494737  3.013705  1.0  3.0  6.0  7.00  13.0\n",
       "5         88.0  3.750000  2.388911  1.0  2.0  3.0  5.25  11.0\n",
       "6         90.0  3.300000  2.190121  1.0  2.0  3.0  5.00  11.0"
      ]
     },
     "execution_count": 28,
     "metadata": {},
     "output_type": "execute_result"
    }
   ],
   "source": [
    "trips_by_date_1.groupby(['weekday'])['num_trips'].describe()"
   ]
  },
  {
   "cell_type": "code",
   "execution_count": 29,
   "metadata": {},
   "outputs": [
    {
     "data": {
      "text/html": [
       "<div>\n",
       "<style scoped>\n",
       "    .dataframe tbody tr th:only-of-type {\n",
       "        vertical-align: middle;\n",
       "    }\n",
       "\n",
       "    .dataframe tbody tr th {\n",
       "        vertical-align: top;\n",
       "    }\n",
       "\n",
       "    .dataframe thead th {\n",
       "        text-align: right;\n",
       "    }\n",
       "</style>\n",
       "<table border=\"1\" class=\"dataframe\">\n",
       "  <thead>\n",
       "    <tr style=\"text-align: right;\">\n",
       "      <th></th>\n",
       "      <th>count</th>\n",
       "      <th>mean</th>\n",
       "      <th>std</th>\n",
       "      <th>min</th>\n",
       "      <th>25%</th>\n",
       "      <th>50%</th>\n",
       "      <th>75%</th>\n",
       "      <th>max</th>\n",
       "    </tr>\n",
       "    <tr>\n",
       "      <th>weekday</th>\n",
       "      <th></th>\n",
       "      <th></th>\n",
       "      <th></th>\n",
       "      <th></th>\n",
       "      <th></th>\n",
       "      <th></th>\n",
       "      <th></th>\n",
       "      <th></th>\n",
       "    </tr>\n",
       "  </thead>\n",
       "  <tbody>\n",
       "    <tr>\n",
       "      <th>0</th>\n",
       "      <td>99.0</td>\n",
       "      <td>5.030303</td>\n",
       "      <td>2.620385</td>\n",
       "      <td>0.0</td>\n",
       "      <td>3.0</td>\n",
       "      <td>5.0</td>\n",
       "      <td>7.00</td>\n",
       "      <td>14.0</td>\n",
       "    </tr>\n",
       "    <tr>\n",
       "      <th>1</th>\n",
       "      <td>99.0</td>\n",
       "      <td>5.111111</td>\n",
       "      <td>2.551066</td>\n",
       "      <td>0.0</td>\n",
       "      <td>3.0</td>\n",
       "      <td>5.0</td>\n",
       "      <td>6.00</td>\n",
       "      <td>14.0</td>\n",
       "    </tr>\n",
       "    <tr>\n",
       "      <th>2</th>\n",
       "      <td>99.0</td>\n",
       "      <td>5.141414</td>\n",
       "      <td>2.494934</td>\n",
       "      <td>0.0</td>\n",
       "      <td>3.0</td>\n",
       "      <td>5.0</td>\n",
       "      <td>7.00</td>\n",
       "      <td>11.0</td>\n",
       "    </tr>\n",
       "    <tr>\n",
       "      <th>3</th>\n",
       "      <td>98.0</td>\n",
       "      <td>5.530612</td>\n",
       "      <td>2.732787</td>\n",
       "      <td>0.0</td>\n",
       "      <td>4.0</td>\n",
       "      <td>5.0</td>\n",
       "      <td>7.00</td>\n",
       "      <td>13.0</td>\n",
       "    </tr>\n",
       "    <tr>\n",
       "      <th>4</th>\n",
       "      <td>98.0</td>\n",
       "      <td>5.326531</td>\n",
       "      <td>3.115560</td>\n",
       "      <td>0.0</td>\n",
       "      <td>3.0</td>\n",
       "      <td>5.0</td>\n",
       "      <td>7.00</td>\n",
       "      <td>13.0</td>\n",
       "    </tr>\n",
       "    <tr>\n",
       "      <th>5</th>\n",
       "      <td>98.0</td>\n",
       "      <td>3.367347</td>\n",
       "      <td>2.533844</td>\n",
       "      <td>0.0</td>\n",
       "      <td>2.0</td>\n",
       "      <td>2.0</td>\n",
       "      <td>5.00</td>\n",
       "      <td>11.0</td>\n",
       "    </tr>\n",
       "    <tr>\n",
       "      <th>6</th>\n",
       "      <td>98.0</td>\n",
       "      <td>3.030612</td>\n",
       "      <td>2.286013</td>\n",
       "      <td>0.0</td>\n",
       "      <td>1.0</td>\n",
       "      <td>2.0</td>\n",
       "      <td>4.75</td>\n",
       "      <td>11.0</td>\n",
       "    </tr>\n",
       "  </tbody>\n",
       "</table>\n",
       "</div>"
      ],
      "text/plain": [
       "         count      mean       std  min  25%  50%   75%   max\n",
       "weekday                                                      \n",
       "0         99.0  5.030303  2.620385  0.0  3.0  5.0  7.00  14.0\n",
       "1         99.0  5.111111  2.551066  0.0  3.0  5.0  6.00  14.0\n",
       "2         99.0  5.141414  2.494934  0.0  3.0  5.0  7.00  11.0\n",
       "3         98.0  5.530612  2.732787  0.0  4.0  5.0  7.00  13.0\n",
       "4         98.0  5.326531  3.115560  0.0  3.0  5.0  7.00  13.0\n",
       "5         98.0  3.367347  2.533844  0.0  2.0  2.0  5.00  11.0\n",
       "6         98.0  3.030612  2.286013  0.0  1.0  2.0  4.75  11.0"
      ]
     },
     "execution_count": 29,
     "metadata": {},
     "output_type": "execute_result"
    }
   ],
   "source": [
    "trips_by_date_2.groupby(['weekday'])['num_trips'].describe()"
   ]
  },
  {
   "cell_type": "markdown",
   "metadata": {},
   "source": [
    "Just for fun, let's plot the number of trips by date so we can actually see the zero days and see that the station appears to have been open for the entire analysis period. Such a plot would be part of the process of determining the analysis timeframe."
   ]
  },
  {
   "cell_type": "code",
   "execution_count": 30,
   "metadata": {},
   "outputs": [],
   "source": [
    "%matplotlib inline"
   ]
  },
  {
   "cell_type": "code",
   "execution_count": 31,
   "metadata": {},
   "outputs": [
    {
     "data": {
      "image/png": "[encoded data removed]",
      "text/plain": [
       "<Figure size 640x480 with 1 Axes>"
      ]
     },
     "metadata": {},
     "output_type": "display_data"
    }
   ],
   "source": [
    "trips_by_date_2.plot(y='num_trips');"
   ]
  },
  {
   "cell_type": "markdown",
   "metadata": {},
   "source": [
    "In this particular case, differences in computed stats, while not huge, are certainly present. Taking zero days into account along with carefully specifying the analysis period of interest are both important in computing temporal statistics such averages and percentiles of number of trips per day.\n",
    "\n",
    "In Part 2, we'll extend this to cases in which we might want to group by an additional field (e.g. station_id) and see how this problem is just one part of the general problem of doing occupancy analysis based on transaction data. We'll see how the [hillmaker](https://github.com/misken/hillmaker) package can make these types of analyses easier. "
   ]
  },
  {
   "cell_type": "code",
   "execution_count": null,
   "metadata": {},
   "outputs": [],
   "source": []
  },
  {
   "cell_type": "code",
   "execution_count": null,
   "metadata": {},
   "outputs": [],
   "source": []
  }
 ],
 "metadata": {
  "kernelspec": {
   "display_name": "Python 3 (ipykernel)",
   "language": "python",
   "name": "python3"
  },
  "language_info": {
   "codemirror_mode": {
    "name": "ipython",
    "version": 3
   },
   "file_extension": ".py",
   "mimetype": "text/x-python",
   "name": "python",
   "nbconvert_exporter": "python",
   "pygments_lexer": "ipython3",
   "version": "3.9.13"
  }
 },
 "nbformat": 4,
 "nbformat_minor": 4
}
