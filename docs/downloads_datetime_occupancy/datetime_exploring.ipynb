{
 "cells": [
  {
   "cell_type": "markdown",
   "metadata": {},
   "source": [
    "Exploring dates and times in Python\n",
    "==================================="
   ]
  },
  {
   "cell_type": "markdown",
   "metadata": {},
   "source": [
    "Python's `datetime` and `timedelta` classes\n",
    "-------------------------------------------"
   ]
  },
  {
   "cell_type": "code",
   "execution_count": 1,
   "metadata": {
    "collapsed": false,
    "jupyter": {
     "outputs_hidden": false
    }
   },
   "outputs": [],
   "source": [
    "import pandas as pd\n",
    "import numpy as np\n",
    "from pandas import Series, DataFrame\n",
    "from datetime import datetime\n",
    "from datetime import timedelta"
   ]
  },
  {
   "cell_type": "markdown",
   "metadata": {},
   "source": [
    "Python has a module called `datetime` as part of its base system. \n",
    "\n",
    "https://docs.python.org/3/library/datetime.html\n",
    "\n",
    "> The datetime module supplies classes for manipulating dates and times in both simple and complex ways. While date and time arithmetic is supported, the focus of the implementation is on efficient attribute extraction for output formatting and manipulation.\n",
    "\n",
    "Datetimes can be *naive* or *aware*\n",
    "\n",
    "* naive objects don't know about timezones and their interpretation is application (coder) dependent\n",
    "* aware objects do know about timezones and are unambiguous\n",
    "\n",
    "Let's check out a few `datetime` objects."
   ]
  },
  {
   "cell_type": "code",
   "execution_count": 28,
   "metadata": {},
   "outputs": [
    {
     "data": {
      "text/plain": [
       "datetime.datetime(2023, 4, 26, 14, 1, 42, 908669)"
      ]
     },
     "execution_count": 28,
     "metadata": {},
     "output_type": "execute_result"
    }
   ],
   "source": [
    "datetime.now()"
   ]
  },
  {
   "cell_type": "code",
   "execution_count": 29,
   "metadata": {
    "collapsed": false,
    "jupyter": {
     "outputs_hidden": false
    }
   },
   "outputs": [],
   "source": [
    "# Create a list of dates\n",
    "dates = [datetime(2023, 5, 1, 8, 30), \n",
    "         datetime(2023, 5, 1, 9, 25), \n",
    "         datetime(2023, 5, 1, 15, 30)]"
   ]
  },
  {
   "cell_type": "code",
   "execution_count": 30,
   "metadata": {
    "collapsed": false,
    "jupyter": {
     "outputs_hidden": false
    }
   },
   "outputs": [
    {
     "data": {
      "text/plain": [
       "[datetime.datetime(2023, 5, 1, 8, 30),\n",
       " datetime.datetime(2023, 5, 1, 9, 25),\n",
       " datetime.datetime(2023, 5, 1, 15, 30)]"
      ]
     },
     "execution_count": 30,
     "metadata": {},
     "output_type": "execute_result"
    }
   ],
   "source": [
    "dates"
   ]
  },
  {
   "cell_type": "code",
   "execution_count": 31,
   "metadata": {
    "collapsed": false,
    "jupyter": {
     "outputs_hidden": false
    }
   },
   "outputs": [
    {
     "data": {
      "text/plain": [
       "datetime.datetime"
      ]
     },
     "execution_count": 31,
     "metadata": {},
     "output_type": "execute_result"
    }
   ],
   "source": [
    "type(dates[0])"
   ]
  },
  {
   "cell_type": "code",
   "execution_count": 32,
   "metadata": {
    "collapsed": false,
    "jupyter": {
     "outputs_hidden": false
    }
   },
   "outputs": [
    {
     "data": {
      "text/plain": [
       "datetime.datetime"
      ]
     },
     "execution_count": 32,
     "metadata": {},
     "output_type": "execute_result"
    }
   ],
   "source": [
    "intime_dt = dates[0]\n",
    "outtime_dt = dates[1]\n",
    "type(intime_dt)"
   ]
  },
  {
   "cell_type": "code",
   "execution_count": 33,
   "metadata": {
    "collapsed": false,
    "jupyter": {
     "outputs_hidden": false
    }
   },
   "outputs": [
    {
     "name": "stdout",
     "output_type": "stream",
     "text": [
      "Datetime: 2023-05-01 08:30:00\n",
      "Date: 2023-05-01\n",
      "Month: 5\n",
      "Day: 1\n",
      "Weekday: 0\n",
      "Hour: 8\n",
      "Minute: 30\n",
      "Second: 0\n",
      "Microsecond: 0\n"
     ]
    }
   ],
   "source": [
    "# The commented out lines represent attributes that ARE available in pandas Timestamp objects\n",
    "#   but not in Python datetime objects\n",
    "print(f'Datetime: {intime_dt}')\n",
    "print(f'Date: {intime_dt.date()}')\n",
    "print(f'Month: {intime_dt.month}')\n",
    "print(f'Day: {intime_dt.day}')\n",
    "#print(f'DayOfWeek: {intime_dt.dayofweek}')\n",
    "print(f'Weekday: {intime_dt.weekday()}')\n",
    "#print(f'DayOfYear: {intime_dt.dayofyear}')\n",
    "#print(f'WeekOfYear: {intime_dt.weekofyear}')\n",
    "#print(f'Quarter: {intime_dt.quarter}')\n",
    "print(f'Hour: {intime_dt.hour}')\n",
    "print(f'Minute: {intime_dt.minute}')\n",
    "print(f'Second: {intime_dt.second}')\n",
    "print(f'Microsecond: {intime_dt.microsecond}')"
   ]
  },
  {
   "cell_type": "markdown",
   "metadata": {},
   "source": [
    "What about the attributes of a `datetime` object?"
   ]
  },
  {
   "cell_type": "code",
   "execution_count": 34,
   "metadata": {
    "collapsed": false,
    "jupyter": {
     "outputs_hidden": false
    }
   },
   "outputs": [
    {
     "name": "stdout",
     "output_type": "stream",
     "text": [
      "['astimezone', 'combine', 'ctime', 'date', 'day', 'dst', 'fold', 'fromisocalendar', 'fromisoformat', 'fromordinal', 'fromtimestamp', 'hour', 'isocalendar', 'isoformat', 'isoweekday', 'max', 'microsecond', 'min', 'minute', 'month', 'now', 'replace', 'resolution', 'second', 'strftime', 'strptime', 'time', 'timestamp', 'timetuple', 'timetz', 'today', 'toordinal', 'tzinfo', 'tzname', 'utcfromtimestamp', 'utcnow', 'utcoffset', 'utctimetuple', 'weekday', 'year']\n"
     ]
    }
   ],
   "source": [
    "atts = [att for att in dir(intime_dt) if '__' not in att]\n",
    "print (atts)"
   ]
  },
  {
   "cell_type": "markdown",
   "metadata": {},
   "source": [
    "What if we subtract two datetimes? What data type is the result?"
   ]
  },
  {
   "cell_type": "code",
   "execution_count": 35,
   "metadata": {
    "collapsed": false,
    "jupyter": {
     "outputs_hidden": false
    }
   },
   "outputs": [
    {
     "name": "stdout",
     "output_type": "stream",
     "text": [
      "0:55:00\n"
     ]
    },
    {
     "data": {
      "text/plain": [
       "datetime.timedelta"
      ]
     },
     "execution_count": 35,
     "metadata": {},
     "output_type": "execute_result"
    }
   ],
   "source": [
    "los_td = outtime_dt - intime_dt\n",
    "print (los_td)\n",
    "type(los_td)"
   ]
  },
  {
   "cell_type": "code",
   "execution_count": 36,
   "metadata": {},
   "outputs": [
    {
     "name": "stdout",
     "output_type": "stream",
     "text": [
      "Help on class timedelta in module datetime:\n",
      "\n",
      "class timedelta(builtins.object)\n",
      " |  Difference between two datetime values.\n",
      " |  \n",
      " |  timedelta(days=0, seconds=0, microseconds=0, milliseconds=0, minutes=0, hours=0, weeks=0)\n",
      " |  \n",
      " |  All arguments are optional and default to 0.\n",
      " |  Arguments may be integers or floats, and may be positive or negative.\n",
      " |  \n",
      " |  Methods defined here:\n",
      " |  \n",
      " |  __abs__(self, /)\n",
      " |      abs(self)\n",
      " |  \n",
      " |  __add__(self, value, /)\n",
      " |      Return self+value.\n",
      " |  \n",
      " |  __bool__(self, /)\n",
      " |      True if self else False\n",
      " |  \n",
      " |  __divmod__(self, value, /)\n",
      " |      Return divmod(self, value).\n",
      " |  \n",
      " |  __eq__(self, value, /)\n",
      " |      Return self==value.\n",
      " |  \n",
      " |  __floordiv__(self, value, /)\n",
      " |      Return self//value.\n",
      " |  \n",
      " |  __ge__(self, value, /)\n",
      " |      Return self>=value.\n",
      " |  \n",
      " |  __getattribute__(self, name, /)\n",
      " |      Return getattr(self, name).\n",
      " |  \n",
      " |  __gt__(self, value, /)\n",
      " |      Return self>value.\n",
      " |  \n",
      " |  __hash__(self, /)\n",
      " |      Return hash(self).\n",
      " |  \n",
      " |  __le__(self, value, /)\n",
      " |      Return self<=value.\n",
      " |  \n",
      " |  __lt__(self, value, /)\n",
      " |      Return self<value.\n",
      " |  \n",
      " |  __mod__(self, value, /)\n",
      " |      Return self%value.\n",
      " |  \n",
      " |  __mul__(self, value, /)\n",
      " |      Return self*value.\n",
      " |  \n",
      " |  __ne__(self, value, /)\n",
      " |      Return self!=value.\n",
      " |  \n",
      " |  __neg__(self, /)\n",
      " |      -self\n",
      " |  \n",
      " |  __pos__(self, /)\n",
      " |      +self\n",
      " |  \n",
      " |  __radd__(self, value, /)\n",
      " |      Return value+self.\n",
      " |  \n",
      " |  __rdivmod__(self, value, /)\n",
      " |      Return divmod(value, self).\n",
      " |  \n",
      " |  __reduce__(...)\n",
      " |      __reduce__() -> (cls, state)\n",
      " |  \n",
      " |  __repr__(self, /)\n",
      " |      Return repr(self).\n",
      " |  \n",
      " |  __rfloordiv__(self, value, /)\n",
      " |      Return value//self.\n",
      " |  \n",
      " |  __rmod__(self, value, /)\n",
      " |      Return value%self.\n",
      " |  \n",
      " |  __rmul__(self, value, /)\n",
      " |      Return value*self.\n",
      " |  \n",
      " |  __rsub__(self, value, /)\n",
      " |      Return value-self.\n",
      " |  \n",
      " |  __rtruediv__(self, value, /)\n",
      " |      Return value/self.\n",
      " |  \n",
      " |  __str__(self, /)\n",
      " |      Return str(self).\n",
      " |  \n",
      " |  __sub__(self, value, /)\n",
      " |      Return self-value.\n",
      " |  \n",
      " |  __truediv__(self, value, /)\n",
      " |      Return self/value.\n",
      " |  \n",
      " |  total_seconds(...)\n",
      " |      Total seconds in the duration.\n",
      " |  \n",
      " |  ----------------------------------------------------------------------\n",
      " |  Static methods defined here:\n",
      " |  \n",
      " |  __new__(*args, **kwargs) from builtins.type\n",
      " |      Create and return a new object.  See help(type) for accurate signature.\n",
      " |  \n",
      " |  ----------------------------------------------------------------------\n",
      " |  Data descriptors defined here:\n",
      " |  \n",
      " |  days\n",
      " |      Number of days.\n",
      " |  \n",
      " |  microseconds\n",
      " |      Number of microseconds (>= 0 and less than 1 second).\n",
      " |  \n",
      " |  seconds\n",
      " |      Number of seconds (>= 0 and less than 1 day).\n",
      " |  \n",
      " |  ----------------------------------------------------------------------\n",
      " |  Data and other attributes defined here:\n",
      " |  \n",
      " |  max = datetime.timedelta(days=999999999, seconds=86399, microseconds=9...\n",
      " |  \n",
      " |  min = datetime.timedelta(days=-999999999)\n",
      " |  \n",
      " |  resolution = datetime.timedelta(microseconds=1)\n",
      "\n"
     ]
    }
   ],
   "source": [
    "help(timedelta)"
   ]
  },
  {
   "cell_type": "markdown",
   "metadata": {},
   "source": [
    "List out the attributes for `timedelta` objects. Notice how we are filtering out any attributes starting with the double underscore. Change that if you want to see what's getting filtered out."
   ]
  },
  {
   "cell_type": "code",
   "execution_count": 37,
   "metadata": {
    "collapsed": false,
    "jupyter": {
     "outputs_hidden": false
    }
   },
   "outputs": [
    {
     "name": "stdout",
     "output_type": "stream",
     "text": [
      "['days', 'max', 'microseconds', 'min', 'resolution', 'seconds', 'total_seconds']\n"
     ]
    }
   ],
   "source": [
    "atts = [att for att in dir(los_td) if '__' not in att]\n",
    "#atts = [att for att in dir(los_td)]\n",
    "print (atts)"
   ]
  },
  {
   "cell_type": "code",
   "execution_count": 38,
   "metadata": {
    "collapsed": false,
    "jupyter": {
     "outputs_hidden": false
    }
   },
   "outputs": [
    {
     "name": "stdout",
     "output_type": "stream",
     "text": [
      "Timedelta: 0:55:00\n",
      "Seconds: 3300\n",
      "Total Seconds: 3300.0\n",
      "Microseconds: 0\n",
      "Resolution: 0:00:00.000001\n",
      "Min: -999999999 days, 0:00:00\n",
      "Max: 999999999 days, 23:59:59.999999\n"
     ]
    }
   ],
   "source": [
    "print(f'Timedelta: {los_td}')\n",
    "print(f'Seconds: {los_td.seconds}')\n",
    "print(f'Total Seconds: {los_td.total_seconds()}')\n",
    "print(f'Microseconds: {los_td.microseconds}')\n",
    "print(f'Resolution: {los_td.resolution}')\n",
    "print(f'Min: {los_td.min}')\n",
    "print(f'Max: {los_td.max}')"
   ]
  },
  {
   "cell_type": "markdown",
   "metadata": {},
   "source": [
    "So, you can use the `total_seconds()` method to get a duration in seconds from a `timedelta` object. If duration is < 1 second, it returns fractional seconds. To convert to other time units, just do the simple math or, even better, you can divide a `timedelta` by another `timedelta`. This is actually the way that the `datetime` library intends for people to do this."
   ]
  },
  {
   "cell_type": "code",
   "execution_count": 39,
   "metadata": {
    "collapsed": false,
    "jupyter": {
     "outputs_hidden": false
    }
   },
   "outputs": [
    {
     "data": {
      "text/plain": [
       "datetime.timedelta(microseconds=10)"
      ]
     },
     "execution_count": 39,
     "metadata": {},
     "output_type": "execute_result"
    }
   ],
   "source": [
    "timedelta(days=0, seconds=0, microseconds=10)"
   ]
  },
  {
   "cell_type": "markdown",
   "metadata": {},
   "source": [
    "You can use positional arguments if you remember the order from `help(timedelta)` - days, seconds, microseconds."
   ]
  },
  {
   "cell_type": "code",
   "execution_count": 40,
   "metadata": {
    "collapsed": false,
    "jupyter": {
     "outputs_hidden": false
    }
   },
   "outputs": [
    {
     "data": {
      "text/plain": [
       "1.000017"
      ]
     },
     "execution_count": 40,
     "metadata": {},
     "output_type": "execute_result"
    }
   ],
   "source": [
    "timedelta(0, 1, 17).total_seconds()"
   ]
  },
  {
   "cell_type": "markdown",
   "metadata": {},
   "source": [
    "To convert to other time units, just do the simple math or, even better, you can divide a `timedelta` by another `timedelta`. This is actually the way that the `datetime` library intends for people to do this. The current maintainer of the Python `datetime` module, Paul Ganssle, mentions this in a popular tweet - https://twitter.com/pganssle/status/1285604008699330567?lang=en. The [Talk Python to Me podcast has a nice interview](https://talkpython.fm/episodes/show/271/unlock-the-mysteries-of-time-pythons-datetime-that-is) with him that gets into all kinds of datetime nitty-gritty."
   ]
  },
  {
   "cell_type": "code",
   "execution_count": 41,
   "metadata": {},
   "outputs": [
    {
     "data": {
      "text/plain": [
       "datetime.timedelta(seconds=750)"
      ]
     },
     "execution_count": 41,
     "metadata": {},
     "output_type": "execute_result"
    }
   ],
   "source": [
    "td = timedelta(days=0, seconds=750)\n",
    "td"
   ]
  },
  {
   "cell_type": "markdown",
   "metadata": {},
   "source": [
    "Obviously, `td` is a `timedelta` object. Notice how Python displays it if we use `print()`."
   ]
  },
  {
   "cell_type": "code",
   "execution_count": 42,
   "metadata": {},
   "outputs": [
    {
     "name": "stdout",
     "output_type": "stream",
     "text": [
      "0:12:30\n"
     ]
    }
   ],
   "source": [
    "print(td)"
   ]
  },
  {
   "cell_type": "markdown",
   "metadata": {},
   "source": [
    "Clearly, this is 12.5 minutes. But how do we actually get the value of a `timedelta` in minutes (or any other unit for that matter)? No need to do the math. Just use `timedelta` division."
   ]
  },
  {
   "cell_type": "code",
   "execution_count": 43,
   "metadata": {},
   "outputs": [
    {
     "data": {
      "text/plain": [
       "12.5"
      ]
     },
     "execution_count": 43,
     "metadata": {},
     "output_type": "execute_result"
    }
   ],
   "source": [
    "td / timedelta(minutes=1)"
   ]
  },
  {
   "cell_type": "markdown",
   "metadata": {},
   "source": [
    "This is really nice since you can do whatever units you want and in whatever quantity you want. For example, how many 5 minute blocks are in `td`?"
   ]
  },
  {
   "cell_type": "code",
   "execution_count": 44,
   "metadata": {},
   "outputs": [
    {
     "data": {
      "text/plain": [
       "2.5"
      ]
     },
     "execution_count": 44,
     "metadata": {},
     "output_type": "execute_result"
    }
   ],
   "source": [
    "td / timedelta(minutes=5)"
   ]
  },
  {
   "cell_type": "markdown",
   "metadata": {},
   "source": [
    "Numpy's newish `datetime64` and `timedelta64` classes\n",
    "-----------------------------------------------------\n",
    "\n",
    "The Numpy library (v 1.7.0) introduced a new datatype called datetime64. Numpy uses this name because there is already a datetime data type in the Python datetime library. Like R, dates and times in Python are stored based on the notion of POSIX time - the number of seconds elapsed since Jan 1, 1970 00:00:00 GMT - called the UTC epoch. This doesn't mean that dates and times before that cannot be represented - we just use negative numbers. Representing and working with dates and times for computing is a pretty interesting topic, fraught with complexities like time zones, daylight savings time, and leap seconds. A few good places to start are:\n",
    "\n",
    "Numpy docs - http://docs.scipy.org/doc/numpy-dev/reference/arrays.datetime.html\n",
    "\n",
    "Pandas docs - http://pandas.pydata.org/pandas-docs/dev/timeseries.html\n",
    "\n",
    "See http://cr.yp.to/proto/utctai.html for gory details on UTC and ATI and leap seconds and the problems with the POSIX standard.\n",
    "\n",
    "http://stackoverflow.com/questions/13703720/converting-between-datetime-timestamp-and-datetime64\n"
   ]
  },
  {
   "cell_type": "code",
   "execution_count": 45,
   "metadata": {
    "collapsed": false,
    "jupyter": {
     "outputs_hidden": false
    }
   },
   "outputs": [
    {
     "data": {
      "text/plain": [
       "numpy.datetime64('2023-05-01T08:30:00')"
      ]
     },
     "execution_count": 45,
     "metadata": {},
     "output_type": "execute_result"
    }
   ],
   "source": [
    "np.datetime64('2023-05-01 08:30:00')"
   ]
  },
  {
   "cell_type": "code",
   "execution_count": 46,
   "metadata": {
    "collapsed": false,
    "jupyter": {
     "outputs_hidden": false
    }
   },
   "outputs": [],
   "source": [
    "dates64 = [np.datetime64('2023-05-01 08:30:00'), \n",
    "           np.datetime64('2023-05-01 09:25:00'), \n",
    "           np.datetime64('2023-05-01 15:30:00')]"
   ]
  },
  {
   "cell_type": "code",
   "execution_count": 47,
   "metadata": {
    "collapsed": false,
    "jupyter": {
     "outputs_hidden": false
    }
   },
   "outputs": [
    {
     "data": {
      "text/plain": [
       "[numpy.datetime64('2023-05-01T08:30:00'),\n",
       " numpy.datetime64('2023-05-01T09:25:00'),\n",
       " numpy.datetime64('2023-05-01T15:30:00')]"
      ]
     },
     "execution_count": 47,
     "metadata": {},
     "output_type": "execute_result"
    }
   ],
   "source": [
    "dates64"
   ]
  },
  {
   "cell_type": "markdown",
   "metadata": {},
   "source": [
    "As you can see from below, UTC is four hours later than EDT. In other words, the EDT timezone offset is UTC-4."
   ]
  },
  {
   "cell_type": "code",
   "execution_count": 48,
   "metadata": {
    "collapsed": false,
    "jupyter": {
     "outputs_hidden": false
    }
   },
   "outputs": [
    {
     "data": {
      "text/plain": [
       "datetime.datetime(2023, 4, 26, 18, 10, 59, 310412)"
      ]
     },
     "execution_count": 48,
     "metadata": {},
     "output_type": "execute_result"
    }
   ],
   "source": [
    "dt_utcnow = datetime.utcnow()\n",
    "dt_utcnow"
   ]
  },
  {
   "cell_type": "markdown",
   "metadata": {},
   "source": [
    "You can create numpy `datetime64` objects from `datetime` objects."
   ]
  },
  {
   "cell_type": "code",
   "execution_count": 49,
   "metadata": {
    "collapsed": false,
    "jupyter": {
     "outputs_hidden": false
    }
   },
   "outputs": [
    {
     "data": {
      "text/plain": [
       "numpy.datetime64('2023-04-26T18:10:59.310412')"
      ]
     },
     "execution_count": 49,
     "metadata": {},
     "output_type": "execute_result"
    }
   ],
   "source": [
    "# Can create datetime64's from dt's.\n",
    "dt64_utcnow = np.datetime64(dt_utcnow)\n",
    "dt64_utcnow"
   ]
  },
  {
   "cell_type": "code",
   "execution_count": 26,
   "metadata": {
    "collapsed": false,
    "jupyter": {
     "outputs_hidden": false
    }
   },
   "outputs": [
    {
     "name": "stdout",
     "output_type": "stream",
     "text": [
      "<class 'numpy.datetime64'>\n",
      "2012-05-01T08:30:00\n"
     ]
    },
    {
     "data": {
      "text/plain": [
       "numpy.datetime64('2012-05-01T08:30:00')"
      ]
     },
     "execution_count": 26,
     "metadata": {},
     "output_type": "execute_result"
    }
   ],
   "source": [
    "intime_dt64 = dates64[0]\n",
    "outtime_dt64 = dates64[1]\n",
    "print(type(intime_dt64))\n",
    "print(intime_dt64)\n",
    "intime_dt64"
   ]
  },
  {
   "cell_type": "markdown",
   "metadata": {},
   "source": [
    "You can subtract two `datetime64` objects and get a `timedelta64` object in return. "
   ]
  },
  {
   "cell_type": "code",
   "execution_count": 53,
   "metadata": {
    "collapsed": false,
    "jupyter": {
     "outputs_hidden": false
    }
   },
   "outputs": [
    {
     "data": {
      "text/plain": [
       "numpy.timedelta64(3300,'s')"
      ]
     },
     "execution_count": 53,
     "metadata": {},
     "output_type": "execute_result"
    }
   ],
   "source": [
    "los_td64 = outtime_dt64 - intime_dt64\n",
    "los_td64"
   ]
  },
  {
   "cell_type": "code",
   "execution_count": 54,
   "metadata": {
    "collapsed": false,
    "jupyter": {
     "outputs_hidden": false
    }
   },
   "outputs": [
    {
     "data": {
      "text/plain": [
       "numpy.timedelta64(55,'m')"
      ]
     },
     "execution_count": 54,
     "metadata": {},
     "output_type": "execute_result"
    }
   ],
   "source": [
    "# Coerce it to other units\n",
    "np.timedelta64(los_td64,'m')"
   ]
  },
  {
   "cell_type": "code",
   "execution_count": 55,
   "metadata": {},
   "outputs": [
    {
     "name": "stdout",
     "output_type": "stream",
     "text": [
      "['T', 'all', 'any', 'argmax', 'argmin', 'argsort', 'astype', 'base', 'byteswap', 'choose', 'clip', 'compress', 'conj', 'conjugate', 'copy', 'cumprod', 'cumsum', 'data', 'denominator', 'diagonal', 'dtype', 'dump', 'dumps', 'fill', 'flags', 'flat', 'flatten', 'getfield', 'imag', 'item', 'itemset', 'itemsize', 'max', 'mean', 'min', 'nbytes', 'ndim', 'newbyteorder', 'nonzero', 'numerator', 'prod', 'ptp', 'put', 'ravel', 'real', 'repeat', 'reshape', 'resize', 'round', 'searchsorted', 'setfield', 'setflags', 'shape', 'size', 'sort', 'squeeze', 'std', 'strides', 'sum', 'swapaxes', 'take', 'tobytes', 'tofile', 'tolist', 'tostring', 'trace', 'transpose', 'var', 'view']\n"
     ]
    }
   ],
   "source": [
    "atts = [att for att in dir(los_td64) if '__' not in att]\n",
    "print (atts)"
   ]
  },
  {
   "cell_type": "markdown",
   "metadata": {},
   "source": [
    "Unfortunately, `timedelta64` objects have almost no useful attributes in terms of date time math. OTH, see the `datetime.timedelta` object (and Pandas) for a number of useful attributes."
   ]
  },
  {
   "cell_type": "markdown",
   "metadata": {},
   "source": [
    "We rarely work with numpy time related objects due to the lack of useful attributes for doing business analytics work."
   ]
  },
  {
   "cell_type": "markdown",
   "metadata": {},
   "source": [
    "## Pandas and datetimes\n",
    "\n",
    "Pandas prides itself on its handling of time series data (speed, flexibility, power) and is built on top of numpy `datetime64` and `timedelta64` data types (instead of Python's base `datetime` and `timedelta` types. Pandas also wanted to be very [time-zone aware and time-zone capable](http://wesmckinney.com/blog/?cat=5). So, Pandas has its own data type for timestamps called, well, `Timetamp`. It's based on numpy's `datetime64` type. This pandas overview page of time series / data functionality is quite informative:\n",
    "\n",
    "* https://pandas.pydata.org/pandas-docs/stable/user_guide/timeseries.html\n",
    "\n",
    "The following StackOverlfow post (the \"welcome to hell\" post) is quite popular and relevant.\n",
    "\n",
    "http://stackoverflow.com/questions/13703720/converting-between-datetime-timestamp-and-datetime64"
   ]
  },
  {
   "cell_type": "markdown",
   "metadata": {},
   "source": [
    "Let's read in some stock price data."
   ]
  },
  {
   "cell_type": "code",
   "execution_count": 56,
   "metadata": {},
   "outputs": [],
   "source": [
    "prices_df = pd.read_csv('data/stock_prices.csv', parse_dates=['Date'])"
   ]
  },
  {
   "cell_type": "code",
   "execution_count": 57,
   "metadata": {},
   "outputs": [
    {
     "data": {
      "text/html": [
       "<div>\n",
       "<style scoped>\n",
       "    .dataframe tbody tr th:only-of-type {\n",
       "        vertical-align: middle;\n",
       "    }\n",
       "\n",
       "    .dataframe tbody tr th {\n",
       "        vertical-align: top;\n",
       "    }\n",
       "\n",
       "    .dataframe thead th {\n",
       "        text-align: right;\n",
       "    }\n",
       "</style>\n",
       "<table border=\"1\" class=\"dataframe\">\n",
       "  <thead>\n",
       "    <tr style=\"text-align: right;\">\n",
       "      <th></th>\n",
       "      <th>Date</th>\n",
       "      <th>AAPL</th>\n",
       "      <th>MSFT</th>\n",
       "      <th>XOM</th>\n",
       "      <th>SPX</th>\n",
       "    </tr>\n",
       "  </thead>\n",
       "  <tbody>\n",
       "    <tr>\n",
       "      <th>0</th>\n",
       "      <td>2003-01-02</td>\n",
       "      <td>7.40</td>\n",
       "      <td>21.11</td>\n",
       "      <td>29.22</td>\n",
       "      <td>909.03</td>\n",
       "    </tr>\n",
       "    <tr>\n",
       "      <th>1</th>\n",
       "      <td>2003-01-03</td>\n",
       "      <td>7.45</td>\n",
       "      <td>21.14</td>\n",
       "      <td>29.24</td>\n",
       "      <td>908.59</td>\n",
       "    </tr>\n",
       "    <tr>\n",
       "      <th>2</th>\n",
       "      <td>2003-01-06</td>\n",
       "      <td>7.45</td>\n",
       "      <td>21.52</td>\n",
       "      <td>29.96</td>\n",
       "      <td>929.01</td>\n",
       "    </tr>\n",
       "    <tr>\n",
       "      <th>3</th>\n",
       "      <td>2003-01-07</td>\n",
       "      <td>7.43</td>\n",
       "      <td>21.93</td>\n",
       "      <td>28.95</td>\n",
       "      <td>922.93</td>\n",
       "    </tr>\n",
       "    <tr>\n",
       "      <th>4</th>\n",
       "      <td>2003-01-08</td>\n",
       "      <td>7.28</td>\n",
       "      <td>21.31</td>\n",
       "      <td>28.83</td>\n",
       "      <td>909.93</td>\n",
       "    </tr>\n",
       "  </tbody>\n",
       "</table>\n",
       "</div>"
      ],
      "text/plain": [
       "        Date  AAPL   MSFT    XOM     SPX\n",
       "0 2003-01-02  7.40  21.11  29.22  909.03\n",
       "1 2003-01-03  7.45  21.14  29.24  908.59\n",
       "2 2003-01-06  7.45  21.52  29.96  929.01\n",
       "3 2003-01-07  7.43  21.93  28.95  922.93\n",
       "4 2003-01-08  7.28  21.31  28.83  909.93"
      ]
     },
     "execution_count": 57,
     "metadata": {},
     "output_type": "execute_result"
    }
   ],
   "source": [
    "prices_df.head()"
   ]
  },
  {
   "cell_type": "code",
   "execution_count": 58,
   "metadata": {},
   "outputs": [
    {
     "name": "stdout",
     "output_type": "stream",
     "text": [
      "<class 'pandas.core.frame.DataFrame'>\n",
      "RangeIndex: 2214 entries, 0 to 2213\n",
      "Data columns (total 5 columns):\n",
      " #   Column  Non-Null Count  Dtype         \n",
      "---  ------  --------------  -----         \n",
      " 0   Date    2214 non-null   datetime64[ns]\n",
      " 1   AAPL    2214 non-null   float64       \n",
      " 2   MSFT    2214 non-null   float64       \n",
      " 3   XOM     2214 non-null   float64       \n",
      " 4   SPX     2214 non-null   float64       \n",
      "dtypes: datetime64[ns](1), float64(4)\n",
      "memory usage: 86.6 KB\n"
     ]
    }
   ],
   "source": [
    "prices_df.info()"
   ]
  },
  {
   "cell_type": "markdown",
   "metadata": {},
   "source": [
    "Notice the datatype of the `Date` column. While based on the numpy datetime64, it is actually a pandas `Timestamp` object. It has many useful attributes for doing datetime anlaysis."
   ]
  },
  {
   "cell_type": "code",
   "execution_count": 59,
   "metadata": {},
   "outputs": [
    {
     "data": {
      "text/plain": [
       "pandas._libs.tslibs.timestamps.Timestamp"
      ]
     },
     "execution_count": 59,
     "metadata": {},
     "output_type": "execute_result"
    }
   ],
   "source": [
    "type(prices_df.iloc[0, 0])"
   ]
  },
  {
   "cell_type": "code",
   "execution_count": 60,
   "metadata": {
    "collapsed": false,
    "jupyter": {
     "outputs_hidden": false
    }
   },
   "outputs": [],
   "source": [
    "from pandas import Timestamp"
   ]
  },
  {
   "cell_type": "markdown",
   "metadata": {},
   "source": [
    "It's easy to create a `Timestamp` object from a string."
   ]
  },
  {
   "cell_type": "code",
   "execution_count": 62,
   "metadata": {
    "collapsed": false,
    "jupyter": {
     "outputs_hidden": false
    }
   },
   "outputs": [
    {
     "data": {
      "text/plain": [
       "Timestamp('2023-05-01 08:30:00')"
      ]
     },
     "execution_count": 62,
     "metadata": {},
     "output_type": "execute_result"
    }
   ],
   "source": [
    "Timestamp('20230501 08:30:00')"
   ]
  },
  {
   "cell_type": "markdown",
   "metadata": {},
   "source": [
    "Let's create a few timestamps and then compute the difference between two of them."
   ]
  },
  {
   "cell_type": "code",
   "execution_count": 63,
   "metadata": {
    "collapsed": false,
    "jupyter": {
     "outputs_hidden": false
    }
   },
   "outputs": [],
   "source": [
    "timestamps = [Timestamp('20230501 08:30:00'), Timestamp('20230501 09:25:00'), Timestamp('20230501 15:30:00')]"
   ]
  },
  {
   "cell_type": "code",
   "execution_count": 64,
   "metadata": {
    "collapsed": false,
    "jupyter": {
     "outputs_hidden": false
    }
   },
   "outputs": [
    {
     "name": "stdout",
     "output_type": "stream",
     "text": [
      "0 days 00:55:00\n",
      "<class 'pandas._libs.tslibs.timedeltas.Timedelta'>\n"
     ]
    }
   ],
   "source": [
    "intime_ts = timestamps[0]\n",
    "outtime_ts = timestamps[1]\n",
    "\n",
    "los_ptd = outtime_ts - intime_ts\n",
    "print (los_ptd)\n",
    "print(type(los_ptd))"
   ]
  },
  {
   "cell_type": "markdown",
   "metadata": {},
   "source": [
    "Not surprisingly, the difference between two pandas `Timestamp` objects is a pandas `Timedelta`. The pandas Timestamp data type has a number of useful attributes (dayofweek, dayofyear, weekofyear) that the base Python datetime type does not."
   ]
  },
  {
   "cell_type": "code",
   "execution_count": 65,
   "metadata": {
    "collapsed": false,
    "jupyter": {
     "outputs_hidden": false
    }
   },
   "outputs": [
    {
     "name": "stdout",
     "output_type": "stream",
     "text": [
      "Datetime: 2023-05-01 08:30:00\n",
      "Date: 2023-05-01\n",
      "Month: 5\n",
      "Day: 1\n",
      "DayOfWeek: 0\n",
      "Weekday: 0\n",
      "DayOfYear: 121\n",
      "WeekOfYear: 18\n",
      "Quarter: 2\n",
      "Hour: 8\n",
      "Minute: 30\n",
      "Second: 0\n",
      "Microsecond: 0\n"
     ]
    }
   ],
   "source": [
    "\n",
    "print(f'Datetime: {intime_ts}')\n",
    "print(f'Date: {intime_ts.date()}')\n",
    "print(f'Month: {intime_ts.month}')\n",
    "print(f'Day: {intime_ts.day}')\n",
    "print(f'DayOfWeek: {intime_ts.dayofweek}')\n",
    "print(f'Weekday: {intime_ts.weekday()}')\n",
    "print(f'DayOfYear: {intime_ts.dayofyear}')\n",
    "print(f'WeekOfYear: {intime_ts.weekofyear}')\n",
    "print(f'Quarter: {intime_ts.quarter}')\n",
    "print(f'Hour: {intime_ts.hour}')\n",
    "print(f'Minute: {intime_ts.minute}')\n",
    "print(f'Second: {intime_ts.second}')\n",
    "print(f'Microsecond: {intime_ts.microsecond}')"
   ]
  },
  {
   "cell_type": "markdown",
   "metadata": {},
   "source": [
    "`Timedelta` objects also have many useful attributes."
   ]
  },
  {
   "cell_type": "code",
   "execution_count": 66,
   "metadata": {
    "collapsed": false,
    "jupyter": {
     "outputs_hidden": false
    }
   },
   "outputs": [
    {
     "name": "stdout",
     "output_type": "stream",
     "text": [
      "Timedelta: 0 days 00:55:00\n",
      "Days: 0\n",
      "Seconds: 3300\n",
      "Total Seconds: 3300.0\n",
      "Microseconds: 0\n",
      "Resolution: 0 days 00:00:00.000000001\n",
      "Min: -106752 days +00:12:43.145224193\n",
      "Max: 106751 days 23:47:16.854775807\n"
     ]
    }
   ],
   "source": [
    "print ('Timedelta: {}'.format(los_ptd))\n",
    "print ('Days: {}'.format(los_ptd.days))\n",
    "print ('Seconds: {}'.format(los_ptd.seconds))\n",
    "print ('Total Seconds: {}'.format(los_ptd.total_seconds()))\n",
    "print ('Microseconds: {}'.format(los_ptd.microseconds))\n",
    "print ('Resolution: {}'.format(los_ptd.resolution))\n",
    "print ('Min: {}'.format(los_ptd.min))\n",
    "print ('Max: {}'.format(los_ptd.max))"
   ]
  },
  {
   "cell_type": "markdown",
   "metadata": {},
   "source": [
    "Pandas and time series\n",
    "----------------------\n",
    "\n",
    "Generally, a time series in pandas is a `Series` object with a `DateTimeIndex`. Pandas has convenience functions for creating time series indexes. The default frequency for `date_range` is a calendar day while the default for `bdate_range` is a business day"
   ]
  },
  {
   "cell_type": "code",
   "execution_count": 67,
   "metadata": {
    "collapsed": false,
    "jupyter": {
     "outputs_hidden": false
    }
   },
   "outputs": [],
   "source": [
    "index = pd.date_range('2019-1-1', periods=1000)"
   ]
  },
  {
   "cell_type": "code",
   "execution_count": 68,
   "metadata": {
    "collapsed": false,
    "jupyter": {
     "outputs_hidden": false
    }
   },
   "outputs": [
    {
     "data": {
      "text/plain": [
       "DatetimeIndex(['2019-01-01', '2019-01-02', '2019-01-03', '2019-01-04',\n",
       "               '2019-01-05', '2019-01-06', '2019-01-07', '2019-01-08',\n",
       "               '2019-01-09', '2019-01-10',\n",
       "               ...\n",
       "               '2021-09-17', '2021-09-18', '2021-09-19', '2021-09-20',\n",
       "               '2021-09-21', '2021-09-22', '2021-09-23', '2021-09-24',\n",
       "               '2021-09-25', '2021-09-26'],\n",
       "              dtype='datetime64[ns]', length=1000, freq='D')"
      ]
     },
     "execution_count": 68,
     "metadata": {},
     "output_type": "execute_result"
    }
   ],
   "source": [
    "index"
   ]
  },
  {
   "cell_type": "code",
   "execution_count": 69,
   "metadata": {
    "collapsed": false,
    "jupyter": {
     "outputs_hidden": false
    }
   },
   "outputs": [
    {
     "data": {
      "text/plain": [
       "DatetimeIndex(['2021-01-01', '2021-01-02', '2021-01-03', '2021-01-04',\n",
       "               '2021-01-05', '2021-01-06', '2021-01-07', '2021-01-08',\n",
       "               '2021-01-09', '2021-01-10',\n",
       "               ...\n",
       "               '2021-05-22', '2021-05-23', '2021-05-24', '2021-05-25',\n",
       "               '2021-05-26', '2021-05-27', '2021-05-28', '2021-05-29',\n",
       "               '2021-05-30', '2021-05-31'],\n",
       "              dtype='datetime64[ns]', length=151, freq='D')"
      ]
     },
     "execution_count": 69,
     "metadata": {},
     "output_type": "execute_result"
    }
   ],
   "source": [
    "start = datetime(2021, 1, 1)\n",
    "end = datetime(2021, 5, 31)\n",
    "rng = pd.date_range(start, end)\n",
    "rng"
   ]
  },
  {
   "cell_type": "markdown",
   "metadata": {},
   "source": [
    "While the default frequency is a day, other frequencies can be specified with the `freq` argument that uses *date offset strings* (e.g. 'W' for weekly, 'M' for monthly). You can find a table of all of the offset strings at https://pandas.pydata.org/pandas-docs/stable/user_guide/timeseries.html#dateoffset-objects along with general information about `DateOffset` objects."
   ]
  },
  {
   "cell_type": "code",
   "execution_count": 70,
   "metadata": {
    "collapsed": false,
    "jupyter": {
     "outputs_hidden": false
    }
   },
   "outputs": [
    {
     "data": {
      "text/plain": [
       "DatetimeIndex(['2021-01-03', '2021-01-10', '2021-01-17', '2021-01-24',\n",
       "               '2021-01-31', '2021-02-07', '2021-02-14', '2021-02-21',\n",
       "               '2021-02-28', '2021-03-07', '2021-03-14', '2021-03-21',\n",
       "               '2021-03-28', '2021-04-04', '2021-04-11', '2021-04-18',\n",
       "               '2021-04-25', '2021-05-02', '2021-05-09', '2021-05-16',\n",
       "               '2021-05-23', '2021-05-30'],\n",
       "              dtype='datetime64[ns]', freq='W-SUN')"
      ]
     },
     "execution_count": 70,
     "metadata": {},
     "output_type": "execute_result"
    }
   ],
   "source": [
    "pd.date_range(start, end, freq='W')"
   ]
  },
  {
   "cell_type": "markdown",
   "metadata": {},
   "source": [
    "You can even do things like get a range of dates representing things like the \"2nd Tuesday of each month\"."
   ]
  },
  {
   "cell_type": "code",
   "execution_count": 71,
   "metadata": {
    "collapsed": false,
    "jupyter": {
     "outputs_hidden": false
    }
   },
   "outputs": [
    {
     "data": {
      "text/plain": [
       "DatetimeIndex(['2021-09-14', '2021-10-12', '2021-11-09', '2021-12-14'], dtype='datetime64[ns]', freq='WOM-2TUE')"
      ]
     },
     "execution_count": 71,
     "metadata": {},
     "output_type": "execute_result"
    }
   ],
   "source": [
    "pd.date_range('9/1/2021', '12/31/2021', freq='WOM-2TUE')\n"
   ]
  },
  {
   "cell_type": "markdown",
   "metadata": {},
   "source": [
    "Date index slicing is easy but, BE CAREFUL, the end point is included (unlike usual Python slicing behavior). Let's reread the stock price data into a new dataframe but make the `Date` the index."
   ]
  },
  {
   "cell_type": "code",
   "execution_count": 72,
   "metadata": {},
   "outputs": [],
   "source": [
    "prices_df2 = pd.read_csv('data/stock_prices.csv', parse_dates=True, index_col=0)"
   ]
  },
  {
   "cell_type": "code",
   "execution_count": 73,
   "metadata": {
    "collapsed": false,
    "jupyter": {
     "outputs_hidden": false
    }
   },
   "outputs": [
    {
     "data": {
      "text/html": [
       "<div>\n",
       "<style scoped>\n",
       "    .dataframe tbody tr th:only-of-type {\n",
       "        vertical-align: middle;\n",
       "    }\n",
       "\n",
       "    .dataframe tbody tr th {\n",
       "        vertical-align: top;\n",
       "    }\n",
       "\n",
       "    .dataframe thead th {\n",
       "        text-align: right;\n",
       "    }\n",
       "</style>\n",
       "<table border=\"1\" class=\"dataframe\">\n",
       "  <thead>\n",
       "    <tr style=\"text-align: right;\">\n",
       "      <th></th>\n",
       "      <th>AAPL</th>\n",
       "      <th>MSFT</th>\n",
       "      <th>XOM</th>\n",
       "      <th>SPX</th>\n",
       "    </tr>\n",
       "    <tr>\n",
       "      <th>Date</th>\n",
       "      <th></th>\n",
       "      <th></th>\n",
       "      <th></th>\n",
       "      <th></th>\n",
       "    </tr>\n",
       "  </thead>\n",
       "  <tbody>\n",
       "    <tr>\n",
       "      <th>2003-01-02</th>\n",
       "      <td>7.40</td>\n",
       "      <td>21.11</td>\n",
       "      <td>29.22</td>\n",
       "      <td>909.03</td>\n",
       "    </tr>\n",
       "    <tr>\n",
       "      <th>2003-01-03</th>\n",
       "      <td>7.45</td>\n",
       "      <td>21.14</td>\n",
       "      <td>29.24</td>\n",
       "      <td>908.59</td>\n",
       "    </tr>\n",
       "    <tr>\n",
       "      <th>2003-01-06</th>\n",
       "      <td>7.45</td>\n",
       "      <td>21.52</td>\n",
       "      <td>29.96</td>\n",
       "      <td>929.01</td>\n",
       "    </tr>\n",
       "    <tr>\n",
       "      <th>2003-01-07</th>\n",
       "      <td>7.43</td>\n",
       "      <td>21.93</td>\n",
       "      <td>28.95</td>\n",
       "      <td>922.93</td>\n",
       "    </tr>\n",
       "    <tr>\n",
       "      <th>2003-01-08</th>\n",
       "      <td>7.28</td>\n",
       "      <td>21.31</td>\n",
       "      <td>28.83</td>\n",
       "      <td>909.93</td>\n",
       "    </tr>\n",
       "  </tbody>\n",
       "</table>\n",
       "</div>"
      ],
      "text/plain": [
       "            AAPL   MSFT    XOM     SPX\n",
       "Date                                  \n",
       "2003-01-02  7.40  21.11  29.22  909.03\n",
       "2003-01-03  7.45  21.14  29.24  908.59\n",
       "2003-01-06  7.45  21.52  29.96  929.01\n",
       "2003-01-07  7.43  21.93  28.95  922.93\n",
       "2003-01-08  7.28  21.31  28.83  909.93"
      ]
     },
     "execution_count": 73,
     "metadata": {},
     "output_type": "execute_result"
    }
   ],
   "source": [
    "prices_df2['2003-01-02':'2003-01-08']"
   ]
  },
  {
   "cell_type": "markdown",
   "metadata": {},
   "source": [
    "Shifting (Leading and Lagging) Data\n",
    "------------------------------------\n",
    "\n",
    "Move data back and forth through time. `Series` and `DateFrame` objects have a `shift` method for doing naive shifts forward and backward and leaving the index unchanged."
   ]
  },
  {
   "cell_type": "code",
   "execution_count": 74,
   "metadata": {
    "collapsed": false,
    "jupyter": {
     "outputs_hidden": false
    }
   },
   "outputs": [
    {
     "data": {
      "text/plain": [
       "2021-01-31    6\n",
       "2021-02-28    7\n",
       "2021-03-31    6\n",
       "2021-04-30    6\n",
       "Freq: M, dtype: int32"
      ]
     },
     "execution_count": 74,
     "metadata": {},
     "output_type": "execute_result"
    }
   ],
   "source": [
    "ts = Series(np.random.randint(1, 10, 4),index = pd.date_range('1/2/2021', periods=4, freq='M'))\n",
    "ts"
   ]
  },
  {
   "cell_type": "code",
   "execution_count": 75,
   "metadata": {
    "collapsed": false,
    "jupyter": {
     "outputs_hidden": false
    }
   },
   "outputs": [
    {
     "data": {
      "text/plain": [
       "2021-01-31    NaN\n",
       "2021-02-28    NaN\n",
       "2021-03-31    6.0\n",
       "2021-04-30    7.0\n",
       "Freq: M, dtype: float64"
      ]
     },
     "execution_count": 75,
     "metadata": {},
     "output_type": "execute_result"
    }
   ],
   "source": [
    "ts.shift(periods = 2)"
   ]
  },
  {
   "cell_type": "markdown",
   "metadata": {},
   "source": [
    "A common use is to compute percent changes across rows."
   ]
  },
  {
   "cell_type": "code",
   "execution_count": 76,
   "metadata": {
    "collapsed": false,
    "jupyter": {
     "outputs_hidden": false
    }
   },
   "outputs": [
    {
     "data": {
      "text/plain": [
       "2021-01-31         NaN\n",
       "2021-02-28    0.166667\n",
       "2021-03-31   -0.142857\n",
       "2021-04-30    0.000000\n",
       "Freq: M, dtype: float64"
      ]
     },
     "execution_count": 76,
     "metadata": {},
     "output_type": "execute_result"
    }
   ],
   "source": [
    "ts/ts.shift(1) - 1.0"
   ]
  },
  {
   "cell_type": "markdown",
   "metadata": {},
   "source": [
    "Since naive shifts leave index unchanged, some data is lost. To shift both data and index, pass in the frequency."
   ]
  },
  {
   "cell_type": "code",
   "execution_count": 77,
   "metadata": {
    "collapsed": false,
    "jupyter": {
     "outputs_hidden": false
    }
   },
   "outputs": [
    {
     "data": {
      "text/plain": [
       "2021-01-31    NaN\n",
       "2021-02-28    6.0\n",
       "2021-03-31    7.0\n",
       "2021-04-30    6.0\n",
       "Freq: M, dtype: float64"
      ]
     },
     "execution_count": 77,
     "metadata": {},
     "output_type": "execute_result"
    }
   ],
   "source": [
    "# Index unchanged\n",
    "ts.shift(1)"
   ]
  },
  {
   "cell_type": "code",
   "execution_count": 78,
   "metadata": {
    "collapsed": false,
    "jupyter": {
     "outputs_hidden": false
    }
   },
   "outputs": [
    {
     "data": {
      "text/plain": [
       "2021-02-28    6\n",
       "2021-03-31    7\n",
       "2021-04-30    6\n",
       "2021-05-31    6\n",
       "Freq: M, dtype: int32"
      ]
     },
     "execution_count": 78,
     "metadata": {},
     "output_type": "execute_result"
    }
   ],
   "source": [
    "# Index shifted as well\n",
    "ts.shift(1, freq='M')"
   ]
  },
  {
   "cell_type": "markdown",
   "metadata": {},
   "source": [
    "Periods and period arithmetic\n",
    "------------------------------\n",
    "\n",
    "Periods represent time spans like months or quarters or years and are quite useful when doing statistical aggregations such as averages or sums by time period."
   ]
  },
  {
   "cell_type": "markdown",
   "metadata": {},
   "source": [
    "From the [pandas docs](http://pandas.pydata.org/pandas-docs/dev/timeseries.html):\n",
    "\n",
    "> Starting with 0.8, pandas allows you to capture both representations and convert between them. Under the hood, pandas represents timestamps using instances of Timestamp and sequences of timestamps using instances of DatetimeIndex. For regular time spans, pandas uses Period objects for scalar values and PeriodIndex for sequences of spans."
   ]
  },
  {
   "cell_type": "code",
   "execution_count": 79,
   "metadata": {
    "collapsed": false,
    "jupyter": {
     "outputs_hidden": false
    }
   },
   "outputs": [
    {
     "data": {
      "text/plain": [
       "Period('2021-06', 'M')"
      ]
     },
     "execution_count": 79,
     "metadata": {},
     "output_type": "execute_result"
    }
   ],
   "source": [
    "p = pd.Period('6/1/2021', freq='M')\n",
    "p"
   ]
  },
  {
   "cell_type": "code",
   "execution_count": 80,
   "metadata": {
    "collapsed": false,
    "jupyter": {
     "outputs_hidden": false
    }
   },
   "outputs": [
    {
     "data": {
      "text/plain": [
       "Period('2021-12', 'M')"
      ]
     },
     "execution_count": 80,
     "metadata": {},
     "output_type": "execute_result"
    }
   ],
   "source": [
    "p + 6"
   ]
  },
  {
   "cell_type": "code",
   "execution_count": 81,
   "metadata": {
    "collapsed": false,
    "jupyter": {
     "outputs_hidden": false
    }
   },
   "outputs": [
    {
     "data": {
      "text/plain": [
       "PeriodIndex(['2018Q1', '2018Q2', '2018Q3', '2018Q4', '2019Q1', '2019Q2',\n",
       "             '2019Q3', '2019Q4', '2020Q1', '2020Q2', '2020Q3', '2020Q4',\n",
       "             '2021Q1', '2021Q2'],\n",
       "            dtype='period[Q-DEC]')"
      ]
     },
     "execution_count": 81,
     "metadata": {},
     "output_type": "execute_result"
    }
   ],
   "source": [
    "# Ranges of periods is done much like ranges of dates\n",
    "rng = pd.period_range('1/1/2018', '6/1/2021', freq='Q')\n",
    "rng"
   ]
  },
  {
   "cell_type": "markdown",
   "metadata": {},
   "source": [
    "Resampling and frequency conversion\n",
    "-----------------------------------\n",
    "\n",
    "*Resampling* - convert time series from one frequency to another.\n",
    "\n",
    "- *Downsampling* - higher frequency to lower frequency (e.g. daily to monthly)\n",
    "- *Upsampling* - lower frequency to higher frequency (e.g. annual to monthly)\n"
   ]
  },
  {
   "cell_type": "markdown",
   "metadata": {},
   "source": [
    "### Downsampling\n",
    "\n",
    "Take a daily time series and convert to monthly. Let's create a simple series of daily values. The index of the series is a pandas `DateTimeIndex`."
   ]
  },
  {
   "cell_type": "code",
   "execution_count": 82,
   "metadata": {
    "collapsed": false,
    "jupyter": {
     "outputs_hidden": false
    }
   },
   "outputs": [],
   "source": [
    "rng = pd.date_range('9/1/2012', periods=100, freq='D')"
   ]
  },
  {
   "cell_type": "code",
   "execution_count": 83,
   "metadata": {
    "collapsed": false,
    "jupyter": {
     "outputs_hidden": false
    }
   },
   "outputs": [],
   "source": [
    "ts = Series(np.random.randint(1, 25, len(rng)), index=rng)"
   ]
  },
  {
   "cell_type": "code",
   "execution_count": 84,
   "metadata": {
    "collapsed": false,
    "jupyter": {
     "outputs_hidden": false
    }
   },
   "outputs": [
    {
     "data": {
      "text/plain": [
       "2012-09-01    19\n",
       "2012-09-02     3\n",
       "2012-09-03    18\n",
       "2012-09-04    14\n",
       "2012-09-05     4\n",
       "              ..\n",
       "2012-12-05     4\n",
       "2012-12-06    17\n",
       "2012-12-07    17\n",
       "2012-12-08    19\n",
       "2012-12-09    12\n",
       "Freq: D, Length: 100, dtype: int32"
      ]
     },
     "execution_count": 84,
     "metadata": {},
     "output_type": "execute_result"
    }
   ],
   "source": [
    "ts"
   ]
  },
  {
   "cell_type": "markdown",
   "metadata": {},
   "source": [
    "To compute monthly means, we use `resample` as follows. The `kind='period'` specifies that the resulting index should use `Periods` instead of `Timestamps`."
   ]
  },
  {
   "cell_type": "code",
   "execution_count": 85,
   "metadata": {
    "collapsed": false,
    "jupyter": {
     "outputs_hidden": false
    }
   },
   "outputs": [
    {
     "data": {
      "text/plain": [
       "2012-09    12.166667\n",
       "2012-10    10.677419\n",
       "2012-11    11.800000\n",
       "2012-12    14.000000\n",
       "Freq: M, dtype: float64"
      ]
     },
     "execution_count": 85,
     "metadata": {},
     "output_type": "execute_result"
    }
   ],
   "source": [
    "ts.resample('M', kind='period').mean()"
   ]
  },
  {
   "cell_type": "markdown",
   "metadata": {},
   "source": [
    "Now, let's do a sum and this time have the resulting index be `Timestamps`. Note the difference."
   ]
  },
  {
   "cell_type": "code",
   "execution_count": 86,
   "metadata": {
    "collapsed": false,
    "jupyter": {
     "outputs_hidden": false
    }
   },
   "outputs": [
    {
     "data": {
      "text/plain": [
       "2012-09-30    365\n",
       "2012-10-31    331\n",
       "2012-11-30    354\n",
       "2012-12-31    126\n",
       "Freq: M, dtype: int32"
      ]
     },
     "execution_count": 86,
     "metadata": {},
     "output_type": "execute_result"
    }
   ],
   "source": [
    "ts.resample('M', kind='timestamp').sum()"
   ]
  },
  {
   "cell_type": "markdown",
   "metadata": {},
   "source": [
    "If you don't specify `kind`, the result is whatever the original index is."
   ]
  },
  {
   "cell_type": "code",
   "execution_count": 87,
   "metadata": {
    "collapsed": false,
    "jupyter": {
     "outputs_hidden": false
    }
   },
   "outputs": [
    {
     "data": {
      "text/plain": [
       "2012-09-30    365\n",
       "2012-10-31    331\n",
       "2012-11-30    354\n",
       "2012-12-31    126\n",
       "Freq: M, dtype: int32"
      ]
     },
     "execution_count": 87,
     "metadata": {},
     "output_type": "execute_result"
    }
   ],
   "source": [
    "ts.resample('M').sum()"
   ]
  },
  {
   "cell_type": "markdown",
   "metadata": {},
   "source": [
    "Whenver you are downsampling, you need to think about two *bin boundary* issues:\n",
    "\n",
    "* is the interval closed on the left or the right?\n",
    "* is the bin label based on the left or right bin boundary?\n",
    "\n",
    "With resampling from days to months, the question of left or right closure isn't really an issue, but consider changing from 15 minute time bins to 30 minute time bins."
   ]
  },
  {
   "cell_type": "code",
   "execution_count": 88,
   "metadata": {
    "collapsed": false,
    "jupyter": {
     "outputs_hidden": false
    }
   },
   "outputs": [],
   "source": [
    "rng15 = pd.date_range('3/1/2021', periods=96, freq='15T')"
   ]
  },
  {
   "cell_type": "code",
   "execution_count": 89,
   "metadata": {
    "collapsed": false,
    "jupyter": {
     "outputs_hidden": false
    }
   },
   "outputs": [],
   "source": [
    "ts15 = Series(np.random.randint(1, 25, len(rng15)), index=rng15)"
   ]
  },
  {
   "cell_type": "code",
   "execution_count": 90,
   "metadata": {
    "collapsed": false,
    "jupyter": {
     "outputs_hidden": false
    }
   },
   "outputs": [
    {
     "data": {
      "text/plain": [
       "2021-03-01 00:00:00    15\n",
       "2021-03-01 00:15:00    23\n",
       "2021-03-01 00:30:00     9\n",
       "2021-03-01 00:45:00     3\n",
       "2021-03-01 01:00:00     9\n",
       "                       ..\n",
       "2021-03-01 22:45:00    20\n",
       "2021-03-01 23:00:00     1\n",
       "2021-03-01 23:15:00     5\n",
       "2021-03-01 23:30:00     6\n",
       "2021-03-01 23:45:00    16\n",
       "Freq: 15T, Length: 96, dtype: int32"
      ]
     },
     "execution_count": 90,
     "metadata": {},
     "output_type": "execute_result"
    }
   ],
   "source": [
    "ts15"
   ]
  },
  {
   "cell_type": "markdown",
   "metadata": {},
   "source": [
    "Now, if we resample to 30 minute bins and take the mean across each set of two 15 bins, we need to specify if the times on the half hour such as 22:30 in the original series should go in the bin from (22:15,22:30] or [22:30,22:45). The first is referred to as closed on the right and the second as closed on the left. The default is close on right. You can also control whether the left or right edge of the bin is used as the label (independent of which side \"closes\" the interval)."
   ]
  },
  {
   "cell_type": "code",
   "execution_count": 91,
   "metadata": {
    "collapsed": false,
    "jupyter": {
     "outputs_hidden": false
    }
   },
   "outputs": [
    {
     "data": {
      "text/plain": [
       "2021-02-28 23:30:00    15.0\n",
       "2021-03-01 00:00:00    16.0\n",
       "2021-03-01 00:30:00     6.0\n",
       "2021-03-01 01:00:00    13.5\n",
       "2021-03-01 01:30:00    15.0\n",
       "2021-03-01 02:00:00     9.5\n",
       "2021-03-01 02:30:00    17.0\n",
       "2021-03-01 03:00:00     7.0\n",
       "2021-03-01 03:30:00     9.0\n",
       "2021-03-01 04:00:00    13.5\n",
       "2021-03-01 04:30:00    16.5\n",
       "2021-03-01 05:00:00    16.0\n",
       "2021-03-01 05:30:00    11.0\n",
       "2021-03-01 06:00:00    16.0\n",
       "2021-03-01 06:30:00    15.5\n",
       "2021-03-01 07:00:00    10.0\n",
       "2021-03-01 07:30:00    15.5\n",
       "2021-03-01 08:00:00     6.5\n",
       "2021-03-01 08:30:00    16.0\n",
       "2021-03-01 09:00:00    12.5\n",
       "2021-03-01 09:30:00    16.5\n",
       "2021-03-01 10:00:00    13.0\n",
       "2021-03-01 10:30:00     7.0\n",
       "2021-03-01 11:00:00    19.5\n",
       "2021-03-01 11:30:00    13.5\n",
       "2021-03-01 12:00:00    11.0\n",
       "2021-03-01 12:30:00    14.5\n",
       "2021-03-01 13:00:00     9.0\n",
       "2021-03-01 13:30:00    15.0\n",
       "2021-03-01 14:00:00     8.5\n",
       "2021-03-01 14:30:00    16.0\n",
       "2021-03-01 15:00:00    10.0\n",
       "2021-03-01 15:30:00     9.0\n",
       "2021-03-01 16:00:00    10.0\n",
       "2021-03-01 16:30:00    12.0\n",
       "2021-03-01 17:00:00     7.5\n",
       "2021-03-01 17:30:00     5.0\n",
       "2021-03-01 18:00:00    14.0\n",
       "2021-03-01 18:30:00    14.5\n",
       "2021-03-01 19:00:00    13.5\n",
       "2021-03-01 19:30:00     2.5\n",
       "2021-03-01 20:00:00    14.0\n",
       "2021-03-01 20:30:00    10.0\n",
       "2021-03-01 21:00:00    14.0\n",
       "2021-03-01 21:30:00     5.0\n",
       "2021-03-01 22:00:00    18.0\n",
       "2021-03-01 22:30:00    10.5\n",
       "2021-03-01 23:00:00     5.5\n",
       "2021-03-01 23:30:00    16.0\n",
       "Freq: 30T, dtype: float64"
      ]
     },
     "execution_count": 91,
     "metadata": {},
     "output_type": "execute_result"
    }
   ],
   "source": [
    "ts15.resample('30min', closed='right', label='left').mean()"
   ]
  },
  {
   "cell_type": "markdown",
   "metadata": {},
   "source": [
    "Notice how in the example above, the first record is labelled with '2021-02-28' since it's the left boundary and we picked 'right' for closing intervals and 'left' for labelling. We might want to close and label on the left."
   ]
  },
  {
   "cell_type": "code",
   "execution_count": 92,
   "metadata": {
    "collapsed": false,
    "jupyter": {
     "outputs_hidden": false
    }
   },
   "outputs": [
    {
     "data": {
      "text/plain": [
       "2021-03-01 00:00:00    19.0\n",
       "2021-03-01 00:30:00     6.0\n",
       "2021-03-01 01:00:00    16.0\n",
       "2021-03-01 01:30:00     9.0\n",
       "2021-03-01 02:00:00    12.5\n",
       "2021-03-01 02:30:00    12.0\n",
       "2021-03-01 03:00:00    14.5\n",
       "2021-03-01 03:30:00     8.5\n",
       "2021-03-01 04:00:00     9.5\n",
       "2021-03-01 04:30:00    14.5\n",
       "2021-03-01 05:00:00    18.5\n",
       "2021-03-01 05:30:00     9.5\n",
       "2021-03-01 06:00:00    13.5\n",
       "2021-03-01 06:30:00    18.5\n",
       "2021-03-01 07:00:00     9.0\n",
       "2021-03-01 07:30:00    20.0\n",
       "2021-03-01 08:00:00    10.0\n",
       "2021-03-01 08:30:00     6.5\n",
       "2021-03-01 09:00:00    13.0\n",
       "2021-03-01 09:30:00    19.0\n",
       "2021-03-01 10:00:00     8.5\n",
       "2021-03-01 10:30:00    17.5\n",
       "2021-03-01 11:00:00    13.0\n",
       "2021-03-01 11:30:00    10.0\n",
       "2021-03-01 12:00:00    16.0\n",
       "2021-03-01 12:30:00     9.5\n",
       "2021-03-01 13:00:00    17.0\n",
       "2021-03-01 13:30:00     6.5\n",
       "2021-03-01 14:00:00    18.0\n",
       "2021-03-01 14:30:00    13.0\n",
       "2021-03-01 15:00:00     8.0\n",
       "2021-03-01 15:30:00    15.0\n",
       "2021-03-01 16:00:00     3.0\n",
       "2021-03-01 16:30:00    15.5\n",
       "2021-03-01 17:00:00     9.0\n",
       "2021-03-01 17:30:00     7.0\n",
       "2021-03-01 18:00:00     9.5\n",
       "2021-03-01 18:30:00    15.0\n",
       "2021-03-01 19:00:00     7.0\n",
       "2021-03-01 19:30:00    12.5\n",
       "2021-03-01 20:00:00     9.0\n",
       "2021-03-01 20:30:00    12.0\n",
       "2021-03-01 21:00:00    12.5\n",
       "2021-03-01 21:30:00     9.0\n",
       "2021-03-01 22:00:00     8.5\n",
       "2021-03-01 22:30:00    21.5\n",
       "2021-03-01 23:00:00     3.0\n",
       "2021-03-01 23:30:00    11.0\n",
       "Freq: 30T, dtype: float64"
      ]
     },
     "execution_count": 92,
     "metadata": {},
     "output_type": "execute_result"
    }
   ],
   "source": [
    "ts30 = ts15.resample('30min', closed='left', label='left').mean()\n",
    "ts30"
   ]
  },
  {
   "cell_type": "markdown",
   "metadata": {},
   "source": [
    "A common financial aggregation is to compute the first (open), last (close), max (high), min (low) values for each bucket. If you use `ohlc()`, you get a `DataFrame` with these aggregations computed automatically."
   ]
  },
  {
   "cell_type": "code",
   "execution_count": 93,
   "metadata": {
    "collapsed": false,
    "jupyter": {
     "outputs_hidden": false
    }
   },
   "outputs": [
    {
     "data": {
      "text/html": [
       "<div>\n",
       "<style scoped>\n",
       "    .dataframe tbody tr th:only-of-type {\n",
       "        vertical-align: middle;\n",
       "    }\n",
       "\n",
       "    .dataframe tbody tr th {\n",
       "        vertical-align: top;\n",
       "    }\n",
       "\n",
       "    .dataframe thead th {\n",
       "        text-align: right;\n",
       "    }\n",
       "</style>\n",
       "<table border=\"1\" class=\"dataframe\">\n",
       "  <thead>\n",
       "    <tr style=\"text-align: right;\">\n",
       "      <th></th>\n",
       "      <th>open</th>\n",
       "      <th>high</th>\n",
       "      <th>low</th>\n",
       "      <th>close</th>\n",
       "    </tr>\n",
       "  </thead>\n",
       "  <tbody>\n",
       "    <tr>\n",
       "      <th>2021-03-01 00:00:00</th>\n",
       "      <td>15</td>\n",
       "      <td>23</td>\n",
       "      <td>3</td>\n",
       "      <td>3</td>\n",
       "    </tr>\n",
       "    <tr>\n",
       "      <th>2021-03-01 01:00:00</th>\n",
       "      <td>9</td>\n",
       "      <td>23</td>\n",
       "      <td>4</td>\n",
       "      <td>14</td>\n",
       "    </tr>\n",
       "    <tr>\n",
       "      <th>2021-03-01 02:00:00</th>\n",
       "      <td>16</td>\n",
       "      <td>16</td>\n",
       "      <td>9</td>\n",
       "      <td>14</td>\n",
       "    </tr>\n",
       "    <tr>\n",
       "      <th>2021-03-01 03:00:00</th>\n",
       "      <td>20</td>\n",
       "      <td>20</td>\n",
       "      <td>5</td>\n",
       "      <td>12</td>\n",
       "    </tr>\n",
       "    <tr>\n",
       "      <th>2021-03-01 04:00:00</th>\n",
       "      <td>6</td>\n",
       "      <td>15</td>\n",
       "      <td>6</td>\n",
       "      <td>15</td>\n",
       "    </tr>\n",
       "    <tr>\n",
       "      <th>2021-03-01 05:00:00</th>\n",
       "      <td>18</td>\n",
       "      <td>19</td>\n",
       "      <td>6</td>\n",
       "      <td>6</td>\n",
       "    </tr>\n",
       "    <tr>\n",
       "      <th>2021-03-01 06:00:00</th>\n",
       "      <td>16</td>\n",
       "      <td>21</td>\n",
       "      <td>11</td>\n",
       "      <td>16</td>\n",
       "    </tr>\n",
       "    <tr>\n",
       "      <th>2021-03-01 07:00:00</th>\n",
       "      <td>15</td>\n",
       "      <td>23</td>\n",
       "      <td>3</td>\n",
       "      <td>23</td>\n",
       "    </tr>\n",
       "    <tr>\n",
       "      <th>2021-03-01 08:00:00</th>\n",
       "      <td>8</td>\n",
       "      <td>12</td>\n",
       "      <td>1</td>\n",
       "      <td>12</td>\n",
       "    </tr>\n",
       "    <tr>\n",
       "      <th>2021-03-01 09:00:00</th>\n",
       "      <td>20</td>\n",
       "      <td>20</td>\n",
       "      <td>6</td>\n",
       "      <td>19</td>\n",
       "    </tr>\n",
       "    <tr>\n",
       "      <th>2021-03-01 10:00:00</th>\n",
       "      <td>14</td>\n",
       "      <td>23</td>\n",
       "      <td>3</td>\n",
       "      <td>12</td>\n",
       "    </tr>\n",
       "    <tr>\n",
       "      <th>2021-03-01 11:00:00</th>\n",
       "      <td>2</td>\n",
       "      <td>24</td>\n",
       "      <td>2</td>\n",
       "      <td>5</td>\n",
       "    </tr>\n",
       "    <tr>\n",
       "      <th>2021-03-01 12:00:00</th>\n",
       "      <td>22</td>\n",
       "      <td>22</td>\n",
       "      <td>7</td>\n",
       "      <td>7</td>\n",
       "    </tr>\n",
       "    <tr>\n",
       "      <th>2021-03-01 13:00:00</th>\n",
       "      <td>22</td>\n",
       "      <td>22</td>\n",
       "      <td>6</td>\n",
       "      <td>7</td>\n",
       "    </tr>\n",
       "    <tr>\n",
       "      <th>2021-03-01 14:00:00</th>\n",
       "      <td>23</td>\n",
       "      <td>23</td>\n",
       "      <td>4</td>\n",
       "      <td>22</td>\n",
       "    </tr>\n",
       "    <tr>\n",
       "      <th>2021-03-01 15:00:00</th>\n",
       "      <td>10</td>\n",
       "      <td>16</td>\n",
       "      <td>6</td>\n",
       "      <td>16</td>\n",
       "    </tr>\n",
       "    <tr>\n",
       "      <th>2021-03-01 16:00:00</th>\n",
       "      <td>2</td>\n",
       "      <td>16</td>\n",
       "      <td>2</td>\n",
       "      <td>15</td>\n",
       "    </tr>\n",
       "    <tr>\n",
       "      <th>2021-03-01 17:00:00</th>\n",
       "      <td>9</td>\n",
       "      <td>9</td>\n",
       "      <td>6</td>\n",
       "      <td>8</td>\n",
       "    </tr>\n",
       "    <tr>\n",
       "      <th>2021-03-01 18:00:00</th>\n",
       "      <td>2</td>\n",
       "      <td>19</td>\n",
       "      <td>2</td>\n",
       "      <td>19</td>\n",
       "    </tr>\n",
       "    <tr>\n",
       "      <th>2021-03-01 19:00:00</th>\n",
       "      <td>10</td>\n",
       "      <td>23</td>\n",
       "      <td>2</td>\n",
       "      <td>2</td>\n",
       "    </tr>\n",
       "    <tr>\n",
       "      <th>2021-03-01 20:00:00</th>\n",
       "      <td>3</td>\n",
       "      <td>15</td>\n",
       "      <td>3</td>\n",
       "      <td>11</td>\n",
       "    </tr>\n",
       "    <tr>\n",
       "      <th>2021-03-01 21:00:00</th>\n",
       "      <td>9</td>\n",
       "      <td>16</td>\n",
       "      <td>6</td>\n",
       "      <td>6</td>\n",
       "    </tr>\n",
       "    <tr>\n",
       "      <th>2021-03-01 22:00:00</th>\n",
       "      <td>4</td>\n",
       "      <td>23</td>\n",
       "      <td>4</td>\n",
       "      <td>20</td>\n",
       "    </tr>\n",
       "    <tr>\n",
       "      <th>2021-03-01 23:00:00</th>\n",
       "      <td>1</td>\n",
       "      <td>16</td>\n",
       "      <td>1</td>\n",
       "      <td>16</td>\n",
       "    </tr>\n",
       "  </tbody>\n",
       "</table>\n",
       "</div>"
      ],
      "text/plain": [
       "                     open  high  low  close\n",
       "2021-03-01 00:00:00    15    23    3      3\n",
       "2021-03-01 01:00:00     9    23    4     14\n",
       "2021-03-01 02:00:00    16    16    9     14\n",
       "2021-03-01 03:00:00    20    20    5     12\n",
       "2021-03-01 04:00:00     6    15    6     15\n",
       "2021-03-01 05:00:00    18    19    6      6\n",
       "2021-03-01 06:00:00    16    21   11     16\n",
       "2021-03-01 07:00:00    15    23    3     23\n",
       "2021-03-01 08:00:00     8    12    1     12\n",
       "2021-03-01 09:00:00    20    20    6     19\n",
       "2021-03-01 10:00:00    14    23    3     12\n",
       "2021-03-01 11:00:00     2    24    2      5\n",
       "2021-03-01 12:00:00    22    22    7      7\n",
       "2021-03-01 13:00:00    22    22    6      7\n",
       "2021-03-01 14:00:00    23    23    4     22\n",
       "2021-03-01 15:00:00    10    16    6     16\n",
       "2021-03-01 16:00:00     2    16    2     15\n",
       "2021-03-01 17:00:00     9     9    6      8\n",
       "2021-03-01 18:00:00     2    19    2     19\n",
       "2021-03-01 19:00:00    10    23    2      2\n",
       "2021-03-01 20:00:00     3    15    3     11\n",
       "2021-03-01 21:00:00     9    16    6      6\n",
       "2021-03-01 22:00:00     4    23    4     20\n",
       "2021-03-01 23:00:00     1    16    1     16"
      ]
     },
     "execution_count": 93,
     "metadata": {},
     "output_type": "execute_result"
    }
   ],
   "source": [
    "ts60 = ts15.resample('60min', closed='left', label='left').ohlc()\n",
    "ts60"
   ]
  },
  {
   "cell_type": "markdown",
   "metadata": {},
   "source": [
    "### Upsampling\n",
    "\n",
    "Upsampling brings an entirely different set of challenges. If we increase the frequency of the samples, how do we fill in these new time series values? For example, consider the reverse of the last example. Then check out the `fill_method` options."
   ]
  },
  {
   "cell_type": "code",
   "execution_count": 94,
   "metadata": {
    "collapsed": false,
    "jupyter": {
     "outputs_hidden": false
    }
   },
   "outputs": [
    {
     "data": {
      "text/plain": [
       "2021-03-01 00:00:00    19.0\n",
       "2021-03-01 00:30:00     6.0\n",
       "2021-03-01 01:00:00    16.0\n",
       "2021-03-01 01:30:00     9.0\n",
       "2021-03-01 02:00:00    12.5\n",
       "2021-03-01 02:30:00    12.0\n",
       "2021-03-01 03:00:00    14.5\n",
       "2021-03-01 03:30:00     8.5\n",
       "2021-03-01 04:00:00     9.5\n",
       "2021-03-01 04:30:00    14.5\n",
       "2021-03-01 05:00:00    18.5\n",
       "2021-03-01 05:30:00     9.5\n",
       "2021-03-01 06:00:00    13.5\n",
       "2021-03-01 06:30:00    18.5\n",
       "2021-03-01 07:00:00     9.0\n",
       "2021-03-01 07:30:00    20.0\n",
       "2021-03-01 08:00:00    10.0\n",
       "2021-03-01 08:30:00     6.5\n",
       "2021-03-01 09:00:00    13.0\n",
       "2021-03-01 09:30:00    19.0\n",
       "2021-03-01 10:00:00     8.5\n",
       "2021-03-01 10:30:00    17.5\n",
       "2021-03-01 11:00:00    13.0\n",
       "2021-03-01 11:30:00    10.0\n",
       "2021-03-01 12:00:00    16.0\n",
       "2021-03-01 12:30:00     9.5\n",
       "2021-03-01 13:00:00    17.0\n",
       "2021-03-01 13:30:00     6.5\n",
       "2021-03-01 14:00:00    18.0\n",
       "2021-03-01 14:30:00    13.0\n",
       "2021-03-01 15:00:00     8.0\n",
       "2021-03-01 15:30:00    15.0\n",
       "2021-03-01 16:00:00     3.0\n",
       "2021-03-01 16:30:00    15.5\n",
       "2021-03-01 17:00:00     9.0\n",
       "2021-03-01 17:30:00     7.0\n",
       "2021-03-01 18:00:00     9.5\n",
       "2021-03-01 18:30:00    15.0\n",
       "2021-03-01 19:00:00     7.0\n",
       "2021-03-01 19:30:00    12.5\n",
       "2021-03-01 20:00:00     9.0\n",
       "2021-03-01 20:30:00    12.0\n",
       "2021-03-01 21:00:00    12.5\n",
       "2021-03-01 21:30:00     9.0\n",
       "2021-03-01 22:00:00     8.5\n",
       "2021-03-01 22:30:00    21.5\n",
       "2021-03-01 23:00:00     3.0\n",
       "2021-03-01 23:30:00    11.0\n",
       "Freq: 30T, dtype: float64"
      ]
     },
     "execution_count": 94,
     "metadata": {},
     "output_type": "execute_result"
    }
   ],
   "source": [
    "ts30"
   ]
  },
  {
   "cell_type": "code",
   "execution_count": 95,
   "metadata": {
    "collapsed": false,
    "jupyter": {
     "outputs_hidden": false
    }
   },
   "outputs": [
    {
     "data": {
      "text/plain": [
       "2021-03-01 00:00:00    19.0\n",
       "2021-03-01 00:15:00     NaN\n",
       "2021-03-01 00:30:00     6.0\n",
       "2021-03-01 00:45:00     NaN\n",
       "2021-03-01 01:00:00    16.0\n",
       "                       ... \n",
       "2021-03-01 22:30:00    21.5\n",
       "2021-03-01 22:45:00     NaN\n",
       "2021-03-01 23:00:00     3.0\n",
       "2021-03-01 23:15:00     NaN\n",
       "2021-03-01 23:30:00    11.0\n",
       "Freq: 15T, Length: 95, dtype: float64"
      ]
     },
     "execution_count": 95,
     "metadata": {},
     "output_type": "execute_result"
    }
   ],
   "source": [
    "ts30.resample('15min').asfreq()"
   ]
  },
  {
   "cell_type": "markdown",
   "metadata": {},
   "source": [
    "You can replace the NaN's in various ways. For \"forward fill\" them we can use `pad()`. For backfilling, use `bfill`."
   ]
  },
  {
   "cell_type": "code",
   "execution_count": 96,
   "metadata": {},
   "outputs": [
    {
     "data": {
      "text/plain": [
       "2021-03-01 00:00:00    19.0\n",
       "2021-03-01 00:15:00    19.0\n",
       "2021-03-01 00:30:00     6.0\n",
       "2021-03-01 00:45:00     6.0\n",
       "2021-03-01 01:00:00    16.0\n",
       "                       ... \n",
       "2021-03-01 22:30:00    21.5\n",
       "2021-03-01 22:45:00    21.5\n",
       "2021-03-01 23:00:00     3.0\n",
       "2021-03-01 23:15:00     3.0\n",
       "2021-03-01 23:30:00    11.0\n",
       "Freq: 15T, Length: 95, dtype: float64"
      ]
     },
     "execution_count": 96,
     "metadata": {},
     "output_type": "execute_result"
    }
   ],
   "source": [
    "ts30.resample('15min').asfreq().pad()"
   ]
  },
  {
   "cell_type": "code",
   "execution_count": 97,
   "metadata": {},
   "outputs": [
    {
     "data": {
      "text/plain": [
       "2021-03-01 00:00:00    19.0\n",
       "2021-03-01 00:15:00     6.0\n",
       "2021-03-01 00:30:00     6.0\n",
       "2021-03-01 00:45:00    16.0\n",
       "2021-03-01 01:00:00    16.0\n",
       "                       ... \n",
       "2021-03-01 22:30:00    21.5\n",
       "2021-03-01 22:45:00     3.0\n",
       "2021-03-01 23:00:00     3.0\n",
       "2021-03-01 23:15:00    11.0\n",
       "2021-03-01 23:30:00    11.0\n",
       "Freq: 15T, Length: 95, dtype: float64"
      ]
     },
     "execution_count": 97,
     "metadata": {},
     "output_type": "execute_result"
    }
   ],
   "source": [
    "ts30.resample('15min').asfreq().bfill()"
   ]
  },
  {
   "cell_type": "markdown",
   "metadata": {},
   "source": [
    "## Grouping by datetime and additional fields\n",
    "\n",
    "If you are just grouping by a `DatetimeIndex`, you can use resample as done above. If you have additional grouping fields or if you have a datetime field that is not the index, then use the `Grouper` object inside of `groupby`. A good overview is available in this Practical Business Python blog post:\n",
    "\n",
    "* https://pbpython.com/pandas-grouper-agg.html\n",
    "\n",
    "We can use `prices_df` to show `Grouper` in use by computing the mean price by month. Notice how easy it would be to use a different time frequency."
   ]
  },
  {
   "cell_type": "code",
   "execution_count": 98,
   "metadata": {},
   "outputs": [
    {
     "data": {
      "text/html": [
       "<div>\n",
       "<style scoped>\n",
       "    .dataframe tbody tr th:only-of-type {\n",
       "        vertical-align: middle;\n",
       "    }\n",
       "\n",
       "    .dataframe tbody tr th {\n",
       "        vertical-align: top;\n",
       "    }\n",
       "\n",
       "    .dataframe thead th {\n",
       "        text-align: right;\n",
       "    }\n",
       "</style>\n",
       "<table border=\"1\" class=\"dataframe\">\n",
       "  <thead>\n",
       "    <tr style=\"text-align: right;\">\n",
       "      <th></th>\n",
       "      <th>AAPL</th>\n",
       "      <th>MSFT</th>\n",
       "      <th>XOM</th>\n",
       "      <th>SPX</th>\n",
       "    </tr>\n",
       "    <tr>\n",
       "      <th>Date</th>\n",
       "      <th></th>\n",
       "      <th></th>\n",
       "      <th></th>\n",
       "      <th></th>\n",
       "    </tr>\n",
       "  </thead>\n",
       "  <tbody>\n",
       "    <tr>\n",
       "      <th>2003-01-31</th>\n",
       "      <td>7.239048</td>\n",
       "      <td>20.742381</td>\n",
       "      <td>28.356190</td>\n",
       "      <td>895.836190</td>\n",
       "    </tr>\n",
       "    <tr>\n",
       "      <th>2003-02-28</th>\n",
       "      <td>7.333684</td>\n",
       "      <td>18.786316</td>\n",
       "      <td>27.985263</td>\n",
       "      <td>837.618947</td>\n",
       "    </tr>\n",
       "    <tr>\n",
       "      <th>2003-03-31</th>\n",
       "      <td>7.299048</td>\n",
       "      <td>19.395238</td>\n",
       "      <td>29.065238</td>\n",
       "      <td>846.621429</td>\n",
       "    </tr>\n",
       "    <tr>\n",
       "      <th>2003-04-30</th>\n",
       "      <td>6.923810</td>\n",
       "      <td>19.871429</td>\n",
       "      <td>29.050476</td>\n",
       "      <td>890.025714</td>\n",
       "    </tr>\n",
       "    <tr>\n",
       "      <th>2003-05-31</th>\n",
       "      <td>8.885238</td>\n",
       "      <td>19.946667</td>\n",
       "      <td>29.728571</td>\n",
       "      <td>935.962857</td>\n",
       "    </tr>\n",
       "    <tr>\n",
       "      <th>...</th>\n",
       "      <td>...</td>\n",
       "      <td>...</td>\n",
       "      <td>...</td>\n",
       "      <td>...</td>\n",
       "    </tr>\n",
       "    <tr>\n",
       "      <th>2011-06-30</th>\n",
       "      <td>331.081364</td>\n",
       "      <td>24.299091</td>\n",
       "      <td>79.365909</td>\n",
       "      <td>1287.288636</td>\n",
       "    </tr>\n",
       "    <tr>\n",
       "      <th>2011-07-31</th>\n",
       "      <td>372.238000</td>\n",
       "      <td>26.799000</td>\n",
       "      <td>82.196500</td>\n",
       "      <td>1325.184500</td>\n",
       "    </tr>\n",
       "    <tr>\n",
       "      <th>2011-08-31</th>\n",
       "      <td>376.762609</td>\n",
       "      <td>25.317826</td>\n",
       "      <td>73.058696</td>\n",
       "      <td>1185.305652</td>\n",
       "    </tr>\n",
       "    <tr>\n",
       "      <th>2011-09-30</th>\n",
       "      <td>392.493333</td>\n",
       "      <td>25.969048</td>\n",
       "      <td>72.399524</td>\n",
       "      <td>1173.879048</td>\n",
       "    </tr>\n",
       "    <tr>\n",
       "      <th>2011-10-31</th>\n",
       "      <td>389.424000</td>\n",
       "      <td>26.370000</td>\n",
       "      <td>74.957000</td>\n",
       "      <td>1171.356000</td>\n",
       "    </tr>\n",
       "  </tbody>\n",
       "</table>\n",
       "<p>106 rows × 4 columns</p>\n",
       "</div>"
      ],
      "text/plain": [
       "                  AAPL       MSFT        XOM          SPX\n",
       "Date                                                     \n",
       "2003-01-31    7.239048  20.742381  28.356190   895.836190\n",
       "2003-02-28    7.333684  18.786316  27.985263   837.618947\n",
       "2003-03-31    7.299048  19.395238  29.065238   846.621429\n",
       "2003-04-30    6.923810  19.871429  29.050476   890.025714\n",
       "2003-05-31    8.885238  19.946667  29.728571   935.962857\n",
       "...                ...        ...        ...          ...\n",
       "2011-06-30  331.081364  24.299091  79.365909  1287.288636\n",
       "2011-07-31  372.238000  26.799000  82.196500  1325.184500\n",
       "2011-08-31  376.762609  25.317826  73.058696  1185.305652\n",
       "2011-09-30  392.493333  25.969048  72.399524  1173.879048\n",
       "2011-10-31  389.424000  26.370000  74.957000  1171.356000\n",
       "\n",
       "[106 rows x 4 columns]"
      ]
     },
     "execution_count": 98,
     "metadata": {},
     "output_type": "execute_result"
    }
   ],
   "source": [
    "prices_df.groupby(pd.Grouper(key='Date', freq='M')).mean()"
   ]
  },
  {
   "cell_type": "markdown",
   "metadata": {},
   "source": [
    "Time Series Plotting \n",
    "--------------------\n",
    "\n",
    "Pandas tries to make it a little easier to create nice looking time series plots using `matplotlib` than if you just used `matplotlib` yourself. Let's use `prices_df2` since it has a `DateTimeIndex`.."
   ]
  },
  {
   "cell_type": "code",
   "execution_count": 99,
   "metadata": {
    "collapsed": false,
    "jupyter": {
     "outputs_hidden": false
    }
   },
   "outputs": [
    {
     "data": {
      "text/html": [
       "<div>\n",
       "<style scoped>\n",
       "    .dataframe tbody tr th:only-of-type {\n",
       "        vertical-align: middle;\n",
       "    }\n",
       "\n",
       "    .dataframe tbody tr th {\n",
       "        vertical-align: top;\n",
       "    }\n",
       "\n",
       "    .dataframe thead th {\n",
       "        text-align: right;\n",
       "    }\n",
       "</style>\n",
       "<table border=\"1\" class=\"dataframe\">\n",
       "  <thead>\n",
       "    <tr style=\"text-align: right;\">\n",
       "      <th></th>\n",
       "      <th>AAPL</th>\n",
       "      <th>MSFT</th>\n",
       "      <th>XOM</th>\n",
       "      <th>SPX</th>\n",
       "    </tr>\n",
       "    <tr>\n",
       "      <th>Date</th>\n",
       "      <th></th>\n",
       "      <th></th>\n",
       "      <th></th>\n",
       "      <th></th>\n",
       "    </tr>\n",
       "  </thead>\n",
       "  <tbody>\n",
       "    <tr>\n",
       "      <th>2003-01-02</th>\n",
       "      <td>7.40</td>\n",
       "      <td>21.11</td>\n",
       "      <td>29.22</td>\n",
       "      <td>909.03</td>\n",
       "    </tr>\n",
       "    <tr>\n",
       "      <th>2003-01-03</th>\n",
       "      <td>7.45</td>\n",
       "      <td>21.14</td>\n",
       "      <td>29.24</td>\n",
       "      <td>908.59</td>\n",
       "    </tr>\n",
       "    <tr>\n",
       "      <th>2003-01-06</th>\n",
       "      <td>7.45</td>\n",
       "      <td>21.52</td>\n",
       "      <td>29.96</td>\n",
       "      <td>929.01</td>\n",
       "    </tr>\n",
       "    <tr>\n",
       "      <th>2003-01-07</th>\n",
       "      <td>7.43</td>\n",
       "      <td>21.93</td>\n",
       "      <td>28.95</td>\n",
       "      <td>922.93</td>\n",
       "    </tr>\n",
       "    <tr>\n",
       "      <th>2003-01-08</th>\n",
       "      <td>7.28</td>\n",
       "      <td>21.31</td>\n",
       "      <td>28.83</td>\n",
       "      <td>909.93</td>\n",
       "    </tr>\n",
       "  </tbody>\n",
       "</table>\n",
       "</div>"
      ],
      "text/plain": [
       "            AAPL   MSFT    XOM     SPX\n",
       "Date                                  \n",
       "2003-01-02  7.40  21.11  29.22  909.03\n",
       "2003-01-03  7.45  21.14  29.24  908.59\n",
       "2003-01-06  7.45  21.52  29.96  929.01\n",
       "2003-01-07  7.43  21.93  28.95  922.93\n",
       "2003-01-08  7.28  21.31  28.83  909.93"
      ]
     },
     "execution_count": 99,
     "metadata": {},
     "output_type": "execute_result"
    }
   ],
   "source": [
    "prices_df2.head()"
   ]
  },
  {
   "cell_type": "code",
   "execution_count": 100,
   "metadata": {
    "collapsed": false,
    "jupyter": {
     "outputs_hidden": false
    }
   },
   "outputs": [
    {
     "data": {
      "image/png": "[encoded data removed]",
      "text/plain": [
       "<Figure size 640x480 with 1 Axes>"
      ]
     },
     "metadata": {},
     "output_type": "display_data"
    }
   ],
   "source": [
    "prices_df2[['AAPL','MSFT','XOM']].plot();"
   ]
  },
  {
   "cell_type": "markdown",
   "metadata": {},
   "source": [
    "### Moving window functions\n",
    "\n",
    "Pandas makes it easy to do all kinds of *moving window* operations like moving average, cumulative sums, and even things like exponential moving averages (\"exponential smoothing\")."
   ]
  },
  {
   "cell_type": "code",
   "execution_count": 104,
   "metadata": {
    "collapsed": false,
    "jupyter": {
     "outputs_hidden": false
    }
   },
   "outputs": [
    {
     "data": {
      "text/plain": [
       "<AxesSubplot:xlabel='Date'>"
      ]
     },
     "execution_count": 104,
     "metadata": {},
     "output_type": "execute_result"
    },
    {
     "data": {
      "image/png": "[encoded data removed]",
      "text/plain": [
       "<Figure size 640x480 with 1 Axes>"
      ]
     },
     "metadata": {},
     "output_type": "display_data"
    }
   ],
   "source": [
    "prices_df2['AAPL'].rolling(70).mean().plot();\n",
    "prices_df2['AAPL'].plot()\n"
   ]
  }
 ],
 "metadata": {
  "anaconda-cloud": {},
  "kernelspec": {
   "display_name": "Python 3 (ipykernel)",
   "language": "python",
   "name": "python3"
  },
  "language_info": {
   "codemirror_mode": {
    "name": "ipython",
    "version": 3
   },
   "file_extension": ".py",
   "mimetype": "text/x-python",
   "name": "python",
   "nbconvert_exporter": "python",
   "pygments_lexer": "ipython3",
   "version": "3.9.13"
  }
 },
 "nbformat": 4,
 "nbformat_minor": 4
}
