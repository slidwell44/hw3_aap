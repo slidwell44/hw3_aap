{
 "cells": [
  {
   "cell_type": "code",
   "execution_count": 1,
   "metadata": {},
   "outputs": [],
   "source": [
    "%load_ext autoreload\n",
    "%autoreload 2"
   ]
  },
  {
   "cell_type": "markdown",
   "metadata": {},
   "source": [
    "# Using Jupyter widgets to explore simple queueing models in Python\n",
    "\n",
    "In the [previous module in which we learned how to do discrete event simulation modeling with SimPy](http://www.sba.oakland.edu/faculty/isken/courses/mis6900/mod4_des_simpy.html), we explored a model of a vaccine clinic. Systems like that in which entities contend and wait for limited resources are known as queueing systems. There's a huge branch of applied math known as [queueing theory](https://en.wikipedia.org/wiki/Queueing_theory) in which models of such systems are built and analyzed. There are many, many different queueing models with some being relatively simple and some being horribly complex. It all depends on the assumptions made about the system being modeled. Such models often can't capture the intricate details that a simulation model can, but, they are often quite useful for rough approximations and are much faster than simulation models - they are often just formulas or simple numerical computations. \n",
    "\n",
    "In this notebook, we'll create interactive plots using [Jupyter widgets](https://ipywidgets.readthedocs.io/en/latest/examples/Widget%20Basics.html) to allow us to explore a simple queueing model of part of the vaccine clinic - just the vaccination stage.\n",
    "\n",
    "Some of my research involves queueing models and I've coded up a bunch of Python functions for computing various performance measures a number of common queueing systems. We'll use a few of those functions to start to learn to use `ipywidgets`. The two basic queueing models we'll explore are the $M/M/c$ and $M/G/c$ queueing systems ([Kendall's notation is shorthand for describing such systems](https://en.wikipedia.org/wiki/Kendall%27s_notation)). These models (and their numerous variants) have been used extensively in customer service systems such as call centers and hospitals.\n",
    "\n",
    "**$M/M/c/\\infty$ - multiserver Markovian (exponential distribution) queue**\n",
    "\n",
    "- Poisson arrivals (exponentially distributed interarrival times) - the first \"M\",\n",
    "- exponential service - the second \"M\",\n",
    "- c servers,\n",
    "- unlimited queue size,\n",
    "- arrivals finding all servers busy join the FCFS queue to wait for an available server\n",
    "\n",
    "**$M/G/c/\\infty$ - multiserver queue**\n",
    "\n",
    "- Poisson arrivals (exponentially distributed interarrival times)\n",
    "- general service time distribution\n",
    "- c servers\n",
    "- unlimited queue size\n",
    "- arrivals finding all servers busy join the FCFS queue to wait for an available server\n",
    "\n",
    "A special case of the model above is:\n",
    "\n",
    "**$M/G/c/c$ - Erlang loss system**\n",
    "\n",
    "- Poisson arrivals (exponentially distributed interarrival times)\n",
    "- general service time distribution - the \"G\"\n",
    "- c servers\n",
    "- no queueing allowed (the second c in $M/G/c/c$ is the total number of customers allowed in system (service + queue)\n",
    "- arrivals finding all servers busy are lost to the system"
   ]
  },
  {
   "cell_type": "markdown",
   "metadata": {},
   "source": [
    "## Preliminaries\n",
    "Do some magic and import some libraries."
   ]
  },
  {
   "cell_type": "code",
   "execution_count": 2,
   "metadata": {
    "tags": []
   },
   "outputs": [],
   "source": [
    "%matplotlib inline"
   ]
  },
  {
   "cell_type": "code",
   "execution_count": 3,
   "metadata": {
    "tags": []
   },
   "outputs": [],
   "source": [
    "import matplotlib.pyplot as plt\n",
    "import numpy as np\n",
    "import scipy.stats as stats\n",
    "import math"
   ]
  },
  {
   "cell_type": "markdown",
   "metadata": {},
   "source": [
    "Here is the import of queueing library I created."
   ]
  },
  {
   "cell_type": "code",
   "execution_count": 4,
   "metadata": {},
   "outputs": [],
   "source": [
    "import qng as q"
   ]
  },
  {
   "cell_type": "markdown",
   "metadata": {},
   "source": [
    "Here are the imports needed for the widgets."
   ]
  },
  {
   "cell_type": "code",
   "execution_count": 5,
   "metadata": {
    "tags": []
   },
   "outputs": [],
   "source": [
    "from ipywidgets import widgets\n",
    "from ipywidgets import interact, interactive, fixed\n",
    "from IPython.display import display"
   ]
  },
  {
   "cell_type": "markdown",
   "metadata": {},
   "source": [
    "## Functions to compute performance measures\n",
    "\n",
    "The `qng.py` library has numerous functions related to queueing model performance measures. We'll just be using the following:\n",
    "\n",
    "* `erlangc` - computes the probability that an arrival to an $M/M/c/\\infty$ system finds the system full and has to wait in queue for an available server\n",
    "* `mmc_mean_qwait` - computes the mean wait time in queue for an $M/M/c/\\infty$ system\n",
    "* `mgc_mean_qwait_kimura` - computes the approximate mean wait time for an $M/G/c$ system\n",
    "* `mmc_qwait_cdf` - computes the probability of wait time in queue being less than some time, $t$, in an $M/M/c/\\infty$ system\n",
    "* `mgc_qwait_cdf_whitt1` - computes the approximate probability of wait time in queue being less than some time, $t$, in an $M/G/c/\\infty$ system\n",
    "* `erlangb` - computes the probability that an arrival to an $M/G/c/c$ system finds the system full and is lost\n",
    "\n",
    "Both the [Erlang-B](https://en.wikipedia.org/wiki/Erlang_%28unit%29#Erlang_B_formula) and [Erlang-C](https://en.wikipedia.org/wiki/Erlang_%28unit%29#Erlang_C_formula) are well known queueing formulas and have efficient computational implementations.\n",
    "\n",
    "You might have noticed that for the $M/G/c/\\infty$ related functions, the computed performance measures are approximations. For the $M/M/c/\\infty$ related functions, the formulas are exact. Why? Well..., it turns out that the exponential distribution (the $M$'s) leads to much more tractable analysis - the *memoryless property* is the key. Simply generalizing from exponential service ($M/M/c$) to a general service time distribution ($M/G/c$) leads to math that even after close to 100 years of queueing theory developments has not yielded exact results. Nevertheless, researchers have come up with very clever and very accurate approximations. We will be using several such approximations.\n",
    "\n"
   ]
  },
  {
   "cell_type": "markdown",
   "metadata": {},
   "source": [
    "Here's a quick plot of the Erlang-C function for an $M/M/1$ system and a range of traffic intensities. A few things to note:\n",
    "\n",
    "- Usually we represent the arrival rate by the greek letter $\\lambda$. It's the average number of customer arrivals per unit time.\n",
    "- Each server can process arrivals at a rate $\\mu$. So, $\\frac{1}{\\mu}$ is the average amount of time that a customer spends in the system.\n",
    "- The *traffic intensity*, usually denoted by the greek letter rho ($\\rho$), is the ratio of the customer arrival rate, $\\lambda$, to the system's overall service rate, $c\\mu$. \n",
    "- The *load*  is $c\\rho$ where $c$ is the number of servers and the units are known as *erlangs*,\n",
    "- For $M/M/c$ systems to be stable and to be able to compute the Erlang-C function, we need $\\rho < 1$ (traffic intensities greater than 1 are ok for $M/G/c/c$ but you'll just get more and more customers being lost)."
   ]
  },
  {
   "cell_type": "code",
   "execution_count": 6,
   "metadata": {},
   "outputs": [
    {
     "name": "stdout",
     "output_type": "stream",
     "text": [
      "Help on function erlangc in module qng:\n",
      "\n",
      "erlangc(load, c)\n",
      "    Return the the probability of delay in M/M/c/inf system using recursive Erlang B approach.\n",
      "    \n",
      "    \n",
      "    Parameters\n",
      "    ----------\n",
      "    load : float\n",
      "        average arrival rate * average service time (units are erlangs)\n",
      "    c : int\n",
      "        number of servers\n",
      "    \n",
      "    Returns\n",
      "    -------\n",
      "    float\n",
      "        probability all servers busy\n",
      "\n"
     ]
    }
   ],
   "source": [
    "help(q.erlangc)"
   ]
  },
  {
   "cell_type": "code",
   "execution_count": 7,
   "metadata": {},
   "outputs": [
    {
     "data": {
      "image/png": "[encoded data removed]",
      "text/plain": [
       "<Figure size 640x480 with 1 Axes>"
      ]
     },
     "metadata": {},
     "output_type": "display_data"
    }
   ],
   "source": [
    "rho = np.linspace(0.1, .999, 50)\n",
    "c = 1\n",
    "q_prob_wait = [q.erlangc(r * c, c) for r in rho]\n",
    "plt.plot(rho, q_prob_wait)\n",
    "plt.ylim(0, 1.0)\n",
    "plt.xlabel('load (erlangs)')\n",
    "plt.ylabel(f'Probability of waiting in M/M/{c}')\n",
    "plt.grid()\n",
    "plt.show()"
   ]
  },
  {
   "cell_type": "code",
   "execution_count": 8,
   "metadata": {},
   "outputs": [
    {
     "name": "stdout",
     "output_type": "stream",
     "text": [
      "Help on function mmc_mean_qwait in module qng:\n",
      "\n",
      "mmc_mean_qwait(arr_rate, svc_rate, c)\n",
      "    Return the the mean wait in queue time in M/M/c/inf queue.\n",
      "    \n",
      "    Uses mmc_mean_qsize along with Little's Law.\n",
      "    \n",
      "    Parameters\n",
      "    ----------\n",
      "    arr_rate : float\n",
      "        average arrival rate to queueing system\n",
      "    svc_rate : float\n",
      "        average service rate (each server). 1/svc_rate is mean service time.\n",
      "    c : int\n",
      "        number of servers\n",
      "    \n",
      "    Returns\n",
      "    -------\n",
      "    float\n",
      "        mean wait time in queue\n",
      "\n"
     ]
    }
   ],
   "source": [
    "help(q.mmc_mean_qwait)"
   ]
  },
  {
   "cell_type": "code",
   "execution_count": 9,
   "metadata": {},
   "outputs": [
    {
     "data": {
      "image/png": "[encoded data removed]",
      "text/plain": [
       "<Figure size 640x480 with 1 Axes>"
      ]
     },
     "metadata": {},
     "output_type": "display_data"
    }
   ],
   "source": [
    "rho = np.linspace(0.1, .999, 50)\n",
    "service_rate = 1.0\n",
    "c = 1\n",
    "q_mean_wait = [q.mmc_mean_qwait(r * c, service_rate, c) for r in rho]\n",
    "plt.plot(rho, q_mean_wait)\n",
    "plt.xlabel('load (erlangs)')\n",
    "plt.ylabel(f'Mean wait time in M/M/{c} (units=mean service time)')\n",
    "plt.grid()\n",
    "plt.show()"
   ]
  },
  {
   "cell_type": "markdown",
   "metadata": {},
   "source": [
    "Notice how the mean wait is small for a wide range of load values but increases exponentially as the load approaches 1.0. Now, let's add a line for a $M/M/13$ system. and just focus on high levels of $\\rho$."
   ]
  },
  {
   "cell_type": "code",
   "execution_count": 10,
   "metadata": {},
   "outputs": [
    {
     "data": {
      "image/png": "[encoded data removed]",
      "text/plain": [
       "<Figure size 640x480 with 1 Axes>"
      ]
     },
     "metadata": {},
     "output_type": "display_data"
    }
   ],
   "source": [
    "rho = np.linspace(0.1, .999, 50)\n",
    "service_rate = 1.0\n",
    "c = 1\n",
    "q_mean_wait_1 = [q.mmc_mean_qwait(r * 1, service_rate, 1) for r in rho]\n",
    "q_mean_wait_5 = [q.mmc_mean_qwait(r * 5, service_rate, 5) for r in rho]\n",
    "q_mean_wait_13 = [q.mmc_mean_qwait(r * 13, service_rate, 13) for r in rho]\n",
    "plt.plot(rho, q_mean_wait_1, label='M/M/1')\n",
    "plt.plot(rho, q_mean_wait_5, label='M/M/5')\n",
    "plt.plot(rho, q_mean_wait_13, label='M/M/13')\n",
    "plt.xlim(0.8, 1.0)\n",
    "plt.xlabel('rho')\n",
    "plt.ylabel(f'Mean wait time in M/M/c (units=mean service time)')\n",
    "plt.legend()\n",
    "plt.grid()\n",
    "plt.show()"
   ]
  },
  {
   "cell_type": "markdown",
   "metadata": {},
   "source": [
    "This illustrates the economies of scale present in queueing systems. It's not surprising that large call centers are the norm. "
   ]
  },
  {
   "cell_type": "markdown",
   "metadata": {},
   "source": [
    "Even for traffic intensities very close to 1.0, the probability that an arriving customer finds the system full is less than 0.5. Let's let the traffic intensity exceed 1.0 (i.e. arrivals showing up on average faster than we can serve them)."
   ]
  },
  {
   "cell_type": "code",
   "execution_count": 11,
   "metadata": {},
   "outputs": [
    {
     "data": {
      "image/png": "[encoded data removed]",
      "text/plain": [
       "<Figure size 640x480 with 1 Axes>"
      ]
     },
     "metadata": {},
     "output_type": "display_data"
    }
   ],
   "source": [
    "rho = np.linspace(0.5, 3, 50)\n",
    "c = 1\n",
    "plt.plot(rho, q.erlangb(rho * c,c))\n",
    "plt.ylim(0, 1.0)\n",
    "plt.xlabel('load (erlangs)')\n",
    "plt.ylabel(f'Probability of loss in M/G/{c}/{c}')\n",
    "plt.grid()\n",
    "plt.show()"
   ]
  },
  {
   "cell_type": "markdown",
   "metadata": {},
   "source": [
    "## Getting started with `ipywidgets`\n",
    "Go check out the [Jupyter Widgets User Guide](http://ipywidgets.readthedocs.io/en/latest/index.html) to familiarize yourself with the basics of widgets. Let's use widgets to control the number of servers and the patient arrival rate. In our vaccine clinic simulation, we used the following parameters:\n",
    "\n",
    "* $\\lambda = 3$ patients per minute\n",
    "* mean vaccination time = 4.0 minutes\n",
    "* standard deviation of vaccination time = 0.5 minutes\n",
    "\n",
    "Let's start by creating an `IntSlider` widget that lets the user pick the number of servers. The arguments are pretty self-explanatory."
   ]
  },
  {
   "cell_type": "code",
   "execution_count": 12,
   "metadata": {},
   "outputs": [],
   "source": [
    "arrival_rate = 3.0\n",
    "service_time_mean = 4.0\n",
    "service_time_sd = 0.5"
   ]
  },
  {
   "cell_type": "code",
   "execution_count": 13,
   "metadata": {
    "tags": []
   },
   "outputs": [],
   "source": [
    "# Create the integer slider object\n",
    "\n",
    "# Need this style line to avoid description getting truncated\n",
    "# https://ipywidgets.readthedocs.io/en/latest/examples/Widget%20Styling.html\n",
    "style = {'description_width': 'initial'}\n",
    "\n",
    "pick_c = widgets.IntSlider(\n",
    "    value=12,\n",
    "    min=math.ceil(arrival_rate * service_time_mean),\n",
    "    max=5 * math.ceil(arrival_rate * service_time_mean),\n",
    "    step=1,\n",
    "    style=style,\n",
    "    description='Number of servers'\n",
    ")"
   ]
  },
  {
   "cell_type": "markdown",
   "metadata": {},
   "source": [
    "To show the slider, we can use the `display`function from the `IPython.display` module. Try it out."
   ]
  },
  {
   "cell_type": "code",
   "execution_count": 14,
   "metadata": {},
   "outputs": [
    {
     "data": {
      "application/vnd.jupyter.widget-view+json": {
       "model_id": "10d4e31999894a00b83e4f70b1b285b3",
       "version_major": 2,
       "version_minor": 0
      },
      "text/plain": [
       "IntSlider(value=12, description='Number of servers', max=60, min=12, style=SliderStyle(description_width='init…"
      ]
     },
     "metadata": {},
     "output_type": "display_data"
    }
   ],
   "source": [
    "display(pick_c)"
   ]
  },
  {
   "cell_type": "markdown",
   "metadata": {},
   "source": [
    "Our goal is to somehow have such a slider interact with our queueing related functions. We want to call a function and pass in the slider value as an argument. As a simple example, consider the following function."
   ]
  },
  {
   "cell_type": "code",
   "execution_count": 15,
   "metadata": {
    "tags": []
   },
   "outputs": [],
   "source": [
    "def f(x):\n",
    "    print(x ** 2)"
   ]
  },
  {
   "cell_type": "code",
   "execution_count": 16,
   "metadata": {},
   "outputs": [
    {
     "name": "stdout",
     "output_type": "stream",
     "text": [
      "25\n"
     ]
    }
   ],
   "source": [
    "f(5)"
   ]
  },
  {
   "cell_type": "markdown",
   "metadata": {},
   "source": [
    "To \"hook up\" the slider to the function, use the [`interact` function](http://ipywidgets.readthedocs.io/en/latest/examples/Using%20Interact.html). A few things to note:\n",
    "\n",
    "- The function is passed in as the first argument.\n",
    "- The second argument to `interact` is a named argument which references the widget we want to use.\n",
    "- We can pass a widget variable we've already created or create one on the fly."
   ]
  },
  {
   "cell_type": "code",
   "execution_count": 17,
   "metadata": {},
   "outputs": [
    {
     "data": {
      "application/vnd.jupyter.widget-view+json": {
       "model_id": "0756ac2ed21a4577912b9bb1be5685bf",
       "version_major": 2,
       "version_minor": 0
      },
      "text/plain": [
       "interactive(children=(IntSlider(value=5, description='Number to square', max=50, min=1, style=SliderStyle(desc…"
      ]
     },
     "metadata": {},
     "output_type": "display_data"
    }
   ],
   "source": [
    "interact(f, x=widgets.IntSlider(min=1, max=50, step=1, \n",
    "                                value=5, style=style,\n",
    "                                description='Number to square'));"
   ]
  },
  {
   "cell_type": "markdown",
   "metadata": {},
   "source": [
    "Put all these ideas together and we end up with an interactive plot showing how the mean wait time in an $M/M/c$ system function varies across a range of arrival rates for a given number of servers."
   ]
  },
  {
   "cell_type": "code",
   "execution_count": 18,
   "metadata": {},
   "outputs": [
    {
     "data": {
      "application/vnd.jupyter.widget-view+json": {
       "model_id": "e1faf4a328b34978914598ca69187ab9",
       "version_major": 2,
       "version_minor": 0
      },
      "text/plain": [
       "interactive(children=(IntSlider(value=13, description='Number of servers', max=50, min=13, style=SliderStyle(d…"
      ]
     },
     "metadata": {},
     "output_type": "display_data"
    }
   ],
   "source": [
    "# Create function to generate plot based on erlang-b and slider controlling number of servers\n",
    "def mmc_meanwait_plot(num_servers):\n",
    "    plt.figure(1)\n",
    "    arrival_rates = np.linspace(1, 5, 10)\n",
    "    q_mean_wait = [q.mmc_mean_qwait(arr, 1 / 4.0, num_servers) for arr in arrival_rates]\n",
    "    plt.plot(arrival_rates, q_mean_wait)\n",
    "    plt.xlabel('Patients per hour')\n",
    "    plt.ylabel('Mean wait time in M/M/c/infinity')\n",
    "    plt.grid()\n",
    "    plt.show()\n",
    "\n",
    "# Create a widget for the number of servers\n",
    "c_1 = widgets.IntSlider(\n",
    "    value=5,\n",
    "    min=13,\n",
    "    max=50,\n",
    "    step=1,\n",
    "    style=style,\n",
    "    description='Number of servers'\n",
    ")\n",
    "\n",
    "# Create an interactive element and hook the slider to the erlang-b function\n",
    "interact(mmc_meanwait_plot, num_servers=c_1);"
   ]
  },
  {
   "cell_type": "markdown",
   "metadata": {},
   "source": [
    "Let's include both Erlang-B and C on this plot. Notice also that instead of `interact`, we are using `interactive`. The `interactive` function returns an interactive widget object that can then be modified or interrogated (e.g., to get the values passed in). See the [docs](http://ipywidgets.readthedocs.io/en/latest/examples/Using%20Interact.html) for more details."
   ]
  },
  {
   "cell_type": "code",
   "execution_count": 21,
   "metadata": {},
   "outputs": [
    {
     "data": {
      "application/vnd.jupyter.widget-view+json": {
       "model_id": "a4e9125b9f0c46e5bf31d036d9b24899",
       "version_major": 2,
       "version_minor": 0
      },
      "text/plain": [
       "interactive(children=(IntSlider(value=5, description='Number of servers', max=50, min=1, style=SliderStyle(des…"
      ]
     },
     "metadata": {},
     "output_type": "display_data"
    }
   ],
   "source": [
    "def erlangc_pwaitplot(num_servers):\n",
    "    plt.figure(2)\n",
    "    rho = np.linspace(0.5, .999, 50)\n",
    "    plt.plot(rho, q.erlangc(rho * num_servers, num_servers), label='P[Wait>0] in M/M/c')\n",
    "    plt.plot(rho, q.erlangb(rho * num_servers, num_servers), label='P[loss] in M/G/c/c')\n",
    "    plt.ylim(0, 1.0)\n",
    "    plt.xlabel('rho')\n",
    "    plt.ylabel('Probability')\n",
    "    plt.legend()\n",
    "    plt.grid()\n",
    "    plt.show()\n",
    "\n",
    "c_2 = widgets.IntSlider(\n",
    "    value=5,\n",
    "    min=1,\n",
    "    max=50,\n",
    "    step=1,\n",
    "    style=style,\n",
    "    description=r'Number of servers'\n",
    ")\n",
    "\n",
    "# Instead of interact, we'll use interactive so that we can reuse the interactive object\n",
    "# and set some of its properties (height of layout area in this case).\n",
    "interactive_plot_c = interactive(erlangc_pwaitplot, num_servers=c_2)\n",
    "interactive_plot_c.layout.height = '500px'\n",
    "interactive_plot_c"
   ]
  },
  {
   "cell_type": "markdown",
   "metadata": {},
   "source": [
    "Another useful widget allows the user to select a range via a slider. Let's try it out for selecting the range of traffic intensities. Start out by creating a `FloatRangeSlider` object and then displaying it. Try it out. Note the use of LaTex in the description."
   ]
  },
  {
   "cell_type": "code",
   "execution_count": 22,
   "metadata": {
    "tags": []
   },
   "outputs": [],
   "source": [
    "rho_range = widgets.FloatRangeSlider(\n",
    "    value=[0.5, .99],\n",
    "    min=0.01,\n",
    "    max=0.99,\n",
    "    step=0.01,\n",
    "    description=r'Range for \\(\\rho \\)',\n",
    "    disabled=False,\n",
    "    continuous_update=False,\n",
    "    orientation='horizontal',\n",
    "    readout=True,\n",
    "    readout_format='.2f',\n",
    ")"
   ]
  },
  {
   "cell_type": "code",
   "execution_count": 23,
   "metadata": {},
   "outputs": [
    {
     "data": {
      "application/vnd.jupyter.widget-view+json": {
       "model_id": "f4d6861d8ad5437683177a3e9a259aae",
       "version_major": 2,
       "version_minor": 0
      },
      "text/plain": [
       "FloatRangeSlider(value=(0.5, 0.99), continuous_update=False, description='Range for \\\\(\\\\rho \\\\)', max=0.99, m…"
      ]
     },
     "metadata": {},
     "output_type": "display_data"
    }
   ],
   "source": [
    "display(rho_range)"
   ]
  },
  {
   "cell_type": "code",
   "execution_count": 24,
   "metadata": {},
   "outputs": [
    {
     "name": "stdout",
     "output_type": "stream",
     "text": [
      "0.5 0.99\n",
      "(0.5, 0.99)\n"
     ]
    }
   ],
   "source": [
    "# Print out the key slider property values\n",
    "print(rho_range.lower, rho_range.upper)\n",
    "# The value property of the slider is a tuple containing the lower and upper range choices.\n",
    "print(rho_range.value)"
   ]
  },
  {
   "cell_type": "markdown",
   "metadata": {},
   "source": [
    "Create function that takes both widgets as inputs."
   ]
  },
  {
   "cell_type": "code",
   "execution_count": 25,
   "metadata": {},
   "outputs": [
    {
     "data": {
      "application/vnd.jupyter.widget-view+json": {
       "model_id": "55cfdb25f30e4bf68191018e69a51071",
       "version_major": 2,
       "version_minor": 0
      },
      "text/plain": [
       "interactive(children=(IntSlider(value=5, description='Number of servers', max=50, min=1, style=SliderStyle(des…"
      ]
     },
     "metadata": {},
     "output_type": "display_data"
    }
   ],
   "source": [
    "def erlangc_pwaitplot2(num_servers, rho_range):\n",
    "    plt.figure(3)\n",
    "    rho = np.linspace(rho_range[0], rho_range[1], 50)\n",
    "    plt.plot(rho, q.erlangc(rho * num_servers, num_servers), label='Prob of wait: $P(W>0)$ in M/M/c')\n",
    "    plt.plot(rho, q.erlangb(rho * num_servers, num_servers), label='Prob of loss: $P(N=c)$ in M/G/c/c')\n",
    "    plt.ylim(0, 1.0)\n",
    "    plt.xlabel('load (erlangs)')\n",
    "    plt.ylabel('Probability')\n",
    "    plt.legend()\n",
    "    plt.grid()\n",
    "    plt.show()\n",
    "\n",
    "interactive_plot_rhorange = interactive(erlangc_pwaitplot2, num_servers=c_2, rho_range=rho_range)\n",
    "interactive_plot_rhorange"
   ]
  },
  {
   "cell_type": "markdown",
   "metadata": {},
   "source": [
    "## System Dimensioning\n",
    "Finally, let's use both models for simple \"dimensioning\" by choosing the number of servers such that some specified *overflow threshold* on the loss probability (for $M/G/c/c$) or probability of waiting (for $M/M/c$). We'll use both `Text` widgets and a few different container widgets.\n",
    "\n",
    "We'll use a `FloatSlider` for the overflow threshold and for the load placed on the system."
   ]
  },
  {
   "cell_type": "code",
   "execution_count": 26,
   "metadata": {
    "tags": []
   },
   "outputs": [],
   "source": [
    "overflow_threshold_slider = widgets.FloatSlider(\n",
    "    value=0.05,\n",
    "    min=0.01,\n",
    "    max=0.25,\n",
    "    step=0.01,\n",
    "    style=style,\n",
    "    description='Overflow threshold'\n",
    ")\n",
    "\n",
    "load_slider = widgets.FloatSlider(\n",
    "    value=5.0,\n",
    "    min=0.0,\n",
    "    max=50,\n",
    "    step=0.5,\n",
    "    style=style,\n",
    "    description='Load'\n",
    ")"
   ]
  },
  {
   "cell_type": "markdown",
   "metadata": {},
   "source": [
    "Here's are two \"inverse\" functions that return the number of servers needed to serve a given load and meet a specified overflow probability threshold."
   ]
  },
  {
   "cell_type": "code",
   "execution_count": 27,
   "metadata": {},
   "outputs": [],
   "source": [
    "def erlangc_inv(prob, load):\n",
    "    \"\"\"\n",
    "    Return the number of servers such that probability of delay in M/M/c/inf system is\n",
    "    less than specified probability\n",
    "\n",
    "\n",
    "    Parameters\n",
    "    ----------\n",
    "    prob : float\n",
    "        threshold delay probability\n",
    "    load : float\n",
    "        average arrival rate * average service time (units are erlangs)\n",
    "\n",
    "    Returns\n",
    "    -------\n",
    "    c : int\n",
    "        number of servers\n",
    "\n",
    "    \"\"\"\n",
    "\n",
    "    c = math.ceil(load)\n",
    "    ec = q.erlangc(load, c)\n",
    "    if ec <= prob:\n",
    "        return c\n",
    "    else:\n",
    "        while ec > prob:\n",
    "            c += 1\n",
    "            ec = q.erlangc(load, c)\n",
    "\n",
    "    return c\n",
    "\n",
    "def erlangb_inv(prob, load):\n",
    "    \"\"\"\n",
    "    Return the number of servers such that probability of loss in an M/G/c/c system is\n",
    "    less than specified probability\n",
    "\n",
    "\n",
    "    Parameters\n",
    "    ----------\n",
    "    prob : float\n",
    "        threshold loss probability\n",
    "    load : float\n",
    "        average arrival rate * average service time (units are erlangs)\n",
    "\n",
    "    Returns\n",
    "    -------\n",
    "    c : int\n",
    "        number of servers\n",
    "\n",
    "    \"\"\"\n",
    "\n",
    "    c = math.ceil(load)\n",
    "    ec = q.erlangb(load, c)\n",
    "    if ec <= prob:\n",
    "        return c\n",
    "    else:\n",
    "        while ec > prob:\n",
    "            c += 1\n",
    "            ec = q.erlangc(load, c)\n",
    "\n",
    "    return c"
   ]
  },
  {
   "cell_type": "markdown",
   "metadata": {},
   "source": [
    "There are several different text related widgets."
   ]
  },
  {
   "cell_type": "code",
   "execution_count": 28,
   "metadata": {},
   "outputs": [
    {
     "data": {
      "application/vnd.jupyter.widget-view+json": {
       "model_id": "fb9cb3612024471c96420016174bae92",
       "version_major": 2,
       "version_minor": 0
      },
      "text/plain": [
       "Text(value='Hello World', description='String:', placeholder='Type something')"
      ]
     },
     "metadata": {},
     "output_type": "display_data"
    }
   ],
   "source": [
    "\n",
    "widgets.Text(\n",
    "    value='Hello World',\n",
    "    placeholder='Type something',\n",
    "    description='String:',\n",
    "    disabled=False\n",
    ")"
   ]
  },
  {
   "cell_type": "markdown",
   "metadata": {},
   "source": [
    "We'll use `IntText` widgets for displaying integer values corresponding to the number of servers needed. Note that we are setting `disabled=True` as we won't be using these text boxes for input but simply for output display."
   ]
  },
  {
   "cell_type": "code",
   "execution_count": 29,
   "metadata": {
    "tags": []
   },
   "outputs": [],
   "source": [
    "b_out = widgets.IntText(\n",
    "            value=0,\n",
    "            description='Servers for M/G/c/c:',\n",
    "            style=style,\n",
    "            disabled=True\n",
    "        )\n",
    "\n",
    "c_out = widgets.IntText(\n",
    "            value=0,\n",
    "            description='Servers for M/M/c:',\n",
    "            style=style,\n",
    "            disabled=True\n",
    "        )"
   ]
  },
  {
   "cell_type": "markdown",
   "metadata": {},
   "source": [
    "Before trying to get the output text boxes working, let's just test out a function for calling the inverse functions."
   ]
  },
  {
   "cell_type": "code",
   "execution_count": 30,
   "metadata": {
    "tags": []
   },
   "outputs": [],
   "source": [
    "def dimensioner1(load, threshold):\n",
    "        b = erlangb_inv(threshold, load)\n",
    "        c = erlangc_inv(threshold, load)\n",
    "        \n",
    "        print(b,c)"
   ]
  },
  {
   "cell_type": "code",
   "execution_count": 31,
   "metadata": {},
   "outputs": [
    {
     "data": {
      "application/vnd.jupyter.widget-view+json": {
       "model_id": "58eb74a0f26942f9b71e89c7ec4af6eb",
       "version_major": 2,
       "version_minor": 0
      },
      "text/plain": [
       "interactive(children=(FloatSlider(value=5.0, description='Load', max=50.0, step=0.5, style=SliderStyle(descrip…"
      ]
     },
     "metadata": {},
     "output_type": "display_data"
    }
   ],
   "source": [
    "interact(dimensioner1, load=load_slider, threshold=overflow_threshold_slider);\n"
   ]
  },
  {
   "cell_type": "markdown",
   "metadata": {},
   "source": [
    "Now, instead of printing the two server values, let's set the value property of our `IntText` widgets and then display them."
   ]
  },
  {
   "cell_type": "code",
   "execution_count": 32,
   "metadata": {
    "tags": []
   },
   "outputs": [],
   "source": [
    "def dimensioner2(load, threshold):\n",
    "        b = erlangb_inv(threshold, load)\n",
    "        c = erlangc_inv(threshold, load)\n",
    "        \n",
    "        b_out.value = b\n",
    "        c_out.value = c\n",
    "        "
   ]
  },
  {
   "cell_type": "code",
   "execution_count": 33,
   "metadata": {},
   "outputs": [
    {
     "data": {
      "application/vnd.jupyter.widget-view+json": {
       "model_id": "b25eb2242f8745e692c29bea9b919436",
       "version_major": 2,
       "version_minor": 0
      },
      "text/plain": [
       "IntText(value=0, description='Servers for M/G/c/c:', disabled=True, style=DescriptionStyle(description_width='…"
      ]
     },
     "metadata": {},
     "output_type": "display_data"
    },
    {
     "data": {
      "application/vnd.jupyter.widget-view+json": {
       "model_id": "d1ff4999f27a4392b2f93b69cefaca22",
       "version_major": 2,
       "version_minor": 0
      },
      "text/plain": [
       "IntText(value=0, description='Servers for M/M/c:', disabled=True, style=DescriptionStyle(description_width='in…"
      ]
     },
     "metadata": {},
     "output_type": "display_data"
    }
   ],
   "source": [
    "display(b_out)\n",
    "display(c_out)"
   ]
  },
  {
   "cell_type": "markdown",
   "metadata": {},
   "source": [
    "Now set up the interactive sliders. Try them out and watch what happens to the text boxes above."
   ]
  },
  {
   "cell_type": "code",
   "execution_count": 34,
   "metadata": {},
   "outputs": [
    {
     "data": {
      "application/vnd.jupyter.widget-view+json": {
       "model_id": "5a483eb8e796417f92a810b27458faf4",
       "version_major": 2,
       "version_minor": 0
      },
      "text/plain": [
       "interactive(children=(FloatSlider(value=11.0, description='Load', max=50.0, step=0.5, style=SliderStyle(descri…"
      ]
     },
     "metadata": {},
     "output_type": "display_data"
    }
   ],
   "source": [
    "interact(dimensioner2, load=load_slider, threshold=overflow_threshold_slider);"
   ]
  },
  {
   "cell_type": "markdown",
   "metadata": {},
   "source": [
    "Let's enhance the output by also computing and displaying the actual loss and wait probabilities associated with the numbers of servers returned by the inverse functions."
   ]
  },
  {
   "cell_type": "code",
   "execution_count": 35,
   "metadata": {
    "tags": []
   },
   "outputs": [],
   "source": [
    "b_prob_out = widgets.Text(\n",
    "            value='0.0',\n",
    "            description='P[loss] in M/G/c/c:',\n",
    "            style=style,\n",
    "            disabled=True\n",
    "        )\n",
    "\n",
    "c_prob_out = widgets.Text(\n",
    "            value='0.0',\n",
    "            description='P[wait] in M/M/c:',\n",
    "            style=style,\n",
    "            disabled=True\n",
    "        )"
   ]
  },
  {
   "cell_type": "code",
   "execution_count": 36,
   "metadata": {
    "tags": []
   },
   "outputs": [],
   "source": [
    "def dimensioner3(load, threshold):\n",
    "        b = erlangb_inv(threshold, load)\n",
    "        c = erlangc_inv(threshold, load)\n",
    "        \n",
    "        b_prob = q.erlangb(load, b)\n",
    "        c_prob = q.erlangc(load, c)\n",
    "        \n",
    "        b_out.value = b\n",
    "        c_out.value = c\n",
    "        \n",
    "        b_prob_out.value = '{:.4f}'.format(b_prob)\n",
    "        c_prob_out.value = '{:.4f}'.format(c_prob)        "
   ]
  },
  {
   "cell_type": "markdown",
   "metadata": {},
   "source": [
    "We can use `VBox` and `HBox` widgets to create a simple rectangular layout of text boxes. Finally, we'll create the interactive widgets."
   ]
  },
  {
   "cell_type": "code",
   "execution_count": 37,
   "metadata": {},
   "outputs": [
    {
     "data": {
      "application/vnd.jupyter.widget-view+json": {
       "model_id": "b3fc09df9ae144d2a129d63c76e8f558",
       "version_major": 2,
       "version_minor": 0
      },
      "text/plain": [
       "HBox(children=(VBox(children=(IntText(value=15, description='Servers for M/G/c/c:', disabled=True, style=Descr…"
      ]
     },
     "metadata": {},
     "output_type": "display_data"
    }
   ],
   "source": [
    "left_box = widgets.VBox([b_out, b_prob_out])\n",
    "right_box = widgets.VBox([c_out, c_prob_out])\n",
    "widgets.HBox([left_box, right_box])"
   ]
  },
  {
   "cell_type": "code",
   "execution_count": 38,
   "metadata": {},
   "outputs": [
    {
     "data": {
      "application/vnd.jupyter.widget-view+json": {
       "model_id": "efff4744ea524035bd6413fb0ac2f9a7",
       "version_major": 2,
       "version_minor": 0
      },
      "text/plain": [
       "interactive(children=(FloatSlider(value=14.5, description='Load', max=50.0, step=0.5, style=SliderStyle(descri…"
      ]
     },
     "metadata": {},
     "output_type": "display_data"
    }
   ],
   "source": [
    "interact(dimensioner3, load=load_slider, threshold=overflow_threshold_slider);"
   ]
  },
  {
   "cell_type": "markdown",
   "metadata": {},
   "source": [
    "We've barely scratched the surface of what is possible with Jupyter widgets. "
   ]
  },
  {
   "cell_type": "code",
   "execution_count": null,
   "metadata": {},
   "outputs": [],
   "source": []
  }
 ],
 "metadata": {
  "kernelspec": {
   "display_name": "Python 3 (ipykernel)",
   "language": "python",
   "name": "python3"
  },
  "language_info": {
   "codemirror_mode": {
    "name": "ipython",
    "version": 3
   },
   "file_extension": ".py",
   "mimetype": "text/x-python",
   "name": "python",
   "nbconvert_exporter": "python",
   "pygments_lexer": "ipython3",
   "version": "3.9.13"
  },
  "widgets": {
   "application/vnd.jupyter.widget-state+json": {
    "state": {
     "05416c7869bf4b038db0a64e19405663": {
      "model_module": "jupyter-js-widgets",
      "model_module_version": "~2.1.4",
      "model_name": "LayoutModel",
      "state": {
       "_model_module_version": "~2.1.4",
       "_view_module_version": "~2.1.4"
      }
     },
     "08f9ba3784c147968660658c1c36866d": {
      "model_module": "jupyter-js-widgets",
      "model_module_version": "~2.1.4",
      "model_name": "TextModel",
      "state": {
       "_model_module_version": "~2.1.4",
       "_view_module_version": "~2.1.4",
       "description": "P[wait] in M/M/c:",
       "disabled": true,
       "layout": "IPY_MODEL_e42e2caaeb0e4025838ac17aa81db7e7",
       "value": "0.1995"
      }
     },
     "09757502862a42a1824eb44ffcfb6ffe": {
      "model_module": "jupyter-js-widgets",
      "model_module_version": "~2.1.4",
      "model_name": "LayoutModel",
      "state": {
       "_model_module_version": "~2.1.4",
       "_view_module_version": "~2.1.4"
      }
     },
     "0a35d1544d284ae1a1487507f93be7fb": {
      "model_module": "jupyter-js-widgets",
      "model_module_version": "~2.1.4",
      "model_name": "LayoutModel",
      "state": {
       "_model_module_version": "~2.1.4",
       "_view_module_version": "~2.1.4"
      }
     },
     "0d0bf72016e74ac3a53ae4a4633fad0b": {
      "model_module": "jupyter-js-widgets",
      "model_module_version": "~2.1.4",
      "model_name": "FloatSliderModel",
      "state": {
       "_model_module_version": "~2.1.4",
       "_view_module_version": "~2.1.4",
       "description": "Load",
       "layout": "IPY_MODEL_e8cbb467cc2843aa91dad853f8548cf4",
       "max": 50,
       "step": 0.5,
       "value": 28
      }
     },
     "0db7ca3200ff494fafea8aaee773803e": {
      "model_module": "jupyter-js-widgets",
      "model_module_version": "~2.1.4",
      "model_name": "OutputModel",
      "state": {
       "_dom_classes": [],
       "_model_module": "jupyter-js-widgets",
       "_model_module_version": "~2.1.4",
       "_view_module": "jupyter-js-widgets",
       "_view_module_version": "~2.1.4",
       "layout": "IPY_MODEL_e9b988ed551d49a19c162de0e1069faf",
       "msg_throttle": 1
      }
     },
     "137fc6bee2f34d788b75bbddee2c74f4": {
      "model_module": "jupyter-js-widgets",
      "model_module_version": "~2.1.4",
      "model_name": "TextModel",
      "state": {
       "_model_module_version": "~2.1.4",
       "_view_module_version": "~2.1.4",
       "description": "String:",
       "layout": "IPY_MODEL_0a35d1544d284ae1a1487507f93be7fb",
       "placeholder": "Type something",
       "value": "Hello World"
      }
     },
     "1814f24f8cfb4faa9696e132aaa53ee3": {
      "model_module": "jupyter-js-widgets",
      "model_module_version": "~2.1.4",
      "model_name": "VBoxModel",
      "state": {
       "_model_module_version": "~2.1.4",
       "_view_module_version": "~2.1.4",
       "children": [
        "IPY_MODEL_78906fd92d80431481f654c614186535",
        "IPY_MODEL_fd23513f726d4e5db63edc25312e17a9"
       ],
       "layout": "IPY_MODEL_79a350ecfb35414d94a0cc4736ff483c"
      }
     },
     "1b1988dbee6e47419eb2812f633cb3a4": {
      "model_module": "jupyter-js-widgets",
      "model_module_version": "~2.1.4",
      "model_name": "VBoxModel",
      "state": {
       "_dom_classes": [
        "widget-interact"
       ],
       "_model_module_version": "~2.1.4",
       "_view_module_version": "~2.1.4",
       "children": [
        "IPY_MODEL_33aecffa223246c2a9ec4842010a5c28",
        "IPY_MODEL_e65a165b571d41918ab7ec9c00de3e9e"
       ],
       "layout": "IPY_MODEL_a16f94cb2d82470c9fc8a7475667b8c0"
      }
     },
     "1ed04f189a1e4734982958617b603462": {
      "model_module": "jupyter-js-widgets",
      "model_module_version": "~2.1.4",
      "model_name": "FloatSliderModel",
      "state": {
       "_model_module_version": "~2.1.4",
       "_range": true,
       "_view_module_version": "~2.1.4",
       "continuous_update": false,
       "description": "Range for \\(\\rho \\)",
       "layout": "IPY_MODEL_98bb57348864470ab94ae144e5f72513",
       "max": 0.99,
       "min": 0.01,
       "step": 0.01,
       "value": [
        0.43,
        0.9
       ]
      }
     },
     "23979bffe43b4d2b86a6c71a216dea9b": {
      "model_module": "jupyter-js-widgets",
      "model_module_version": "~2.1.4",
      "model_name": "LayoutModel",
      "state": {
       "_model_module_version": "~2.1.4",
       "_view_module_version": "~2.1.4"
      }
     },
     "2440dbadeb204e548f4226c0c81492f6": {
      "model_module": "jupyter-js-widgets",
      "model_module_version": "~2.1.4",
      "model_name": "HBoxModel",
      "state": {
       "_model_module_version": "~2.1.4",
       "_view_module_version": "~2.1.4",
       "children": [
        "IPY_MODEL_1814f24f8cfb4faa9696e132aaa53ee3",
        "IPY_MODEL_c0c04da2623f47f1b5c6515ec8d62fd0"
       ],
       "layout": "IPY_MODEL_3201d3416d6d4e24875d8e1fa11b9aed"
      }
     },
     "259fbd1bca9a434586036d7ec32b8cb5": {
      "model_module": "jupyter-js-widgets",
      "model_module_version": "~2.1.4",
      "model_name": "VBoxModel",
      "state": {
       "_dom_classes": [
        "widget-interact"
       ],
       "_model_module_version": "~2.1.4",
       "_view_module_version": "~2.1.4",
       "children": [
        "IPY_MODEL_537c18d89117430fb429a99e51840cab",
        "IPY_MODEL_1ed04f189a1e4734982958617b603462",
        "IPY_MODEL_7a2173397bc94b03bf991b07a77fe60f"
       ],
       "layout": "IPY_MODEL_7ff058eef0e84b3c878e39fc5b9769c5"
      }
     },
     "27e86ffd0ec24b48bc5ea2a26c8274d1": {
      "model_module": "jupyter-js-widgets",
      "model_module_version": "~2.1.4",
      "model_name": "LayoutModel",
      "state": {
       "_model_module_version": "~2.1.4",
       "_view_module_version": "~2.1.4"
      }
     },
     "3201d3416d6d4e24875d8e1fa11b9aed": {
      "model_module": "jupyter-js-widgets",
      "model_module_version": "~2.1.4",
      "model_name": "LayoutModel",
      "state": {
       "_model_module_version": "~2.1.4",
       "_view_module_version": "~2.1.4"
      }
     },
     "3374fa1548804caa8df5851fa2c3ab0e": {
      "model_module": "jupyter-js-widgets",
      "model_module_version": "~2.1.4",
      "model_name": "VBoxModel",
      "state": {
       "_dom_classes": [
        "widget-interact"
       ],
       "_model_module_version": "~2.1.4",
       "_view_module_version": "~2.1.4",
       "children": [
        "IPY_MODEL_0d0bf72016e74ac3a53ae4a4633fad0b",
        "IPY_MODEL_50882566f4b54eedad7748e3f23f149b",
        "IPY_MODEL_f6e456a9b32d4a8182879207d9b55886"
       ],
       "layout": "IPY_MODEL_fe1dd2ff49bc49279166242d6463366a"
      }
     },
     "33aecffa223246c2a9ec4842010a5c28": {
      "model_module": "jupyter-js-widgets",
      "model_module_version": "~2.1.4",
      "model_name": "IntSliderModel",
      "state": {
       "_model_module_version": "~2.1.4",
       "_view_module_version": "~2.1.4",
       "description": "Number to square",
       "layout": "IPY_MODEL_a65c62398c4d47ce936c275f4c85d465",
       "max": 50,
       "min": 1,
       "style": "IPY_MODEL_8dda4594454d4627856af45b706b1231",
       "value": 14
      }
     },
     "3d8fc3ee2a234f9ea8e6f9bc4eef81e0": {
      "model_module": "jupyter-js-widgets",
      "model_module_version": "~2.1.4",
      "model_name": "LayoutModel",
      "state": {
       "_model_module_version": "~2.1.4",
       "_view_module_version": "~2.1.4"
      }
     },
     "40ff195126784398be6e4d0ea9ac3b43": {
      "model_module": "jupyter-js-widgets",
      "model_module_version": "~2.1.4",
      "model_name": "IntSliderModel",
      "state": {
       "_model_module_version": "~2.1.4",
       "_view_module_version": "~2.1.4",
       "description": "Number of servers",
       "layout": "IPY_MODEL_05416c7869bf4b038db0a64e19405663",
       "max": 50,
       "min": 1,
       "style": "IPY_MODEL_88a90696da164b2f92873f5df8e911fb",
       "value": 23
      }
     },
     "42a43bdaef114389a5d11c459c4cb4ce": {
      "model_module": "jupyter-js-widgets",
      "model_module_version": "~2.1.4",
      "model_name": "LayoutModel",
      "state": {
       "_model_module_version": "~2.1.4",
       "_view_module_version": "~2.1.4"
      }
     },
     "4843d4fbdb094b18a74af36f347c2f9f": {
      "model_module": "jupyter-js-widgets",
      "model_module_version": "~2.1.4",
      "model_name": "LayoutModel",
      "state": {
       "_model_module_version": "~2.1.4",
       "_view_module_version": "~2.1.4",
       "height": "350px"
      }
     },
     "50882566f4b54eedad7748e3f23f149b": {
      "model_module": "jupyter-js-widgets",
      "model_module_version": "~2.1.4",
      "model_name": "FloatSliderModel",
      "state": {
       "_model_module_version": "~2.1.4",
       "_view_module_version": "~2.1.4",
       "description": "Overflow threshold",
       "layout": "IPY_MODEL_e3a962c57bf7444e8ff7191eff061987",
       "max": 0.25,
       "min": 0.01,
       "step": 0.01,
       "value": 0.2
      }
     },
     "509d81c1e1804d37862ae1ea120ec874": {
      "model_module": "jupyter-js-widgets",
      "model_module_version": "~2.1.4",
      "model_name": "OutputModel",
      "state": {
       "_dom_classes": [],
       "_model_module": "jupyter-js-widgets",
       "_model_module_version": "~2.1.4",
       "_view_module": "jupyter-js-widgets",
       "_view_module_version": "~2.1.4",
       "layout": "IPY_MODEL_6dee144290e8405bb772d96013a69ef5",
       "msg_throttle": 1
      }
     },
     "537c18d89117430fb429a99e51840cab": {
      "model_module": "jupyter-js-widgets",
      "model_module_version": "~2.1.4",
      "model_name": "IntSliderModel",
      "state": {
       "_model_module_version": "~2.1.4",
       "_view_module_version": "~2.1.4",
       "description": "Number of servers",
       "layout": "IPY_MODEL_c99fa77c7fe84c88a73e85256ba08749",
       "max": 50,
       "min": 1,
       "style": "IPY_MODEL_a48a7796c6c744a896e34680394e3c75",
       "value": 12
      }
     },
     "5928ea1fda9b4bb584d4f3f76d1be4c7": {
      "model_module": "jupyter-js-widgets",
      "model_module_version": "~2.1.4",
      "model_name": "LayoutModel",
      "state": {
       "_model_module_version": "~2.1.4",
       "_view_module_version": "~2.1.4"
      }
     },
     "671639803dd84fe682c79ba683e60d5d": {
      "model_module": "jupyter-js-widgets",
      "model_module_version": "~2.1.4",
      "model_name": "OutputModel",
      "state": {
       "_dom_classes": [],
       "_model_module": "jupyter-js-widgets",
       "_model_module_version": "~2.1.4",
       "_view_module": "jupyter-js-widgets",
       "_view_module_version": "~2.1.4",
       "layout": "IPY_MODEL_27e86ffd0ec24b48bc5ea2a26c8274d1",
       "msg_throttle": 1
      }
     },
     "6dee144290e8405bb772d96013a69ef5": {
      "model_module": "jupyter-js-widgets",
      "model_module_version": "~2.1.4",
      "model_name": "LayoutModel",
      "state": {
       "_model_module_version": "~2.1.4",
       "_view_module_version": "~2.1.4"
      }
     },
     "72820f6eced24fc6bd4dbfd7c6e7f0fe": {
      "model_module": "jupyter-js-widgets",
      "model_module_version": "~2.1.4",
      "model_name": "LayoutModel",
      "state": {
       "_model_module_version": "~2.1.4",
       "_view_module_version": "~2.1.4"
      }
     },
     "78906fd92d80431481f654c614186535": {
      "model_module": "jupyter-js-widgets",
      "model_module_version": "~2.1.4",
      "model_name": "IntTextModel",
      "state": {
       "_model_module_version": "~2.1.4",
       "_view_module_version": "~2.1.4",
       "description": "Servers for M/G/c/c:",
       "disabled": true,
       "layout": "IPY_MODEL_97b690bd61154cefbe3d17465c30ea1e",
       "value": 28
      }
     },
     "79a350ecfb35414d94a0cc4736ff483c": {
      "model_module": "jupyter-js-widgets",
      "model_module_version": "~2.1.4",
      "model_name": "LayoutModel",
      "state": {
       "_model_module_version": "~2.1.4",
       "_view_module_version": "~2.1.4"
      }
     },
     "7a2173397bc94b03bf991b07a77fe60f": {
      "model_module": "jupyter-js-widgets",
      "model_module_version": "~2.1.4",
      "model_name": "OutputModel",
      "state": {
       "_dom_classes": [],
       "_model_module": "jupyter-js-widgets",
       "_model_module_version": "~2.1.4",
       "_view_module": "jupyter-js-widgets",
       "_view_module_version": "~2.1.4",
       "layout": "IPY_MODEL_c458dbd04dea4225b0cbb09b7d1d47ae",
       "msg_throttle": 1
      }
     },
     "7ff058eef0e84b3c878e39fc5b9769c5": {
      "model_module": "jupyter-js-widgets",
      "model_module_version": "~2.1.4",
      "model_name": "LayoutModel",
      "state": {
       "_model_module_version": "~2.1.4",
       "_view_module_version": "~2.1.4"
      }
     },
     "88a90696da164b2f92873f5df8e911fb": {
      "model_module": "jupyter-js-widgets",
      "model_module_version": "~2.1.4",
      "model_name": "SliderStyleModel",
      "state": {
       "_model_module_version": "~2.1.4",
       "_view_module_version": "~2.1.4"
      }
     },
     "8dda4594454d4627856af45b706b1231": {
      "model_module": "jupyter-js-widgets",
      "model_module_version": "~2.1.4",
      "model_name": "SliderStyleModel",
      "state": {
       "_model_module_version": "~2.1.4",
       "_view_module_version": "~2.1.4"
      }
     },
     "965d8fdd823649d483e4b1b9f75f2a09": {
      "model_module": "jupyter-js-widgets",
      "model_module_version": "~2.1.4",
      "model_name": "VBoxModel",
      "state": {
       "_dom_classes": [
        "widget-interact"
       ],
       "_model_module_version": "~2.1.4",
       "_view_module_version": "~2.1.4",
       "children": [
        "IPY_MODEL_40ff195126784398be6e4d0ea9ac3b43",
        "IPY_MODEL_671639803dd84fe682c79ba683e60d5d"
       ],
       "layout": "IPY_MODEL_5928ea1fda9b4bb584d4f3f76d1be4c7"
      }
     },
     "97b690bd61154cefbe3d17465c30ea1e": {
      "model_module": "jupyter-js-widgets",
      "model_module_version": "~2.1.4",
      "model_name": "LayoutModel",
      "state": {
       "_model_module_version": "~2.1.4",
       "_view_module_version": "~2.1.4"
      }
     },
     "98bb57348864470ab94ae144e5f72513": {
      "model_module": "jupyter-js-widgets",
      "model_module_version": "~2.1.4",
      "model_name": "LayoutModel",
      "state": {
       "_model_module_version": "~2.1.4",
       "_view_module_version": "~2.1.4"
      }
     },
     "9d0167410dfd46758f68c8669b3cf1ea": {
      "model_module": "jupyter-js-widgets",
      "model_module_version": "~2.1.4",
      "model_name": "VBoxModel",
      "state": {
       "_dom_classes": [
        "widget-interact"
       ],
       "_model_module_version": "~2.1.4",
       "_view_module_version": "~2.1.4",
       "children": [
        "IPY_MODEL_0d0bf72016e74ac3a53ae4a4633fad0b",
        "IPY_MODEL_50882566f4b54eedad7748e3f23f149b",
        "IPY_MODEL_db45c47f534a4ec3bcce1057b57f5028"
       ],
       "layout": "IPY_MODEL_eb48fcb377f14d7587b0dfa7054c6a24"
      }
     },
     "a16f94cb2d82470c9fc8a7475667b8c0": {
      "model_module": "jupyter-js-widgets",
      "model_module_version": "~2.1.4",
      "model_name": "LayoutModel",
      "state": {
       "_model_module_version": "~2.1.4",
       "_view_module_version": "~2.1.4"
      }
     },
     "a48a7796c6c744a896e34680394e3c75": {
      "model_module": "jupyter-js-widgets",
      "model_module_version": "~2.1.4",
      "model_name": "SliderStyleModel",
      "state": {
       "_model_module_version": "~2.1.4",
       "_view_module_version": "~2.1.4"
      }
     },
     "a65c62398c4d47ce936c275f4c85d465": {
      "model_module": "jupyter-js-widgets",
      "model_module_version": "~2.1.4",
      "model_name": "LayoutModel",
      "state": {
       "_model_module_version": "~2.1.4",
       "_view_module_version": "~2.1.4"
      }
     },
     "c0c04da2623f47f1b5c6515ec8d62fd0": {
      "model_module": "jupyter-js-widgets",
      "model_module_version": "~2.1.4",
      "model_name": "VBoxModel",
      "state": {
       "_model_module_version": "~2.1.4",
       "_view_module_version": "~2.1.4",
       "children": [
        "IPY_MODEL_f8750d152e794540b57081eebc5a17f5",
        "IPY_MODEL_08f9ba3784c147968660658c1c36866d"
       ],
       "layout": "IPY_MODEL_09757502862a42a1824eb44ffcfb6ffe"
      }
     },
     "c1321b6bf99e4cf0b951a4bb4193c3f3": {
      "model_module": "jupyter-js-widgets",
      "model_module_version": "~2.1.4",
      "model_name": "LayoutModel",
      "state": {
       "_model_module_version": "~2.1.4",
       "_view_module_version": "~2.1.4"
      }
     },
     "c458dbd04dea4225b0cbb09b7d1d47ae": {
      "model_module": "jupyter-js-widgets",
      "model_module_version": "~2.1.4",
      "model_name": "LayoutModel",
      "state": {
       "_model_module_version": "~2.1.4",
       "_view_module_version": "~2.1.4"
      }
     },
     "c99fa77c7fe84c88a73e85256ba08749": {
      "model_module": "jupyter-js-widgets",
      "model_module_version": "~2.1.4",
      "model_name": "LayoutModel",
      "state": {
       "_model_module_version": "~2.1.4",
       "_view_module_version": "~2.1.4"
      }
     },
     "ca2ef69d0e004f488e91914817f9bcae": {
      "model_module": "jupyter-js-widgets",
      "model_module_version": "~2.1.4",
      "model_name": "LayoutModel",
      "state": {
       "_model_module_version": "~2.1.4",
       "_view_module_version": "~2.1.4"
      }
     },
     "ccd60534c77249aaab77b3891e93deb4": {
      "model_module": "jupyter-js-widgets",
      "model_module_version": "~2.1.4",
      "model_name": "IntSliderModel",
      "state": {
       "_model_module_version": "~2.1.4",
       "_view_module_version": "~2.1.4",
       "description": "Number of servers",
       "layout": "IPY_MODEL_d38ec392c3e644b39a6d0713dcd498f5",
       "max": 50,
       "min": 1,
       "style": "IPY_MODEL_e8ee3ed9ee7e40f1b24380fd55123914",
       "value": 14
      }
     },
     "cd92f6b2acea4917848574e40a0ddaf3": {
      "model_module": "jupyter-js-widgets",
      "model_module_version": "~2.1.4",
      "model_name": "VBoxModel",
      "state": {
       "_dom_classes": [
        "widget-interact"
       ],
       "_model_module_version": "~2.1.4",
       "_view_module_version": "~2.1.4",
       "children": [
        "IPY_MODEL_537c18d89117430fb429a99e51840cab",
        "IPY_MODEL_509d81c1e1804d37862ae1ea120ec874"
       ],
       "layout": "IPY_MODEL_4843d4fbdb094b18a74af36f347c2f9f"
      }
     },
     "d38ec392c3e644b39a6d0713dcd498f5": {
      "model_module": "jupyter-js-widgets",
      "model_module_version": "~2.1.4",
      "model_name": "LayoutModel",
      "state": {
       "_model_module_version": "~2.1.4",
       "_view_module_version": "~2.1.4"
      }
     },
     "db45c47f534a4ec3bcce1057b57f5028": {
      "model_module": "jupyter-js-widgets",
      "model_module_version": "~2.1.4",
      "model_name": "OutputModel",
      "state": {
       "_dom_classes": [],
       "_model_module": "jupyter-js-widgets",
       "_model_module_version": "~2.1.4",
       "_view_module": "jupyter-js-widgets",
       "_view_module_version": "~2.1.4",
       "layout": "IPY_MODEL_c1321b6bf99e4cf0b951a4bb4193c3f3",
       "msg_throttle": 1
      }
     },
     "e2790d117cf14e7d9e81c87de3284cda": {
      "model_module": "jupyter-js-widgets",
      "model_module_version": "~2.1.4",
      "model_name": "VBoxModel",
      "state": {
       "_dom_classes": [
        "widget-interact"
       ],
       "_model_module_version": "~2.1.4",
       "_view_module_version": "~2.1.4",
       "children": [
        "IPY_MODEL_0d0bf72016e74ac3a53ae4a4633fad0b",
        "IPY_MODEL_50882566f4b54eedad7748e3f23f149b",
        "IPY_MODEL_0db7ca3200ff494fafea8aaee773803e"
       ],
       "layout": "IPY_MODEL_ca2ef69d0e004f488e91914817f9bcae"
      }
     },
     "e3a962c57bf7444e8ff7191eff061987": {
      "model_module": "jupyter-js-widgets",
      "model_module_version": "~2.1.4",
      "model_name": "LayoutModel",
      "state": {
       "_model_module_version": "~2.1.4",
       "_view_module_version": "~2.1.4"
      }
     },
     "e42e2caaeb0e4025838ac17aa81db7e7": {
      "model_module": "jupyter-js-widgets",
      "model_module_version": "~2.1.4",
      "model_name": "LayoutModel",
      "state": {
       "_model_module_version": "~2.1.4",
       "_view_module_version": "~2.1.4"
      }
     },
     "e65a165b571d41918ab7ec9c00de3e9e": {
      "model_module": "jupyter-js-widgets",
      "model_module_version": "~2.1.4",
      "model_name": "OutputModel",
      "state": {
       "_dom_classes": [],
       "_model_module": "jupyter-js-widgets",
       "_model_module_version": "~2.1.4",
       "_view_module": "jupyter-js-widgets",
       "_view_module_version": "~2.1.4",
       "layout": "IPY_MODEL_3d8fc3ee2a234f9ea8e6f9bc4eef81e0",
       "msg_throttle": 1
      }
     },
     "e8cbb467cc2843aa91dad853f8548cf4": {
      "model_module": "jupyter-js-widgets",
      "model_module_version": "~2.1.4",
      "model_name": "LayoutModel",
      "state": {
       "_model_module_version": "~2.1.4",
       "_view_module_version": "~2.1.4"
      }
     },
     "e8ee3ed9ee7e40f1b24380fd55123914": {
      "model_module": "jupyter-js-widgets",
      "model_module_version": "~2.1.4",
      "model_name": "SliderStyleModel",
      "state": {
       "_model_module_version": "~2.1.4",
       "_view_module_version": "~2.1.4"
      }
     },
     "e9b988ed551d49a19c162de0e1069faf": {
      "model_module": "jupyter-js-widgets",
      "model_module_version": "~2.1.4",
      "model_name": "LayoutModel",
      "state": {
       "_model_module_version": "~2.1.4",
       "_view_module_version": "~2.1.4"
      }
     },
     "eb48fcb377f14d7587b0dfa7054c6a24": {
      "model_module": "jupyter-js-widgets",
      "model_module_version": "~2.1.4",
      "model_name": "LayoutModel",
      "state": {
       "_model_module_version": "~2.1.4",
       "_view_module_version": "~2.1.4"
      }
     },
     "f6e456a9b32d4a8182879207d9b55886": {
      "model_module": "jupyter-js-widgets",
      "model_module_version": "~2.1.4",
      "model_name": "OutputModel",
      "state": {
       "_dom_classes": [],
       "_model_module": "jupyter-js-widgets",
       "_model_module_version": "~2.1.4",
       "_view_module": "jupyter-js-widgets",
       "_view_module_version": "~2.1.4",
       "layout": "IPY_MODEL_72820f6eced24fc6bd4dbfd7c6e7f0fe",
       "msg_throttle": 1
      }
     },
     "f8750d152e794540b57081eebc5a17f5": {
      "model_module": "jupyter-js-widgets",
      "model_module_version": "~2.1.4",
      "model_name": "IntTextModel",
      "state": {
       "_model_module_version": "~2.1.4",
       "_view_module_version": "~2.1.4",
       "description": "Servers for M/M/c:",
       "disabled": true,
       "layout": "IPY_MODEL_23979bffe43b4d2b86a6c71a216dea9b",
       "value": 34
      }
     },
     "fd23513f726d4e5db63edc25312e17a9": {
      "model_module": "jupyter-js-widgets",
      "model_module_version": "~2.1.4",
      "model_name": "TextModel",
      "state": {
       "_model_module_version": "~2.1.4",
       "_view_module_version": "~2.1.4",
       "description": "P[loss] in M/G/c/c:",
       "disabled": true,
       "layout": "IPY_MODEL_42a43bdaef114389a5d11c459c4cb4ce",
       "value": "0.1367"
      }
     },
     "fe1dd2ff49bc49279166242d6463366a": {
      "model_module": "jupyter-js-widgets",
      "model_module_version": "~2.1.4",
      "model_name": "LayoutModel",
      "state": {
       "_model_module_version": "~2.1.4",
       "_view_module_version": "~2.1.4"
      }
     }
    },
    "version_major": 1,
    "version_minor": 0
   }
  }
 },
 "nbformat": 4,
 "nbformat_minor": 4
}
